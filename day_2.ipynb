{
  "nbformat": 4,
  "nbformat_minor": 0,
  "metadata": {
    "language_info": {
      "codemirror_mode": {
        "name": "ipython",
        "version": 3
      },
      "file_extension": ".py",
      "mimetype": "text/x-python",
      "name": "python",
      "nbconvert_exporter": "python",
      "pygments_lexer": "ipython3",
      "version": "3.8.5"
    },
    "orig_nbformat": 4,
    "kernelspec": {
      "name": "python3",
      "display_name": "Python 3.8.5 64-bit ('myenv': conda)"
    },
    "interpreter": {
      "hash": "f5c9dfabb21bd2a91b63810df81acbdc6b5e617e45414f0ef050ca96090c868f"
    },
    "colab": {
      "name": "day_2.ipynb",
      "provenance": []
    }
  },
  "cells": [
    {
      "cell_type": "markdown",
      "metadata": {
        "id": "zZhsVHC3u1rT"
      },
      "source": [
        "# Welcome to Day 2! \n",
        "\n",
        "## Opening, closing, and saving sequence files with Biopython\n",
        "\n",
        "### Section 1: Lists and for loops\n",
        "\n",
        "### Section 2: Opening sequence files with Biopython\n",
        "\n",
        "### Section 3: Saving sequences to files\n",
        "\n",
        "### Section 4: Looping through multiple sequence files\n",
        "\n",
        "---\n",
        "\n",
        "## Session summary\n",
        "\n",
        "We begin our second session by reviewing some very important and basic Python concepts: lists and functions. Afterwards, we apply these concepts when we use Biopython to open fasta files, modify their sequences and gene names, and save our modified sequences to new files. \n",
        "\n",
        "---"
      ]
    },
    {
      "cell_type": "markdown",
      "metadata": {
        "id": "ZnTqPxnvu1rV"
      },
      "source": [
        "---\n",
        "## For Google colab users only\n",
        "\n",
        "Run the following commands"
      ]
    },
    {
      "cell_type": "code",
      "metadata": {
        "colab": {
          "base_uri": "https://localhost:8080/"
        },
        "id": "lED5HYvXu1rW",
        "outputId": "3d39aa2a-6374-4fa2-fc00-79e01a1d7954"
      },
      "source": [
        "pip install Biopython"
      ],
      "execution_count": 29,
      "outputs": [
        {
          "output_type": "stream",
          "text": [
            "Collecting Biopython\n",
            "  Downloading biopython-1.79-cp37-cp37m-manylinux_2_5_x86_64.manylinux1_x86_64.whl (2.3 MB)\n",
            "\u001b[K     |████████████████████████████████| 2.3 MB 4.0 MB/s \n",
            "\u001b[?25hRequirement already satisfied: numpy in /usr/local/lib/python3.7/dist-packages (from Biopython) (1.19.5)\n",
            "Installing collected packages: Biopython\n",
            "Successfully installed Biopython-1.79\n"
          ],
          "name": "stdout"
        }
      ]
    },
    {
      "cell_type": "code",
      "metadata": {
        "colab": {
          "base_uri": "https://localhost:8080/"
        },
        "id": "37Rt4lQXu1rW",
        "outputId": "7ec220fc-0bf7-4e0a-a35d-4a52221baf3f"
      },
      "source": [
        "!wget https://raw.githubusercontent.com/agmcfarland/biopython_workshop/master/antibiotic_resistance_genes_short.fasta\n",
        "!wget https://raw.githubusercontent.com/agmcfarland/biopython_workshop/master/antibiotic_resistance_genes_short_2.fasta\n",
        "!wget https://raw.githubusercontent.com/agmcfarland/biopython_workshop/master/antibiotic_resistance_genes_short_3.fasta"
      ],
      "execution_count": 32,
      "outputs": [
        {
          "output_type": "stream",
          "text": [
            "--2021-07-20 21:25:20--  https://raw.githubusercontent.com/agmcfarland/biopython_workshop/master/antibiotic_resistance_genes_short.fasta\n",
            "Resolving raw.githubusercontent.com (raw.githubusercontent.com)... 185.199.108.133, 185.199.109.133, 185.199.110.133, ...\n",
            "Connecting to raw.githubusercontent.com (raw.githubusercontent.com)|185.199.108.133|:443... connected.\n",
            "HTTP request sent, awaiting response... 200 OK\n",
            "Length: 2799 (2.7K) [text/plain]\n",
            "Saving to: ‘antibiotic_resistance_genes_short.fasta’\n",
            "\n",
            "\r          antibioti   0%[                    ]       0  --.-KB/s               \rantibiotic_resistan 100%[===================>]   2.73K  --.-KB/s    in 0s      \n",
            "\n",
            "2021-07-20 21:25:21 (32.1 MB/s) - ‘antibiotic_resistance_genes_short.fasta’ saved [2799/2799]\n",
            "\n",
            "--2021-07-20 21:25:21--  https://raw.githubusercontent.com/agmcfarland/biopython_workshop/master/antibiotic_resistance_genes_short_2.fasta\n",
            "Resolving raw.githubusercontent.com (raw.githubusercontent.com)... 185.199.108.133, 185.199.109.133, 185.199.110.133, ...\n",
            "Connecting to raw.githubusercontent.com (raw.githubusercontent.com)|185.199.108.133|:443... connected.\n",
            "HTTP request sent, awaiting response... 200 OK\n",
            "Length: 2789 (2.7K) [text/plain]\n",
            "Saving to: ‘antibiotic_resistance_genes_short_2.fasta’\n",
            "\n",
            "antibiotic_resistan 100%[===================>]   2.72K  --.-KB/s    in 0s      \n",
            "\n",
            "2021-07-20 21:25:21 (40.2 MB/s) - ‘antibiotic_resistance_genes_short_2.fasta’ saved [2789/2789]\n",
            "\n",
            "--2021-07-20 21:25:21--  https://raw.githubusercontent.com/agmcfarland/biopython_workshop/master/antibiotic_resistance_genes_short_3.fasta\n",
            "Resolving raw.githubusercontent.com (raw.githubusercontent.com)... 185.199.108.133, 185.199.109.133, 185.199.110.133, ...\n",
            "Connecting to raw.githubusercontent.com (raw.githubusercontent.com)|185.199.108.133|:443... connected.\n",
            "HTTP request sent, awaiting response... 200 OK\n",
            "Length: 2791 (2.7K) [text/plain]\n",
            "Saving to: ‘antibiotic_resistance_genes_short_3.fasta’\n",
            "\n",
            "antibiotic_resistan 100%[===================>]   2.73K  --.-KB/s    in 0s      \n",
            "\n",
            "2021-07-20 21:25:21 (36.6 MB/s) - ‘antibiotic_resistance_genes_short_3.fasta’ saved [2791/2791]\n",
            "\n"
          ],
          "name": "stdout"
        }
      ]
    },
    {
      "cell_type": "markdown",
      "metadata": {
        "id": "_POzRWGGu1rX"
      },
      "source": [
        "--- \n",
        "# Section 1: Lists and for loops\n",
        "\n",
        "Lists and for loops are two very important Python concepts that are useful to know when using Biopython. \n",
        "\n",
        "**Having a solid understanding of the basics of lists and for loops will solve 95% of all your programming needs**\n",
        "\n",
        "We will briefly go over them prior to their use in Biopython.\n",
        "\n",
        "We remember from Day 1 that a string are any characters between a quote (`''`) or double quote (`\"\"`).\n",
        "\n",
        "A **list** can be characters or integers, or a mix of the two, separated by commas and flanked by brackets (`[]`)"
      ]
    },
    {
      "cell_type": "code",
      "metadata": {
        "id": "Vm-KFhEUu1rX"
      },
      "source": [
        "list1 = ['this', 'is', 'a', 'list']"
      ],
      "execution_count": 1,
      "outputs": []
    },
    {
      "cell_type": "markdown",
      "metadata": {
        "id": "EoKdSadgu1rX"
      },
      "source": [
        "Let's examine `list1`"
      ]
    },
    {
      "cell_type": "code",
      "metadata": {
        "colab": {
          "base_uri": "https://localhost:8080/"
        },
        "id": "AqdKE9Txu1rY",
        "outputId": "f4286677-b916-4767-f81c-f838b6acab43"
      },
      "source": [
        "# the type of object list1 is\n",
        "type(list1)"
      ],
      "execution_count": 2,
      "outputs": [
        {
          "output_type": "execute_result",
          "data": {
            "text/plain": [
              "list"
            ]
          },
          "metadata": {
            "tags": []
          },
          "execution_count": 2
        }
      ]
    },
    {
      "cell_type": "code",
      "metadata": {
        "colab": {
          "base_uri": "https://localhost:8080/"
        },
        "id": "nt9xdNLRu1rY",
        "outputId": "b0bd5e37-a19a-47a6-b7e9-68cc7c165958"
      },
      "source": [
        "# the contents of list1\n",
        "list1"
      ],
      "execution_count": 3,
      "outputs": [
        {
          "output_type": "execute_result",
          "data": {
            "text/plain": [
              "['this', 'is', 'a', 'list']"
            ]
          },
          "metadata": {
            "tags": []
          },
          "execution_count": 3
        }
      ]
    },
    {
      "cell_type": "markdown",
      "metadata": {
        "id": "Zx0nxBJju1rZ"
      },
      "source": [
        "`list2` contains a mix of integers and strings"
      ]
    },
    {
      "cell_type": "code",
      "metadata": {
        "id": "RMRuzonSu1rZ"
      },
      "source": [
        "list2 = ['this', 1, 'is', 2, 'also', 3, 'a', 'list', 4,5]"
      ],
      "execution_count": 4,
      "outputs": []
    },
    {
      "cell_type": "code",
      "metadata": {
        "colab": {
          "base_uri": "https://localhost:8080/"
        },
        "id": "hd9W11huu1rZ",
        "outputId": "841d85bd-67f5-4c8a-a922-64fbf8d0c71d"
      },
      "source": [
        "# the type of object list2 is\n",
        "type(list2)"
      ],
      "execution_count": 5,
      "outputs": [
        {
          "output_type": "execute_result",
          "data": {
            "text/plain": [
              "list"
            ]
          },
          "metadata": {
            "tags": []
          },
          "execution_count": 5
        }
      ]
    },
    {
      "cell_type": "code",
      "metadata": {
        "colab": {
          "base_uri": "https://localhost:8080/"
        },
        "id": "UeXpimv_u1rZ",
        "outputId": "8f6bfb8a-0e68-4fd0-aea8-55787d334942"
      },
      "source": [
        "# the contents of list2\n",
        "list2"
      ],
      "execution_count": 6,
      "outputs": [
        {
          "output_type": "execute_result",
          "data": {
            "text/plain": [
              "['this', 1, 'is', 2, 'also', 3, 'a', 'list', 4, 5]"
            ]
          },
          "metadata": {
            "tags": []
          },
          "execution_count": 6
        }
      ]
    },
    {
      "cell_type": "markdown",
      "metadata": {
        "id": "8TtEFEKbu1ra"
      },
      "source": [
        "---\n",
        "### Exercise 1a\n",
        "\n",
        "Create a `list` of the numbers `1`,`2`,`3`,`4` and assign it to `list3`\n"
      ]
    },
    {
      "cell_type": "code",
      "metadata": {
        "colab": {
          "base_uri": "https://localhost:8080/"
        },
        "id": "1lte1m5Nu1ra",
        "outputId": "b33c3979-4e12-4858-8b17-128c1cbc6618"
      },
      "source": [
        "list3 = [1,2,3,4]\n",
        "list3"
      ],
      "execution_count": 7,
      "outputs": [
        {
          "output_type": "execute_result",
          "data": {
            "text/plain": [
              "[1, 2, 3, 4]"
            ]
          },
          "metadata": {
            "tags": []
          },
          "execution_count": 7
        }
      ]
    },
    {
      "cell_type": "markdown",
      "metadata": {
        "id": "9Wt6UfTKu1ra"
      },
      "source": [
        "### Exercise 1b\n",
        "Create a `list` of numbers `1`,`2` and characters `'one'`, `'two'` and assign it to `list4`"
      ]
    },
    {
      "cell_type": "code",
      "metadata": {
        "colab": {
          "base_uri": "https://localhost:8080/"
        },
        "id": "Xv8xJOzZu1ra",
        "outputId": "6a4d34e7-ea11-4ff0-a1f5-41bb91f57315"
      },
      "source": [
        "list4 = [1,2, 'one', 'two']\n",
        "list4"
      ],
      "execution_count": 8,
      "outputs": [
        {
          "output_type": "execute_result",
          "data": {
            "text/plain": [
              "[1, 2, 'one', 'two']"
            ]
          },
          "metadata": {
            "tags": []
          },
          "execution_count": 8
        }
      ]
    },
    {
      "cell_type": "markdown",
      "metadata": {
        "id": "F3ZDEPGgu1ra"
      },
      "source": [
        "---\n",
        "\n",
        "We can access specific items in a list using their position in the list using brackets\n"
      ]
    },
    {
      "cell_type": "code",
      "metadata": {
        "id": "hMvJVpbAu1rb"
      },
      "source": [
        "list5 = ['this', 'is', 'a', 'list', 5]"
      ],
      "execution_count": 9,
      "outputs": []
    },
    {
      "cell_type": "code",
      "metadata": {
        "colab": {
          "base_uri": "https://localhost:8080/",
          "height": 35
        },
        "id": "l3R_gqV5u1rb",
        "outputId": "d8e8fad7-d064-4ac7-a853-46788db55dbe"
      },
      "source": [
        "# select the first item in list\n",
        "list5[0]"
      ],
      "execution_count": 10,
      "outputs": [
        {
          "output_type": "execute_result",
          "data": {
            "application/vnd.google.colaboratory.intrinsic+json": {
              "type": "string"
            },
            "text/plain": [
              "'this'"
            ]
          },
          "metadata": {
            "tags": []
          },
          "execution_count": 10
        }
      ]
    },
    {
      "cell_type": "code",
      "metadata": {
        "colab": {
          "base_uri": "https://localhost:8080/"
        },
        "id": "whAb_V__u1rb",
        "outputId": "2333fd4f-cc5a-4565-d1a0-715edf076ffb"
      },
      "source": [
        "# select the second and third item in list\n",
        "list5[1:3]"
      ],
      "execution_count": 11,
      "outputs": [
        {
          "output_type": "execute_result",
          "data": {
            "text/plain": [
              "['is', 'a']"
            ]
          },
          "metadata": {
            "tags": []
          },
          "execution_count": 11
        }
      ]
    },
    {
      "cell_type": "code",
      "metadata": {
        "colab": {
          "base_uri": "https://localhost:8080/"
        },
        "id": "StqX39uBu1rb",
        "outputId": "6f2dd4e4-0344-493b-8598-f731a7375141"
      },
      "source": [
        "# select all items starting at the third item\n",
        "list5[2:]"
      ],
      "execution_count": 12,
      "outputs": [
        {
          "output_type": "execute_result",
          "data": {
            "text/plain": [
              "['a', 'list', 5]"
            ]
          },
          "metadata": {
            "tags": []
          },
          "execution_count": 12
        }
      ]
    },
    {
      "cell_type": "markdown",
      "metadata": {
        "id": "pT_47beWu1rb"
      },
      "source": [
        "**Remeber that in Python, counting includes 0.**"
      ]
    },
    {
      "cell_type": "markdown",
      "metadata": {
        "id": "15sP83YZu1rb"
      },
      "source": [
        "---\n",
        "### Exercise 2a\n",
        "\n",
        "Select the last member of `list6`"
      ]
    },
    {
      "cell_type": "code",
      "metadata": {
        "colab": {
          "base_uri": "https://localhost:8080/",
          "height": 35
        },
        "id": "u4aRnoFku1rb",
        "outputId": "3e6ba915-79ab-4fa3-a9a1-e9f17df9c9e3"
      },
      "source": [
        "list6 = ['i','am','a','beautiful','list']\n",
        "list6[4]"
      ],
      "execution_count": 13,
      "outputs": [
        {
          "output_type": "execute_result",
          "data": {
            "application/vnd.google.colaboratory.intrinsic+json": {
              "type": "string"
            },
            "text/plain": [
              "'list'"
            ]
          },
          "metadata": {
            "tags": []
          },
          "execution_count": 13
        }
      ]
    },
    {
      "cell_type": "markdown",
      "metadata": {
        "id": "6sMUCkGQu1rc"
      },
      "source": [
        "### Exercise 2b\n",
        "Select the second through fourth members of `list6`"
      ]
    },
    {
      "cell_type": "code",
      "metadata": {
        "colab": {
          "base_uri": "https://localhost:8080/"
        },
        "id": "jXNWzdj0u1rc",
        "outputId": "bea00c32-4750-4dca-bd89-0e9e1d495352"
      },
      "source": [
        "list6[1:5]"
      ],
      "execution_count": 15,
      "outputs": [
        {
          "output_type": "execute_result",
          "data": {
            "text/plain": [
              "['am', 'a', 'beautiful', 'list']"
            ]
          },
          "metadata": {
            "tags": []
          },
          "execution_count": 15
        }
      ]
    },
    {
      "cell_type": "markdown",
      "metadata": {
        "id": "PuNpvMb5u1rc"
      },
      "source": [
        "---\n",
        "Now that we understand the basics of lists, we can next discuss for loops.\n",
        "\n",
        "A for loop is a loop that goes through each item in a list until the list ends"
      ]
    },
    {
      "cell_type": "code",
      "metadata": {
        "colab": {
          "base_uri": "https://localhost:8080/"
        },
        "id": "KZtO5VHyu1rc",
        "outputId": "2192ee4b-d40a-487e-c5d0-31cd5c0f787b"
      },
      "source": [
        "list7 = ['i','am','a','very','beautiful','list']\n",
        "\n",
        "# for each item in list7, print the item\n",
        "for item in list7:\n",
        "    print(item)"
      ],
      "execution_count": 16,
      "outputs": [
        {
          "output_type": "stream",
          "text": [
            "i\n",
            "am\n",
            "a\n",
            "very\n",
            "beautiful\n",
            "list\n"
          ],
          "name": "stdout"
        }
      ]
    },
    {
      "cell_type": "markdown",
      "metadata": {
        "id": "rw04lURPu1rc"
      },
      "source": [
        "We can do things to each itemn in the list, but the list will remain unchanged\n"
      ]
    },
    {
      "cell_type": "code",
      "metadata": {
        "colab": {
          "base_uri": "https://localhost:8080/"
        },
        "id": "QloqRSnOu1rc",
        "outputId": "919bdcc1-e7a4-4691-a746-f43c593fff2e"
      },
      "source": [
        "for item in list7:\n",
        "    print(item + ' wow!')"
      ],
      "execution_count": 17,
      "outputs": [
        {
          "output_type": "stream",
          "text": [
            "i wow!\n",
            "am wow!\n",
            "a wow!\n",
            "very wow!\n",
            "beautiful wow!\n",
            "list wow!\n"
          ],
          "name": "stdout"
        }
      ]
    },
    {
      "cell_type": "code",
      "metadata": {
        "colab": {
          "base_uri": "https://localhost:8080/"
        },
        "id": "JgrR4sAiu1rc",
        "outputId": "ee71218b-d2d6-4264-80da-f3ba79a409ba"
      },
      "source": [
        "\n",
        "print(list7)"
      ],
      "execution_count": 18,
      "outputs": [
        {
          "output_type": "stream",
          "text": [
            "['i', 'am', 'a', 'very', 'beautiful', 'list']\n"
          ],
          "name": "stdout"
        }
      ]
    },
    {
      "cell_type": "markdown",
      "metadata": {
        "id": "XFF2ARWBu1rc"
      },
      "source": [
        "Sometimes when we print things in a for loop, we like things to be a little clearer. We can `print()` and empty line `'\\n'` after each loop like so"
      ]
    },
    {
      "cell_type": "code",
      "metadata": {
        "colab": {
          "base_uri": "https://localhost:8080/"
        },
        "id": "xO1wGPa6u1rd",
        "outputId": "944df71c-8334-40bb-e19f-bb7318d5373b"
      },
      "source": [
        "for item in list7:\n",
        "    print(item)\n",
        "    print('\\n')"
      ],
      "execution_count": 19,
      "outputs": [
        {
          "output_type": "stream",
          "text": [
            "i\n",
            "\n",
            "\n",
            "am\n",
            "\n",
            "\n",
            "a\n",
            "\n",
            "\n",
            "very\n",
            "\n",
            "\n",
            "beautiful\n",
            "\n",
            "\n",
            "list\n",
            "\n",
            "\n"
          ],
          "name": "stdout"
        }
      ]
    },
    {
      "cell_type": "markdown",
      "metadata": {
        "id": "Uy-haFTWu1rd"
      },
      "source": [
        "---\n",
        "### Exercise 3a\n",
        "\n",
        "Make a variable called `list7` contaning the items `'element0'`,`'element1'`,`'element2'`,`'element3'`,`'element4'`. \n",
        "\n",
        "Use a `for` loop to `print()` each `item` in `list7`."
      ]
    },
    {
      "cell_type": "code",
      "metadata": {
        "colab": {
          "base_uri": "https://localhost:8080/"
        },
        "id": "4wQtomLfu1rd",
        "outputId": "186b392d-81f1-4134-daf8-4407e9f7eae3"
      },
      "source": [
        "list7 = ['element0','element1','element2','element3','element4']\n",
        "\n",
        "for item in list7:\n",
        "    print(item)"
      ],
      "execution_count": 20,
      "outputs": [
        {
          "output_type": "stream",
          "text": [
            "element0\n",
            "element1\n",
            "element2\n",
            "element3\n",
            "element4\n"
          ],
          "name": "stdout"
        }
      ]
    },
    {
      "cell_type": "markdown",
      "metadata": {
        "id": "OZJ-HLNpu1rd"
      },
      "source": [
        "### Exercise 3b\n",
        "Use `print()` after adding the `'!!!'` string to each `item` in `list7` \n",
        "`print()` an empty line as well\n"
      ]
    },
    {
      "cell_type": "code",
      "metadata": {
        "colab": {
          "base_uri": "https://localhost:8080/"
        },
        "id": "gQLPsNSpu1rd",
        "outputId": "b9c8a027-734e-4287-a0c1-d4268908ef55"
      },
      "source": [
        "for item in list7:\n",
        "    print(item + '!!!')\n",
        "    print('\\n')"
      ],
      "execution_count": 21,
      "outputs": [
        {
          "output_type": "stream",
          "text": [
            "element0!!!\n",
            "\n",
            "\n",
            "element1!!!\n",
            "\n",
            "\n",
            "element2!!!\n",
            "\n",
            "\n",
            "element3!!!\n",
            "\n",
            "\n",
            "element4!!!\n",
            "\n",
            "\n"
          ],
          "name": "stdout"
        }
      ]
    },
    {
      "cell_type": "markdown",
      "metadata": {
        "id": "FPUGLMtIu1rd"
      },
      "source": [
        "---"
      ]
    },
    {
      "cell_type": "markdown",
      "metadata": {
        "id": "67B4rs9Du1rd"
      },
      "source": [
        "Biological sequences are often stored in lists.\n",
        "\n",
        "Let's look at how a two sequences in [fasta format](https://github.com/agmcfarland/biopython_workshop#fasta) would look like in a list. A sequence may have its contents be split over multiple items in a list.\n"
      ]
    },
    {
      "cell_type": "code",
      "metadata": {
        "id": "AvhhShmHu1rd"
      },
      "source": [
        "# small_fast_list has only four items within it (count it!)\n",
        "small_fasta_list = [\n",
        "'>ErmB AAF86219.1 [Enterococcus faecium]',\n",
        "'ATGAATAAAAATATTAAATATTCACAAAATTTTCTGACATCAGAAAAAGTTCTGAATCAAATTATTAAACAACTGAATCTGAAAGAAACAGATACAGTTTATGAAATTGGCACAGGCAAAGGCCATCTGACAACAAAACTGGCAAAAATTTCAAAACAAGTTACATCAATTGAACTGGATTCAC','ATCTGTTTAATCTGTCATCAGAAAAACTGAAACTGAATACAAGAGTTACACTGATTCATCAAGATATTCTGCAATTTCAATTTCCGAATAAACAAAGATATAAAATTGTTGGCTCAATTCCGTATAATCTGTCAACACAAATTATTAAAAAAGTTGTTTTTGAATCAAGAGCATCAGATATTTA','TCTGATTGTTGAAGAAGGCTTTTATAAAAGAACACTGGATATTCATAGAACACTGGGCCTGCTGCTGCATACACAAGTTTCAATTCAACAACTGCTGAAACTGCCGGCAGAATGCTTTCATCCGAAACCGAAAGTTAATTCAGTTCTGATTAAACTGACAAGACATACAACGATGTTCCGGATA','AATATTGGAAACTGTATACATATTTTGTTTCAAAATGGGTTAATAGAGAATATAGACAACTGTTTACAAAAAATCAATTTCATCAAGCAATGAAACATGCAAAAGTTAATAATCTGTCAACAATTACATATGAACAAGTTCTGTCAATTTTTAATTCATATCTGCTGTTTAATGGCAGAAAACT',\n",
        "'GATTCTG',\n",
        "'>ErmA CAA26964.1 [Staphylococcus aureus]',\n",
        "'ATGAATCAAAAAAATCCGAAAGATACACAAAATTTTATTACATCAAAAAAACATGTTAAAGAAATTCTGAATCATACAAATATTTCAAAACAAGATAATGTTATTGAAATTGGCTCAGGCAAAGGCCATTTTACAAAAGAACTGGTTAAAATGTCAAGATCAGTTACAGCAATTGAAATTGATG','GCGGCCTGTGCCAAGTTACAAAAGAAGCAGTTAATCCGTCAGAAAATATTAAAGTTATTCAAACAGATATTCTGAAATTTTCATTTCCGAAACATATTAATTATAAAATTTATGGCAATATTCCGTATAATATTTCAACAGATATTGTTAAAAGAATTACATTTGAATCACAAGCAAAATATTC','ATATCTGATTGTTGAAAAAGGCTTTGCAAAAAGACTGCAAAATCTGCAAAGAGCACTGGGCCTGCTGCTGATGGTTGAAATGGATATTAAAATGCTGAAAAAAGTTCCGCCGCTGTATTTTCATCCGAAACCGTCAGTTGATTCAGTTCTGATTGTTCTGGAAAGACATCAACCGCTGATTTCA',\n",
        "'AAAAAAGATTATAAAAAATATAGATCATTTGTTTATAAATGGGTTAATAGAGAATATAGAGTTCTGTTTACAAAAAATCAATTTAGACAAGCACTGAAACATGCAAATGTTACAAATATTAATAAACTGTCAAAAGAACAATTTCTGTCAATTTTTAATTCATATAAACTGTTTCAT']"
      ],
      "execution_count": 23,
      "outputs": []
    },
    {
      "cell_type": "markdown",
      "metadata": {
        "id": "wCvQbt3mu1re"
      },
      "source": [
        "If we print each item in a for loop, things look a little more clean."
      ]
    },
    {
      "cell_type": "code",
      "metadata": {
        "colab": {
          "base_uri": "https://localhost:8080/"
        },
        "id": "RqSZNVIsu1re",
        "outputId": "ea99deec-92e8-4ced-ba33-a642295cf7c5"
      },
      "source": [
        "for item in small_fasta_list:\n",
        "    print(item)"
      ],
      "execution_count": 24,
      "outputs": [
        {
          "output_type": "stream",
          "text": [
            ">ErmB AAF86219.1 [Enterococcus faecium]\n",
            "ATGAATAAAAATATTAAATATTCACAAAATTTTCTGACATCAGAAAAAGTTCTGAATCAAATTATTAAACAACTGAATCTGAAAGAAACAGATACAGTTTATGAAATTGGCACAGGCAAAGGCCATCTGACAACAAAACTGGCAAAAATTTCAAAACAAGTTACATCAATTGAACTGGATTCAC\n",
            "ATCTGTTTAATCTGTCATCAGAAAAACTGAAACTGAATACAAGAGTTACACTGATTCATCAAGATATTCTGCAATTTCAATTTCCGAATAAACAAAGATATAAAATTGTTGGCTCAATTCCGTATAATCTGTCAACACAAATTATTAAAAAAGTTGTTTTTGAATCAAGAGCATCAGATATTTA\n",
            "TCTGATTGTTGAAGAAGGCTTTTATAAAAGAACACTGGATATTCATAGAACACTGGGCCTGCTGCTGCATACACAAGTTTCAATTCAACAACTGCTGAAACTGCCGGCAGAATGCTTTCATCCGAAACCGAAAGTTAATTCAGTTCTGATTAAACTGACAAGACATACAACGATGTTCCGGATA\n",
            "AATATTGGAAACTGTATACATATTTTGTTTCAAAATGGGTTAATAGAGAATATAGACAACTGTTTACAAAAAATCAATTTCATCAAGCAATGAAACATGCAAAAGTTAATAATCTGTCAACAATTACATATGAACAAGTTCTGTCAATTTTTAATTCATATCTGCTGTTTAATGGCAGAAAACT\n",
            "GATTCTG\n",
            ">ErmA CAA26964.1 [Staphylococcus aureus]\n",
            "ATGAATCAAAAAAATCCGAAAGATACACAAAATTTTATTACATCAAAAAAACATGTTAAAGAAATTCTGAATCATACAAATATTTCAAAACAAGATAATGTTATTGAAATTGGCTCAGGCAAAGGCCATTTTACAAAAGAACTGGTTAAAATGTCAAGATCAGTTACAGCAATTGAAATTGATG\n",
            "GCGGCCTGTGCCAAGTTACAAAAGAAGCAGTTAATCCGTCAGAAAATATTAAAGTTATTCAAACAGATATTCTGAAATTTTCATTTCCGAAACATATTAATTATAAAATTTATGGCAATATTCCGTATAATATTTCAACAGATATTGTTAAAAGAATTACATTTGAATCACAAGCAAAATATTC\n",
            "ATATCTGATTGTTGAAAAAGGCTTTGCAAAAAGACTGCAAAATCTGCAAAGAGCACTGGGCCTGCTGCTGATGGTTGAAATGGATATTAAAATGCTGAAAAAAGTTCCGCCGCTGTATTTTCATCCGAAACCGTCAGTTGATTCAGTTCTGATTGTTCTGGAAAGACATCAACCGCTGATTTCA\n",
            "AAAAAAGATTATAAAAAATATAGATCATTTGTTTATAAATGGGTTAATAGAGAATATAGAGTTCTGTTTACAAAAAATCAATTTAGACAAGCACTGAAACATGCAAATGTTACAAATATTAATAAACTGTCAAAAGAACAATTTCTGTCAATTTTTAATTCATATAAACTGTTTCAT\n"
          ],
          "name": "stdout"
        }
      ]
    },
    {
      "cell_type": "markdown",
      "metadata": {
        "id": "9DfJzuOCu1re"
      },
      "source": [
        "Biopython will basically be converting a fasta file into a list like the one above, **except** that the header and the sequences below it will be treated as a SINGLE object. In that object, you will be able to access all sorts of information and manipulate it with specific functions."
      ]
    },
    {
      "cell_type": "markdown",
      "metadata": {
        "id": "A6OswzhBu1re"
      },
      "source": [
        "# Section 2: Opening files with Biopython\n",
        "\n",
        "In Day 1 we worked with only one sequence at a time. But the reality is that you will work with many (sometimes millions!) of sequences. Biopython can read .fasta and .gbk files and streamline the process. "
      ]
    },
    {
      "cell_type": "markdown",
      "metadata": {
        "id": "45DQDeQOu1rf"
      },
      "source": [
        "Opening the fasta file,  antibiotic_resistance_genes_short.fasta file in **base** Python results in aingle list containing headers and sequences."
      ]
    },
    {
      "cell_type": "code",
      "metadata": {
        "tags": [],
        "id": "-yc0qWxbu1rf"
      },
      "source": [
        "# opening the file\n",
        "my_file = open('antibiotic_resistance_genes_short.fasta')\n",
        "\n",
        "# reading in all the lines and storing them to the variable `file_lines`\n",
        "file_lines = my_file.readlines()\n",
        "\n",
        "# closing the file\n",
        "my_file.close()"
      ],
      "execution_count": 33,
      "outputs": []
    },
    {
      "cell_type": "code",
      "metadata": {
        "colab": {
          "base_uri": "https://localhost:8080/"
        },
        "id": "ndMhFBsRu1rf",
        "outputId": "a7d2ab03-a6d6-4125-af3e-bfee94cfc963"
      },
      "source": [
        "# all lines\n",
        "file_lines"
      ],
      "execution_count": 34,
      "outputs": [
        {
          "output_type": "execute_result",
          "data": {
            "text/plain": [
              "['>ErmB AAF86219.1 [Enterococcus faecium]\\n',\n",
              " 'ATGAATAAAAATATTAAATATTCACAAAATTTTCTGACATCAGAAAAAGTTCTGAATCAA\\n',\n",
              " 'ATTATTAAACAACTGAATCTGAAAGAAACAGATACAGTTTATGAAATTGGCACAGGCAAA\\n',\n",
              " 'GGCCATCTGACAACAAAACTGGCAAAAATTTCAAAACAAGTTACATCAATTGAACTGGAT\\n',\n",
              " 'TCACATCTGTTTAATCTGTCATCAGAAAAACTGAAACTGAATACAAGAGTTACACTGATT\\n',\n",
              " 'CATCAAGATATTCTGCAATTTCAATTTCCGAATAAACAAAGATATAAAATTGTTGGCTCA\\n',\n",
              " 'ATTCCGTATAATCTGTCAACACAAATTATTAAAAAAGTTGTTTTTGAATCAAGAGCATCA\\n',\n",
              " 'GATATTTATCTGATTGTTGAAGAAGGCTTTTATAAAAGAACACTGGATATTCATAGAACA\\n',\n",
              " 'CTGGGCCTGCTGCTGCATACACAAGTTTCAATTCAACAACTGCTGAAACTGCCGGCAGAA\\n',\n",
              " 'TGCTTTCATCCGAAACCGAAAGTTAATTCAGTTCTGATTAAACTGACAAGACATACAACA\\n',\n",
              " 'GATGTTCCGGATAAATATTGGAAACTGTATACATATTTTGTTTCAAAATGGGTTAATAGA\\n',\n",
              " 'GAATATAGACAACTGTTTACAAAAAATCAATTTCATCAAGCAATGAAACATGCAAAAGTT\\n',\n",
              " 'AATAATCTGTCAACAATTACATATGAACAAGTTCTGTCAATTTTTAATTCATATCTGCTG\\n',\n",
              " 'TTTAATGGCAGAAAACTGATTCTG\\n',\n",
              " '>ErmA CAA26964.1 [Staphylococcus aureus]\\n',\n",
              " 'ATGAATCAAAAAAATCCGAAAGATACACAAAATTTTATTACATCAAAAAAACATGTTAAA\\n',\n",
              " 'GAAATTCTGAATCATACAAATATTTCAAAACAAGATAATGTTATTGAAATTGGCTCAGGC\\n',\n",
              " 'AAAGGCCATTTTACAAAAGAACTGGTTAAAATGTCAAGATCAGTTACAGCAATTGAAATT\\n',\n",
              " 'GATGGCGGCCTGTGCCAAGTTACAAAAGAAGCAGTTAATCCGTCAGAAAATATTAAAGTT\\n',\n",
              " 'ATTCAAACAGATATTCTGAAATTTTCATTTCCGAAACATATTAATTATAAAATTTATGGC\\n',\n",
              " 'AATATTCCGTATAATATTTCAACAGATATTGTTAAAAGAATTACATTTGAATCACAAGCA\\n',\n",
              " 'AAATATTCATATCTGATTGTTGAAAAAGGCTTTGCAAAAAGACTGCAAAATCTGCAAAGA\\n',\n",
              " 'GCACTGGGCCTGCTGCTGATGGTTGAAATGGATATTAAAATGCTGAAAAAAGTTCCGCCG\\n',\n",
              " 'CTGTATTTTCATCCGAAACCGTCAGTTGATTCAGTTCTGATTGTTCTGGAAAGACATCAA\\n',\n",
              " 'CCGCTGATTTCAAAAAAAGATTATAAAAAATATAGATCATTTGTTTATAAATGGGTTAAT\\n',\n",
              " 'AGAGAATATAGAGTTCTGTTTACAAAAAATCAATTTAGACAAGCACTGAAACATGCAAAT\\n',\n",
              " 'GTTACAAATATTAATAAACTGTCAAAAGAACAATTTCTGTCAATTTTTAATTCATATAAA\\n',\n",
              " 'CTGTTTCAT\\n',\n",
              " '>ErmE CAB60001.1 [Saccharopolyspora erythraea NRRL 2338]\\n',\n",
              " 'ATGTCATCATCAGATGAACAACCGAGACCGAGAAGAAGAAATCAAGATAGACAACATCCG\\n',\n",
              " 'AATCAAAATAGACCGGTTCTGGGCAGAACAGAAAGAGATAGAAATAGAAGACAATTTGGC\\n',\n",
              " 'CAAAATTTTCTGAGAGATAGAAAAACAATTGCAAGAATTGCAGAAACAGCAGAACTGAGA\\n',\n",
              " 'CCGGATCTGCCGGTTCTGGAAGCAGGCCCGGGCGAAGGCCTGCTGACAAGAGAACTGGCA\\n',\n",
              " 'GATAGAGCAAGACAAGTTACATCATATGAAATTGATCCGAGACTGGCAAAATCACTGAGA\\n',\n",
              " 'GAAAAACTGTCAGGCCATCCGAATATTGAAGTTGTTAATGCAGATTTTCTGACAGCAGAA\\n',\n",
              " 'CCGCCGCCGGAACCGTTTGCATTTGTTGGCGCAATTCCGTATGGCATTACATCAGCAATT\\n',\n",
              " 'GTTGATTGGTGCCTGGAAGCACCGACAATTGAAACAGCAACAATGGTTACACAACTGGAA\\n',\n",
              " 'TTTGCAAGAAAAAGAACAGGCGATTATGGCAGATGGTCAAGACTGACAGTTATGACATGG\\n',\n",
              " 'CCGCTGTTTGAATGGGAATTTGTTGAAAAAGTTGATAGAAGACTGTTTAAACCGGTTCCG\\n',\n",
              " 'AAAGTTGATTCAGCAATTATGAGACTGAGAAGAAGAGCAGAACCGCTGCTGGAAGGCGCA\\n',\n",
              " 'GCACTGGAAAGATATGAATCAATGGTTGAACTGTGCTTTACAGGCGTTGGCGGCAATATT\\n',\n",
              " 'CAAGCATCACTGCTGAGAAAATATCCGAGAAGAAGAGTTGAAGCAGCACTGGATCATGCA\\n',\n",
              " 'GGCGTTGGCGGCGGCGCAGTTGTTGCATATGTTAGACCGGAACAATGGCTGAGACTGTTT\\n',\n",
              " 'GAAAGACTGGATCAAAAAAATGAACCGAGAGGCGGCCAACCGCAAAGAGGCAGAAGAACA\\n',\n",
              " 'GGCGGCAGAGATCATGGCGATAGAAGAACAGGCGGCCAAGATAGAGGCGATAGAAGAACA\\n',\n",
              " 'GGCGGCAGAGATCATAGAGATAGACAAGCATCAGGCCATGGCGATAGAAGATCATCAGGC\\n',\n",
              " 'AGAAATAGAGATGATGGCAGAACAGGCGAAAGAGAACAAGGCGATCAAGGCGGCAGAAGA\\n',\n",
              " 'GGCCCGTCAGGCGGCGGCAGAACAGGCGGCAGACCGGGCAGAAGAGGCGGCCCGGGCCAA\\n',\n",
              " 'AGA']"
            ]
          },
          "metadata": {
            "tags": []
          },
          "execution_count": 34
        }
      ]
    },
    {
      "cell_type": "markdown",
      "metadata": {
        "id": "kkpGjxrhu1rf"
      },
      "source": [
        "Let's examine the list of headers and sequences more closely."
      ]
    },
    {
      "cell_type": "code",
      "metadata": {
        "colab": {
          "base_uri": "https://localhost:8080/",
          "height": 35
        },
        "id": "wqsg-64Zu1rf",
        "outputId": "412b37ff-0010-4492-f57b-2ccb84a9d20e"
      },
      "source": [
        "# just line 0\n",
        "file_lines[0]"
      ],
      "execution_count": 35,
      "outputs": [
        {
          "output_type": "execute_result",
          "data": {
            "application/vnd.google.colaboratory.intrinsic+json": {
              "type": "string"
            },
            "text/plain": [
              "'>ErmB AAF86219.1 [Enterococcus faecium]\\n'"
            ]
          },
          "metadata": {
            "tags": []
          },
          "execution_count": 35
        }
      ]
    },
    {
      "cell_type": "code",
      "metadata": {
        "colab": {
          "base_uri": "https://localhost:8080/"
        },
        "id": "As0C5hU7u1rf",
        "outputId": "68673330-a23e-4b28-fc29-8e6a4eb537f5"
      },
      "source": [
        "# just lines 0-1\n",
        "file_lines[0:2]"
      ],
      "execution_count": 36,
      "outputs": [
        {
          "output_type": "execute_result",
          "data": {
            "text/plain": [
              "['>ErmB AAF86219.1 [Enterococcus faecium]\\n',\n",
              " 'ATGAATAAAAATATTAAATATTCACAAAATTTTCTGACATCAGAAAAAGTTCTGAATCAA\\n']"
            ]
          },
          "metadata": {
            "tags": []
          },
          "execution_count": 36
        }
      ]
    },
    {
      "cell_type": "markdown",
      "metadata": {
        "id": "QnWFU2NSu1rf"
      },
      "source": [
        "When Python opens this fasta file and we use the `readlines()` function, each line is stored as an item in a list, regardless of whether the line is a header or a sequence.\n",
        "\n",
        "### From a biologist's perspective, it would be more useful that the relationship between a header and its sequence be preserved.\n",
        "\n",
        "When **Biopython** opens a fasta file, it will preserve the relationship between the header and the sequence.\n",
        "\n",
        "Biopython reads a fasta file using a module called `SeqIO.parse()`, which loops through each header/sequence combo."
      ]
    },
    {
      "cell_type": "code",
      "metadata": {
        "id": "etxLaA0gu1rg"
      },
      "source": [
        "# import Biopython's SeqIO module that allows use to loop through header/sequence combos (SeqRecord objects) in a fasta file. We will also import the Seq module we used in Day1\n",
        "\n",
        "from Bio import SeqIO\n",
        "from Bio.Seq import Seq"
      ],
      "execution_count": 37,
      "outputs": []
    },
    {
      "cell_type": "code",
      "metadata": {
        "colab": {
          "base_uri": "https://localhost:8080/"
        },
        "id": "1j4idgQku1rg",
        "outputId": "bd5563ad-ae27-44bc-c4e7-160c614a4a04"
      },
      "source": [
        "# we specify 'fasta' at the end to tell Biopython the kind of header/sequence structure the file has. \n",
        "\n",
        "for record in SeqIO.parse('antibiotic_resistance_genes_short.fasta', 'fasta'):\n",
        "    print(record)\n",
        "    print('\\n') #make a new line after every print for visual clarity"
      ],
      "execution_count": 38,
      "outputs": [
        {
          "output_type": "stream",
          "text": [
            "ID: ErmB\n",
            "Name: ErmB\n",
            "Description: ErmB AAF86219.1 [Enterococcus faecium]\n",
            "Number of features: 0\n",
            "Seq('ATGAATAAAAATATTAAATATTCACAAAATTTTCTGACATCAGAAAAAGTTCTG...CTG')\n",
            "\n",
            "\n",
            "ID: ErmA\n",
            "Name: ErmA\n",
            "Description: ErmA CAA26964.1 [Staphylococcus aureus]\n",
            "Number of features: 0\n",
            "Seq('ATGAATCAAAAAAATCCGAAAGATACACAAAATTTTATTACATCAAAAAAACAT...CAT')\n",
            "\n",
            "\n",
            "ID: ErmE\n",
            "Name: ErmE\n",
            "Description: ErmE CAB60001.1 [Saccharopolyspora erythraea NRRL 2338]\n",
            "Number of features: 0\n",
            "Seq('ATGTCATCATCAGATGAACAACCGAGACCGAGAAGAAGAAATCAAGATAGACAA...AGA')\n",
            "\n",
            "\n"
          ],
          "name": "stdout"
        }
      ]
    },
    {
      "cell_type": "markdown",
      "metadata": {
        "id": "7YPMo0gYu1rg"
      },
      "source": [
        "In the above output, we can see that Biopython has printed us a very neatly formatted representation of our fasta file. Compare that to using base Python's `readlines()` above or to how the file looks like when it's opened in a text editor.\n",
        "\n",
        "Biopython converts header/sequence combo into a `SeqRecord` [object](https://github.com/agmcfarland/biopython_workshop#fasta). We can see its type.\n"
      ]
    },
    {
      "cell_type": "code",
      "metadata": {
        "colab": {
          "base_uri": "https://localhost:8080/"
        },
        "id": "BKtI7418u1rg",
        "outputId": "afe43350-8aac-4136-983f-430f38d0ae66"
      },
      "source": [
        "type(record)"
      ],
      "execution_count": 39,
      "outputs": [
        {
          "output_type": "execute_result",
          "data": {
            "text/plain": [
              "Bio.SeqRecord.SeqRecord"
            ]
          },
          "metadata": {
            "tags": []
          },
          "execution_count": 39
        }
      ]
    },
    {
      "cell_type": "markdown",
      "metadata": {
        "id": "JdL_Knlwu1rg"
      },
      "source": [
        "A `SeqRecord` holds a lot information, including:\n",
        "\n",
        "The name of the sequence, any descriptions of the sequence, the sequence itself, and the type of sequence (DNA, RNA, protein, uknown) that it is.\n",
        "\n",
        "Additionally, within each `SeqRecord` object, the sequence has been conveted to a **`Seq()` object**, like those we went over in Day 1. We can manipulate them in the same way, but now at scale.\n",
        "\n",
        "Let's access some information stored in `SeqRecord`. Remember that record only shows **one** header/sequence combo per loop."
      ]
    },
    {
      "cell_type": "code",
      "metadata": {
        "colab": {
          "base_uri": "https://localhost:8080/"
        },
        "id": "touo6C2Ru1rh",
        "outputId": "fac0efdf-d92f-480a-f34b-4edcc841a2e8"
      },
      "source": [
        "# print the id. the id are all the characters after the defline `>` until the first whitespace ` `. This is typically the gene name.\n",
        "print(record.id)"
      ],
      "execution_count": 40,
      "outputs": [
        {
          "output_type": "stream",
          "text": [
            "ErmE\n"
          ],
          "name": "stdout"
        }
      ]
    },
    {
      "cell_type": "code",
      "metadata": {
        "colab": {
          "base_uri": "https://localhost:8080/"
        },
        "id": "5EmLuR__u1rh",
        "outputId": "aa2457b3-beaf-4988-9dce-5764eaca8c06"
      },
      "source": [
        "# print the description. the description is all characters that are afte the defline `>`. The description will typically have the gene name, a database identifer, and the species that it belongs to\n",
        "print(record.description)"
      ],
      "execution_count": 41,
      "outputs": [
        {
          "output_type": "stream",
          "text": [
            "ErmE CAB60001.1 [Saccharopolyspora erythraea NRRL 2338]\n"
          ],
          "name": "stdout"
        }
      ]
    },
    {
      "cell_type": "code",
      "metadata": {
        "colab": {
          "base_uri": "https://localhost:8080/"
        },
        "id": "6wRSW7umu1rh",
        "outputId": "99380a33-23a7-4bce-d327-196ac3561566"
      },
      "source": [
        "# print the sequence\n",
        "print(record.seq)"
      ],
      "execution_count": 42,
      "outputs": [
        {
          "output_type": "stream",
          "text": [
            "ATGTCATCATCAGATGAACAACCGAGACCGAGAAGAAGAAATCAAGATAGACAACATCCGAATCAAAATAGACCGGTTCTGGGCAGAACAGAAAGAGATAGAAATAGAAGACAATTTGGCCAAAATTTTCTGAGAGATAGAAAAACAATTGCAAGAATTGCAGAAACAGCAGAACTGAGACCGGATCTGCCGGTTCTGGAAGCAGGCCCGGGCGAAGGCCTGCTGACAAGAGAACTGGCAGATAGAGCAAGACAAGTTACATCATATGAAATTGATCCGAGACTGGCAAAATCACTGAGAGAAAAACTGTCAGGCCATCCGAATATTGAAGTTGTTAATGCAGATTTTCTGACAGCAGAACCGCCGCCGGAACCGTTTGCATTTGTTGGCGCAATTCCGTATGGCATTACATCAGCAATTGTTGATTGGTGCCTGGAAGCACCGACAATTGAAACAGCAACAATGGTTACACAACTGGAATTTGCAAGAAAAAGAACAGGCGATTATGGCAGATGGTCAAGACTGACAGTTATGACATGGCCGCTGTTTGAATGGGAATTTGTTGAAAAAGTTGATAGAAGACTGTTTAAACCGGTTCCGAAAGTTGATTCAGCAATTATGAGACTGAGAAGAAGAGCAGAACCGCTGCTGGAAGGCGCAGCACTGGAAAGATATGAATCAATGGTTGAACTGTGCTTTACAGGCGTTGGCGGCAATATTCAAGCATCACTGCTGAGAAAATATCCGAGAAGAAGAGTTGAAGCAGCACTGGATCATGCAGGCGTTGGCGGCGGCGCAGTTGTTGCATATGTTAGACCGGAACAATGGCTGAGACTGTTTGAAAGACTGGATCAAAAAAATGAACCGAGAGGCGGCCAACCGCAAAGAGGCAGAAGAACAGGCGGCAGAGATCATGGCGATAGAAGAACAGGCGGCCAAGATAGAGGCGATAGAAGAACAGGCGGCAGAGATCATAGAGATAGACAAGCATCAGGCCATGGCGATAGAAGATCATCAGGCAGAAATAGAGATGATGGCAGAACAGGCGAAAGAGAACAAGGCGATCAAGGCGGCAGAAGAGGCCCGTCAGGCGGCGGCAGAACAGGCGGCAGACCGGGCAGAAGAGGCGGCCCGGGCCAAAGA\n"
          ],
          "name": "stdout"
        }
      ]
    },
    {
      "cell_type": "markdown",
      "metadata": {
        "id": "zi5Q-Gzgu1rh"
      },
      "source": [
        "The `SeqRecord` has both the header and the sequence in one object that makes it easier to work with the sequence."
      ]
    },
    {
      "cell_type": "markdown",
      "metadata": {
        "id": "ipIQ44xou1rh"
      },
      "source": [
        "We can use the sequence manipulation methods from Day 1 on `record.seq`!"
      ]
    },
    {
      "cell_type": "code",
      "metadata": {
        "colab": {
          "base_uri": "https://localhost:8080/"
        },
        "id": "9mSM6I2Su1rh",
        "outputId": "8d6ef1bc-cbf3-4582-b143-19743d006a46"
      },
      "source": [
        "# translate\n",
        "record.seq.translate()"
      ],
      "execution_count": 43,
      "outputs": [
        {
          "output_type": "execute_result",
          "data": {
            "text/plain": [
              "Seq('MSSSDEQPRPRRRNQDRQHPNQNRPVLGRTERDRNRRQFGQNFLRDRKTIARIA...GQR')"
            ]
          },
          "metadata": {
            "tags": []
          },
          "execution_count": 43
        }
      ]
    },
    {
      "cell_type": "code",
      "metadata": {
        "colab": {
          "base_uri": "https://localhost:8080/"
        },
        "id": "Ep3J5L17u1rh",
        "outputId": "ab07dfbd-176a-4735-9141-9bb1b573be46"
      },
      "source": [
        "# lowercase\n",
        "record.seq.lower()"
      ],
      "execution_count": 44,
      "outputs": [
        {
          "output_type": "execute_result",
          "data": {
            "text/plain": [
              "Seq('atgtcatcatcagatgaacaaccgagaccgagaagaagaaatcaagatagacaa...aga')"
            ]
          },
          "metadata": {
            "tags": []
          },
          "execution_count": 44
        }
      ]
    },
    {
      "cell_type": "code",
      "metadata": {
        "colab": {
          "base_uri": "https://localhost:8080/"
        },
        "id": "yFgFV6DQu1ri",
        "outputId": "1afdae62-a05a-4732-9ee3-d5ee336c4b35"
      },
      "source": [
        "# count number of bases\n",
        "len(record.seq)"
      ],
      "execution_count": 45,
      "outputs": [
        {
          "output_type": "execute_result",
          "data": {
            "text/plain": [
              "1143"
            ]
          },
          "metadata": {
            "tags": []
          },
          "execution_count": 45
        }
      ]
    },
    {
      "cell_type": "markdown",
      "metadata": {
        "id": "L5-PyA1fu1ri"
      },
      "source": [
        "---\n",
        "\n",
        "### Exercise 4a\n",
        "\n",
        "Open the file `antibiotic_resistance_genes_short.fasta` using Biopython's `SeqIO.parse()` and `print()` each `record.id`"
      ]
    },
    {
      "cell_type": "code",
      "metadata": {
        "colab": {
          "base_uri": "https://localhost:8080/"
        },
        "id": "4T5SrGy-u1ri",
        "outputId": "27042ec8-9283-463d-afc8-429e8654ff47"
      },
      "source": [
        "\n",
        "for record in SeqIO.parse('antibiotic_resistance_genes_short.fasta', 'fasta'):\n",
        "    print(record.id)\n"
      ],
      "execution_count": 46,
      "outputs": [
        {
          "output_type": "stream",
          "text": [
            "ErmB\n",
            "ErmA\n",
            "ErmE\n"
          ],
          "name": "stdout"
        }
      ]
    },
    {
      "cell_type": "markdown",
      "metadata": {
        "id": "fHaz8VDou1ri"
      },
      "source": [
        "### Exercise 4b\n",
        "Open the file `antibiotic_resistance_genes_short.fasta` using `SeqIO.parse()` and `print()` each `record.seq`"
      ]
    },
    {
      "cell_type": "code",
      "metadata": {
        "colab": {
          "base_uri": "https://localhost:8080/"
        },
        "id": "JlRBRMh-u1ri",
        "outputId": "2572913c-96d5-483c-ec2e-3757a4aef416"
      },
      "source": [
        "for record in SeqIO.parse('antibiotic_resistance_genes_short.fasta', 'fasta'):\n",
        "    print(record.seq )"
      ],
      "execution_count": 51,
      "outputs": [
        {
          "output_type": "stream",
          "text": [
            "ATGAATAAAAATATTAAATATTCACAAAATTTTCTGACATCAGAAAAAGTTCTGAATCAAATTATTAAACAACTGAATCTGAAAGAAACAGATACAGTTTATGAAATTGGCACAGGCAAAGGCCATCTGACAACAAAACTGGCAAAAATTTCAAAACAAGTTACATCAATTGAACTGGATTCACATCTGTTTAATCTGTCATCAGAAAAACTGAAACTGAATACAAGAGTTACACTGATTCATCAAGATATTCTGCAATTTCAATTTCCGAATAAACAAAGATATAAAATTGTTGGCTCAATTCCGTATAATCTGTCAACACAAATTATTAAAAAAGTTGTTTTTGAATCAAGAGCATCAGATATTTATCTGATTGTTGAAGAAGGCTTTTATAAAAGAACACTGGATATTCATAGAACACTGGGCCTGCTGCTGCATACACAAGTTTCAATTCAACAACTGCTGAAACTGCCGGCAGAATGCTTTCATCCGAAACCGAAAGTTAATTCAGTTCTGATTAAACTGACAAGACATACAACAGATGTTCCGGATAAATATTGGAAACTGTATACATATTTTGTTTCAAAATGGGTTAATAGAGAATATAGACAACTGTTTACAAAAAATCAATTTCATCAAGCAATGAAACATGCAAAAGTTAATAATCTGTCAACAATTACATATGAACAAGTTCTGTCAATTTTTAATTCATATCTGCTGTTTAATGGCAGAAAACTGATTCTG\n",
            "ATGAATCAAAAAAATCCGAAAGATACACAAAATTTTATTACATCAAAAAAACATGTTAAAGAAATTCTGAATCATACAAATATTTCAAAACAAGATAATGTTATTGAAATTGGCTCAGGCAAAGGCCATTTTACAAAAGAACTGGTTAAAATGTCAAGATCAGTTACAGCAATTGAAATTGATGGCGGCCTGTGCCAAGTTACAAAAGAAGCAGTTAATCCGTCAGAAAATATTAAAGTTATTCAAACAGATATTCTGAAATTTTCATTTCCGAAACATATTAATTATAAAATTTATGGCAATATTCCGTATAATATTTCAACAGATATTGTTAAAAGAATTACATTTGAATCACAAGCAAAATATTCATATCTGATTGTTGAAAAAGGCTTTGCAAAAAGACTGCAAAATCTGCAAAGAGCACTGGGCCTGCTGCTGATGGTTGAAATGGATATTAAAATGCTGAAAAAAGTTCCGCCGCTGTATTTTCATCCGAAACCGTCAGTTGATTCAGTTCTGATTGTTCTGGAAAGACATCAACCGCTGATTTCAAAAAAAGATTATAAAAAATATAGATCATTTGTTTATAAATGGGTTAATAGAGAATATAGAGTTCTGTTTACAAAAAATCAATTTAGACAAGCACTGAAACATGCAAATGTTACAAATATTAATAAACTGTCAAAAGAACAATTTCTGTCAATTTTTAATTCATATAAACTGTTTCAT\n",
            "ATGTCATCATCAGATGAACAACCGAGACCGAGAAGAAGAAATCAAGATAGACAACATCCGAATCAAAATAGACCGGTTCTGGGCAGAACAGAAAGAGATAGAAATAGAAGACAATTTGGCCAAAATTTTCTGAGAGATAGAAAAACAATTGCAAGAATTGCAGAAACAGCAGAACTGAGACCGGATCTGCCGGTTCTGGAAGCAGGCCCGGGCGAAGGCCTGCTGACAAGAGAACTGGCAGATAGAGCAAGACAAGTTACATCATATGAAATTGATCCGAGACTGGCAAAATCACTGAGAGAAAAACTGTCAGGCCATCCGAATATTGAAGTTGTTAATGCAGATTTTCTGACAGCAGAACCGCCGCCGGAACCGTTTGCATTTGTTGGCGCAATTCCGTATGGCATTACATCAGCAATTGTTGATTGGTGCCTGGAAGCACCGACAATTGAAACAGCAACAATGGTTACACAACTGGAATTTGCAAGAAAAAGAACAGGCGATTATGGCAGATGGTCAAGACTGACAGTTATGACATGGCCGCTGTTTGAATGGGAATTTGTTGAAAAAGTTGATAGAAGACTGTTTAAACCGGTTCCGAAAGTTGATTCAGCAATTATGAGACTGAGAAGAAGAGCAGAACCGCTGCTGGAAGGCGCAGCACTGGAAAGATATGAATCAATGGTTGAACTGTGCTTTACAGGCGTTGGCGGCAATATTCAAGCATCACTGCTGAGAAAATATCCGAGAAGAAGAGTTGAAGCAGCACTGGATCATGCAGGCGTTGGCGGCGGCGCAGTTGTTGCATATGTTAGACCGGAACAATGGCTGAGACTGTTTGAAAGACTGGATCAAAAAAATGAACCGAGAGGCGGCCAACCGCAAAGAGGCAGAAGAACAGGCGGCAGAGATCATGGCGATAGAAGAACAGGCGGCCAAGATAGAGGCGATAGAAGAACAGGCGGCAGAGATCATAGAGATAGACAAGCATCAGGCCATGGCGATAGAAGATCATCAGGCAGAAATAGAGATGATGGCAGAACAGGCGAAAGAGAACAAGGCGATCAAGGCGGCAGAAGAGGCCCGTCAGGCGGCGGCAGAACAGGCGGCAGACCGGGCAGAAGAGGCGGCCCGGGCCAAAGA\n"
          ],
          "name": "stdout"
        }
      ]
    },
    {
      "cell_type": "markdown",
      "metadata": {
        "id": "wEAQHsZ1u1rj"
      },
      "source": [
        "### Exercise 4c\n",
        "Open the file `antibiotic_resistance_genes_short.fasta` using `SeqIO.parse()` and `print()` the **translated** `record.seq` by calling `translate()` on it"
      ]
    },
    {
      "cell_type": "code",
      "metadata": {
        "colab": {
          "base_uri": "https://localhost:8080/"
        },
        "id": "-PHv8yaUu1rj",
        "outputId": "43824687-9d9c-47cb-b9a8-c81e975d62b5"
      },
      "source": [
        "for record in SeqIO.parse('antibiotic_resistance_genes_short.fasta', 'fasta'):\n",
        "    print(record.seq.translate(), '\\n')"
      ],
      "execution_count": 52,
      "outputs": [
        {
          "output_type": "stream",
          "text": [
            "MNKNIKYSQNFLTSEKVLNQIIKQLNLKETDTVYEIGTGKGHLTTKLAKISKQVTSIELDSHLFNLSSEKLKLNTRVTLIHQDILQFQFPNKQRYKIVGSIPYNLSTQIIKKVVFESRASDIYLIVEEGFYKRTLDIHRTLGLLLHTQVSIQQLLKLPAECFHPKPKVNSVLIKLTRHTTDVPDKYWKLYTYFVSKWVNREYRQLFTKNQFHQAMKHAKVNNLSTITYEQVLSIFNSYLLFNGRKLIL \n",
            "\n",
            "MNQKNPKDTQNFITSKKHVKEILNHTNISKQDNVIEIGSGKGHFTKELVKMSRSVTAIEIDGGLCQVTKEAVNPSENIKVIQTDILKFSFPKHINYKIYGNIPYNISTDIVKRITFESQAKYSYLIVEKGFAKRLQNLQRALGLLLMVEMDIKMLKKVPPLYFHPKPSVDSVLIVLERHQPLISKKDYKKYRSFVYKWVNREYRVLFTKNQFRQALKHANVTNINKLSKEQFLSIFNSYKLFH \n",
            "\n",
            "MSSSDEQPRPRRRNQDRQHPNQNRPVLGRTERDRNRRQFGQNFLRDRKTIARIAETAELRPDLPVLEAGPGEGLLTRELADRARQVTSYEIDPRLAKSLREKLSGHPNIEVVNADFLTAEPPPEPFAFVGAIPYGITSAIVDWCLEAPTIETATMVTQLEFARKRTGDYGRWSRLTVMTWPLFEWEFVEKVDRRLFKPVPKVDSAIMRLRRRAEPLLEGAALERYESMVELCFTGVGGNIQASLLRKYPRRRVEAALDHAGVGGGAVVAYVRPEQWLRLFERLDQKNEPRGGQPQRGRRTGGRDHGDRRTGGQDRGDRRTGGRDHRDRQASGHGDRRSSGRNRDDGRTGEREQGDQGGRRGPSGGGRTGGRPGRRGGPGQR \n",
            "\n"
          ],
          "name": "stdout"
        }
      ]
    },
    {
      "cell_type": "markdown",
      "metadata": {
        "id": "kbXcS7tCu1rj"
      },
      "source": [
        "---\n",
        "\n",
        "# Saving sequences to file\n",
        "\n",
        "Now that we know that sequences, and all their corresponding information, in a fasta file can be easily accessed and looped through, we now want to start saving the changes we've made to a new fasta file.\n",
        "\n",
        "Before we can do that, there's one last thing about lists that we need to learn for now.\n",
        "\n",
        "### You can make empty lists and add to them using the `append()` function from base Python"
      ]
    },
    {
      "cell_type": "code",
      "metadata": {
        "id": "a9FitSGQu1rj"
      },
      "source": [
        "# make an empty list by only putting in brackets\n",
        "list8 = []"
      ],
      "execution_count": 53,
      "outputs": []
    },
    {
      "cell_type": "code",
      "metadata": {
        "colab": {
          "base_uri": "https://localhost:8080/"
        },
        "id": "LPhoY4CSu1rj",
        "outputId": "f1df1269-80b7-49aa-d620-31f70e8d00b0"
      },
      "source": [
        "# is the list empty? \n",
        "print(list8)"
      ],
      "execution_count": 54,
      "outputs": [
        {
          "output_type": "stream",
          "text": [
            "[]\n"
          ],
          "name": "stdout"
        }
      ]
    },
    {
      "cell_type": "code",
      "metadata": {
        "colab": {
          "base_uri": "https://localhost:8080/"
        },
        "id": "_QavZmaku1rk",
        "outputId": "38651685-2234-42cc-ca73-1ccfa6a1b42e"
      },
      "source": [
        "# how many items are in this list?\n",
        "len(list8)"
      ],
      "execution_count": 55,
      "outputs": [
        {
          "output_type": "execute_result",
          "data": {
            "text/plain": [
              "0"
            ]
          },
          "metadata": {
            "tags": []
          },
          "execution_count": 55
        }
      ]
    },
    {
      "cell_type": "code",
      "metadata": {
        "colab": {
          "base_uri": "https://localhost:8080/"
        },
        "id": "7Yvg3F1xu1rk",
        "outputId": "27c4b26b-b6bb-4b6b-bede-082a5d203280"
      },
      "source": [
        "list8.append('now')\n",
        "list8.append('I')\n",
        "list8.append('am')\n",
        "list8.append('not')\n",
        "list8.append('empty')\n",
        "list8.append(8)\n",
        "print(list8)"
      ],
      "execution_count": 56,
      "outputs": [
        {
          "output_type": "stream",
          "text": [
            "['now', 'I', 'am', 'not', 'empty', 8]\n"
          ],
          "name": "stdout"
        }
      ]
    },
    {
      "cell_type": "markdown",
      "metadata": {
        "id": "3TlbdclSu1rk"
      },
      "source": [
        "`append()` adds a new item to the end of the list.\n",
        "\n",
        "We can manipulate sequences with Biopython and use `append` to store them in an initially empty list. After that we can save them to a file."
      ]
    },
    {
      "cell_type": "code",
      "metadata": {
        "id": "5sEXFOmTu1rk"
      },
      "source": [
        "# empty list to store modified sequence records\n",
        "modified_records_list = []\n",
        "\n",
        "for record in SeqIO.parse('antibiotic_resistance_genes_short.fasta', 'fasta'):\n",
        "    # the modified record variable is created\n",
        "    modified_record = record\n",
        "    # the sequence of the modified variable is set to be translated\n",
        "    modified_record.seq = modified_record.seq.translate()\n",
        "    # modified_record (with the translated sequence and also name and description) is appended to our list\n",
        "    modified_records_list.append(modified_record)"
      ],
      "execution_count": 57,
      "outputs": []
    },
    {
      "cell_type": "code",
      "metadata": {
        "colab": {
          "base_uri": "https://localhost:8080/"
        },
        "id": "eOq4D1HEu1rk",
        "outputId": "9ad3d771-6c24-4918-c9c6-99edd0f7bbb7"
      },
      "source": [
        "# inspect what our list of modified records looks like\n",
        "modified_records_list"
      ],
      "execution_count": 58,
      "outputs": [
        {
          "output_type": "execute_result",
          "data": {
            "text/plain": [
              "[SeqRecord(seq=Seq('MNKNIKYSQNFLTSEKVLNQIIKQLNLKETDTVYEIGTGKGHLTTKLAKISKQV...LIL'), id='ErmB', name='ErmB', description='ErmB AAF86219.1 [Enterococcus faecium]', dbxrefs=[]),\n",
              " SeqRecord(seq=Seq('MNQKNPKDTQNFITSKKHVKEILNHTNISKQDNVIEIGSGKGHFTKELVKMSRS...LFH'), id='ErmA', name='ErmA', description='ErmA CAA26964.1 [Staphylococcus aureus]', dbxrefs=[]),\n",
              " SeqRecord(seq=Seq('MSSSDEQPRPRRRNQDRQHPNQNRPVLGRTERDRNRRQFGQNFLRDRKTIARIA...GQR'), id='ErmE', name='ErmE', description='ErmE CAB60001.1 [Saccharopolyspora erythraea NRRL 2338]', dbxrefs=[])]"
            ]
          },
          "metadata": {
            "tags": []
          },
          "execution_count": 58
        }
      ]
    },
    {
      "cell_type": "markdown",
      "metadata": {
        "id": "nKo8anFzu1rk"
      },
      "source": [
        "Now we can write modified_records_list to a file using Biopython's `SeqIO.write()` function.\n",
        "\n",
        "\n"
      ]
    },
    {
      "cell_type": "code",
      "metadata": {
        "colab": {
          "base_uri": "https://localhost:8080/"
        },
        "id": "-nUeU0-au1rk",
        "outputId": "f3a39388-9e2f-462d-af08-fa2c15bc6bd1"
      },
      "source": [
        "# SeqIO.write requires the list of records, the name of the file to write to, and the format in which it will be written. It will print the number of records it has written after it is done.\n",
        "\n",
        "SeqIO.write(modified_records_list, 'day2_short.fasta', 'fasta')"
      ],
      "execution_count": 59,
      "outputs": [
        {
          "output_type": "execute_result",
          "data": {
            "text/plain": [
              "3"
            ]
          },
          "metadata": {
            "tags": []
          },
          "execution_count": 59
        }
      ]
    },
    {
      "cell_type": "markdown",
      "metadata": {
        "id": "PL0oXv6Bu1rl"
      },
      "source": [
        "---\n",
        "### Exercise 5a \n",
        "\n",
        "Assign `record` to the variable `modified_record`. Alter the `modified_record.id` by adding the string `'_and_more'` to it.\n"
      ]
    },
    {
      "cell_type": "code",
      "metadata": {
        "colab": {
          "base_uri": "https://localhost:8080/"
        },
        "id": "TLFoDocvu1rl",
        "outputId": "2567a32a-eaa0-4bbf-f779-422533cbd23f"
      },
      "source": [
        "for record in SeqIO.parse('antibiotic_resistance_genes_short.fasta', 'fasta'):\n",
        "\n",
        "    modified_record = record\n",
        "    \n",
        "    modified_record.id = modified_record.id + '_and_more' + '\\n'\n",
        "\n",
        "    print(modified_record)"
      ],
      "execution_count": 61,
      "outputs": [
        {
          "output_type": "stream",
          "text": [
            "ID: ErmB_and_more\n",
            "\n",
            "Name: ErmB\n",
            "Description: ErmB AAF86219.1 [Enterococcus faecium]\n",
            "Number of features: 0\n",
            "Seq('ATGAATAAAAATATTAAATATTCACAAAATTTTCTGACATCAGAAAAAGTTCTG...CTG')\n",
            "ID: ErmA_and_more\n",
            "\n",
            "Name: ErmA\n",
            "Description: ErmA CAA26964.1 [Staphylococcus aureus]\n",
            "Number of features: 0\n",
            "Seq('ATGAATCAAAAAAATCCGAAAGATACACAAAATTTTATTACATCAAAAAAACAT...CAT')\n",
            "ID: ErmE_and_more\n",
            "\n",
            "Name: ErmE\n",
            "Description: ErmE CAB60001.1 [Saccharopolyspora erythraea NRRL 2338]\n",
            "Number of features: 0\n",
            "Seq('ATGTCATCATCAGATGAACAACCGAGACCGAGAAGAAGAAATCAAGATAGACAA...AGA')\n"
          ],
          "name": "stdout"
        }
      ]
    },
    {
      "cell_type": "markdown",
      "metadata": {
        "id": "HXxQrCSbu1rl"
      },
      "source": [
        "### Exercise 5b\n",
        "\n",
        "Make an empty list called `new_record_list`. Afterward, `append()` `modified_record` to `new_record_list`"
      ]
    },
    {
      "cell_type": "code",
      "metadata": {
        "colab": {
          "base_uri": "https://localhost:8080/"
        },
        "id": "_Ha1DSPWu1rl",
        "outputId": "8bdaf64d-bc3c-4a5b-9d58-bbffb0c94636"
      },
      "source": [
        "new_record_list = []\n",
        "\n",
        "for record in SeqIO.parse('antibiotic_resistance_genes_short.fasta', 'fasta'):\n",
        "\n",
        "    modified_record = record\n",
        "    \n",
        "    modified_record.id = modified_record.id + '_and_more'\n",
        "\n",
        "    new_record_list.append(modified_record)\n",
        "\n",
        "new_record_list"
      ],
      "execution_count": 62,
      "outputs": [
        {
          "output_type": "execute_result",
          "data": {
            "text/plain": [
              "[SeqRecord(seq=Seq('ATGAATAAAAATATTAAATATTCACAAAATTTTCTGACATCAGAAAAAGTTCTG...CTG'), id='ErmB_and_more', name='ErmB', description='ErmB AAF86219.1 [Enterococcus faecium]', dbxrefs=[]),\n",
              " SeqRecord(seq=Seq('ATGAATCAAAAAAATCCGAAAGATACACAAAATTTTATTACATCAAAAAAACAT...CAT'), id='ErmA_and_more', name='ErmA', description='ErmA CAA26964.1 [Staphylococcus aureus]', dbxrefs=[]),\n",
              " SeqRecord(seq=Seq('ATGTCATCATCAGATGAACAACCGAGACCGAGAAGAAGAAATCAAGATAGACAA...AGA'), id='ErmE_and_more', name='ErmE', description='ErmE CAB60001.1 [Saccharopolyspora erythraea NRRL 2338]', dbxrefs=[])]"
            ]
          },
          "metadata": {
            "tags": []
          },
          "execution_count": 62
        }
      ]
    },
    {
      "cell_type": "markdown",
      "metadata": {
        "id": "tDTOWoULu1rl"
      },
      "source": [
        "### Exercise 5c\n",
        "Write the records in new_record_list to a new file called day2_5c.fasta\n",
        "\n",
        "Afterwards, open the file to look at your great work!"
      ]
    },
    {
      "cell_type": "code",
      "metadata": {
        "colab": {
          "base_uri": "https://localhost:8080/"
        },
        "id": "AJlvF9twu1rl",
        "outputId": "382fecfc-e39e-416d-82b1-71e9f8430a6f"
      },
      "source": [
        "SeqIO.write(new_record_list, 'day2_5c.fasta', 'fasta')"
      ],
      "execution_count": 64,
      "outputs": [
        {
          "output_type": "execute_result",
          "data": {
            "text/plain": [
              "3"
            ]
          },
          "metadata": {
            "tags": []
          },
          "execution_count": 64
        }
      ]
    },
    {
      "cell_type": "markdown",
      "metadata": {
        "id": "eUw2rytcu1rm"
      },
      "source": [
        "---\n",
        "\n",
        "# Section 4: Looping through multiple sequence files\n",
        "\n",
        "A very useful strategy for working with many sequence files that you wish to apply a transformation, sequence extraction, etc is to use `os.listdir()`"
      ]
    },
    {
      "cell_type": "code",
      "metadata": {
        "id": "X4DVQmIxu1rm"
      },
      "source": [
        "import os"
      ],
      "execution_count": 65,
      "outputs": []
    },
    {
      "cell_type": "markdown",
      "metadata": {
        "id": "-weVY52Nu1rm"
      },
      "source": [
        "`os.listdir()` loops through all the files in a directory"
      ]
    },
    {
      "cell_type": "code",
      "metadata": {
        "colab": {
          "base_uri": "https://localhost:8080/",
          "height": 35
        },
        "id": "z0e4MdtZu1rm",
        "outputId": "754e02b5-e5f1-4982-c902-f76b55db7d7b"
      },
      "source": [
        "current_directory = os.getcwd() \n",
        "current_directory"
      ],
      "execution_count": 66,
      "outputs": [
        {
          "output_type": "execute_result",
          "data": {
            "application/vnd.google.colaboratory.intrinsic+json": {
              "type": "string"
            },
            "text/plain": [
              "'/content'"
            ]
          },
          "metadata": {
            "tags": []
          },
          "execution_count": 66
        }
      ]
    },
    {
      "cell_type": "markdown",
      "metadata": {
        "id": "Go6XmlXzu1rm"
      },
      "source": [
        "We can use the function `endswith()` to only list files that end with the suffix `'.fasta'`"
      ]
    },
    {
      "cell_type": "code",
      "metadata": {
        "colab": {
          "base_uri": "https://localhost:8080/"
        },
        "id": "SWUmTFcHu1rm",
        "outputId": "04ae10e5-d853-4b75-90c5-0ad3e5b68f4c"
      },
      "source": [
        "for file in os.listdir(current_directory):\n",
        "    if file.endswith('.fasta'):\n",
        "        print(file)"
      ],
      "execution_count": 67,
      "outputs": [
        {
          "output_type": "stream",
          "text": [
            "day2_short.fasta\n",
            "antibiotic_resistance_genes_short_3.fasta\n",
            "day2_5c.fasta\n",
            "antibiotic_resistance_genes_short.fasta\n",
            "antibiotic_resistance_genes_short_2.fasta\n"
          ],
          "name": "stdout"
        }
      ]
    },
    {
      "cell_type": "markdown",
      "metadata": {
        "id": "MI9mecB4u1rm"
      },
      "source": [
        "We can use the function starts() to only list files that start with the prefix 'antibiotic_resistance_genes_short'.\n",
        "\n",
        "We can chain commands into a big for loop to open each `file` and `print()` the `record.description`"
      ]
    },
    {
      "cell_type": "code",
      "metadata": {
        "colab": {
          "base_uri": "https://localhost:8080/"
        },
        "id": "3rl99IsIu1rn",
        "outputId": "44ac9e5d-3880-410f-833d-6297d07cd393"
      },
      "source": [
        "for file in os.listdir(current_directory):\n",
        "    if file.startswith('antibiotic_resistance_genes_short'):\n",
        "        if file.endswith('.fasta'):\n",
        "            for record in SeqIO.parse(file, 'fasta'):\n",
        "                print(record.description)"
      ],
      "execution_count": 68,
      "outputs": [
        {
          "output_type": "stream",
          "text": [
            "ErmL AAF44939.1 [Pseudomonas aeruginosa]\n",
            "ErmM CAA2697744.1 [Staphylococcus epidermidis]\n",
            "ErmN CAB60033901.1 [Bacillus subtilis]\n",
            "ErmB AAF86219.1 [Enterococcus faecium]\n",
            "ErmA CAA26964.1 [Staphylococcus aureus]\n",
            "ErmE CAB60001.1 [Saccharopolyspora erythraea NRRL 2338]\n",
            "ErmX AAF86939.1 [Salmonella enterica]\n",
            "ErmY CAA2696644.1 [Clostridium difficile]\n",
            "ErmZ CAB60099901.1 [Propionibacterium acnes]\n"
          ],
          "name": "stdout"
        }
      ]
    },
    {
      "cell_type": "markdown",
      "metadata": {
        "id": "uMR9_cb5u1rn"
      },
      "source": [
        "---\n",
        "\n",
        "### Exercise 6a\n",
        "\n",
        "Combine the contents of each `'antibiotic_resistance_genes_short'` fasta file into a single fasta called `day2_6a.fasta`.\n",
        "\n",
        "As you loop through each fasta file in the `current_directory` using `os.listdir()`, read each fasta file with `SeqIO.parse()`.\n",
        "\n",
        "(Make sure you have specified what characters each file of interest `startswith()` and `endwiths()`)\n",
        "\n",
        "`append()` each SeqRecord object to the list `store_data`.\n",
        "\n",
        "Write `store_data` to the fasta file `day2_6a.fasta` using `SeqIO.write()`\n",
        "\n",
        "Afterwards open `day2_6a.fasta` and examine your work!\n"
      ]
    },
    {
      "cell_type": "code",
      "metadata": {
        "colab": {
          "base_uri": "https://localhost:8080/"
        },
        "id": "G-l93xXYu1rn",
        "outputId": "c3206510-9c62-472e-ee12-8ce494c83c4a"
      },
      "source": [
        "store_data = []\n",
        "\n",
        "for file in os.listdir(current_directory):\n",
        "    # what the file should start with\n",
        "    if file.startswith('antibiotic_resistance_genes_short'):\n",
        "        # what the file should end with\n",
        "        if file.endswith('.fasta'):\n",
        "            for record in SeqIO.parse(file, 'fasta'):\n",
        "                store_data.append(record)\n",
        "\n",
        "SeqIO.write(store_data, 'day2_6a.fasta', 'fasta')"
      ],
      "execution_count": 71,
      "outputs": [
        {
          "output_type": "execute_result",
          "data": {
            "text/plain": [
              "9"
            ]
          },
          "metadata": {
            "tags": []
          },
          "execution_count": 71
        }
      ]
    },
    {
      "cell_type": "markdown",
      "metadata": {
        "id": "9AlLYd0Au1rn"
      },
      "source": [
        "### Exercise 6b\n",
        "\n",
        "Do the same steps as above, but now with a `transcribe()`'ed `record.seq`. Store the modified records in `day2_6b.fasta`"
      ]
    },
    {
      "cell_type": "code",
      "metadata": {
        "colab": {
          "base_uri": "https://localhost:8080/"
        },
        "id": "LW1dSuJiu1rn",
        "outputId": "9409a970-40f2-45c9-a95b-2186ea54b227"
      },
      "source": [
        "store_data = []\n",
        "\n",
        "for file in os.listdir(current_directory):\n",
        "    # what the file should start with\n",
        "    if file.startswith('antibiotic_resistance_genes_short'):\n",
        "        # what the file should end with\n",
        "        if file.endswith('.fasta'):\n",
        "            for record in SeqIO.parse(file, 'fasta'):\n",
        "                record.seq = record.seq.transcribe()\n",
        "                store_data.append(record)\n",
        "\n",
        "SeqIO.write(store_data, 'day2_6b.fasta', 'fasta')"
      ],
      "execution_count": 75,
      "outputs": [
        {
          "output_type": "execute_result",
          "data": {
            "text/plain": [
              "9"
            ]
          },
          "metadata": {
            "tags": []
          },
          "execution_count": 75
        }
      ]
    },
    {
      "cell_type": "markdown",
      "metadata": {
        "id": "L_R-3M2_u1rn"
      },
      "source": [
        "---\n",
        "\n",
        "That's it for Day 2!"
      ]
    }
  ]
}