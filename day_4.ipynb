{
  "nbformat": 4,
  "nbformat_minor": 0,
  "metadata": {
    "language_info": {
      "codemirror_mode": {
        "name": "ipython",
        "version": 3
      },
      "file_extension": ".py",
      "mimetype": "text/x-python",
      "name": "python",
      "nbconvert_exporter": "python",
      "pygments_lexer": "ipython3",
      "version": "3.8.5"
    },
    "orig_nbformat": 4,
    "kernelspec": {
      "name": "python3",
      "display_name": "Python 3.8.5 64-bit ('myenv': conda)"
    },
    "interpreter": {
      "hash": "f5c9dfabb21bd2a91b63810df81acbdc6b5e617e45414f0ef050ca96090c868f"
    },
    "colab": {
      "name": "day_4.ipynb",
      "provenance": []
    }
  },
  "cells": [
    {
      "cell_type": "markdown",
      "metadata": {
        "id": "su6ZLmJyCesg"
      },
      "source": [
        "# Welcome to Day 4! \n",
        "\n",
        "## Extracting and storing sequence data, working with GenBank files\n",
        "\n",
        "### Section 1: Extracting and storing information from sequence data\n",
        "\n",
        "### Section 2: Parsing and manipulating GenBank (.gbk/.gbff) files\n",
        "\n",
        "---\n",
        "\n",
        "## Session summary\n",
        "\n",
        "\n",
        "Day 4 will have two different components. We will go over over how to extract sequence information, like GC content, lengnth, number of methionines, or whether a motif is present, and then save it to a file. We will also extract only information from the headers and save that to a file. Afterwards, we move into uncharted territory by learning how to work with GenBank files. Although GenBank files may look intimdating, we apply what we learned from working with Fasta files and realize that working with them can be straightforward.\n",
        "\n",
        "---\n"
      ]
    },
    {
      "cell_type": "markdown",
      "metadata": {
        "id": "zz6ZtX2UCesj"
      },
      "source": [
        "---\n",
        "## For Google colab users only\n",
        "\n",
        "Run the following commands"
      ]
    },
    {
      "cell_type": "code",
      "metadata": {
        "id": "iK-h_xAxCesk",
        "outputId": "4218de24-fe7b-43a6-bce4-18cf6edc655c",
        "colab": {
          "base_uri": "https://localhost:8080/"
        }
      },
      "source": [
        "pip install Biopython"
      ],
      "execution_count": 1,
      "outputs": [
        {
          "output_type": "stream",
          "text": [
            "Collecting Biopython\n",
            "  Downloading biopython-1.79-cp37-cp37m-manylinux_2_5_x86_64.manylinux1_x86_64.whl (2.3 MB)\n",
            "\u001b[K     |████████████████████████████████| 2.3 MB 7.6 MB/s \n",
            "\u001b[?25hRequirement already satisfied: numpy in /usr/local/lib/python3.7/dist-packages (from Biopython) (1.19.5)\n",
            "Installing collected packages: Biopython\n",
            "Successfully installed Biopython-1.79\n"
          ],
          "name": "stdout"
        }
      ]
    },
    {
      "cell_type": "code",
      "metadata": {
        "id": "JoZ8Jk_RCesk",
        "outputId": "2273e163-4d07-404a-e88c-b204f5b10982",
        "colab": {
          "base_uri": "https://localhost:8080/"
        }
      },
      "source": [
        "!wget https://raw.githubusercontent.com/agmcfarland/biopython_workshop/master/antibiotic_resistance_genes_short.fasta\n",
        "!wget https://raw.githubusercontent.com/agmcfarland/biopython_workshop/master/mixed_args.fasta\n",
        "!wget https://raw.githubusercontent.com/agmcfarland/biopython_workshop/master/short_reads.fastq\n",
        "!wget https://raw.githubusercontent.com/agmcfarland/biopython_workshop/master/fabv_small.gbk\n",
        "!wget https://raw.githubusercontent.com/agmcfarland/biopython_workshop/master/salmonella_genome.gbk"
      ],
      "execution_count": 2,
      "outputs": [
        {
          "output_type": "stream",
          "text": [
            "--2021-07-22 21:06:03--  https://raw.githubusercontent.com/agmcfarland/biopython_workshop/master/antibiotic_resistance_genes_short.fasta\n",
            "Resolving raw.githubusercontent.com (raw.githubusercontent.com)... 185.199.109.133, 185.199.108.133, 185.199.110.133, ...\n",
            "Connecting to raw.githubusercontent.com (raw.githubusercontent.com)|185.199.109.133|:443... connected.\n",
            "HTTP request sent, awaiting response... 200 OK\n",
            "Length: 2799 (2.7K) [text/plain]\n",
            "Saving to: ‘antibiotic_resistance_genes_short.fasta’\n",
            "\n",
            "\r          antibioti   0%[                    ]       0  --.-KB/s               \rantibiotic_resistan 100%[===================>]   2.73K  --.-KB/s    in 0s      \n",
            "\n",
            "2021-07-22 21:06:03 (39.7 MB/s) - ‘antibiotic_resistance_genes_short.fasta’ saved [2799/2799]\n",
            "\n",
            "--2021-07-22 21:06:03--  https://raw.githubusercontent.com/agmcfarland/biopython_workshop/master/mixed_args.fasta\n",
            "Resolving raw.githubusercontent.com (raw.githubusercontent.com)... 185.199.108.133, 185.199.109.133, 185.199.110.133, ...\n",
            "Connecting to raw.githubusercontent.com (raw.githubusercontent.com)|185.199.108.133|:443... connected.\n",
            "HTTP request sent, awaiting response... 200 OK\n",
            "Length: 12387 (12K) [text/plain]\n",
            "Saving to: ‘mixed_args.fasta’\n",
            "\n",
            "mixed_args.fasta    100%[===================>]  12.10K  --.-KB/s    in 0s      \n",
            "\n",
            "2021-07-22 21:06:03 (98.7 MB/s) - ‘mixed_args.fasta’ saved [12387/12387]\n",
            "\n",
            "--2021-07-22 21:06:03--  https://raw.githubusercontent.com/agmcfarland/biopython_workshop/master/short_reads.fastq\n",
            "Resolving raw.githubusercontent.com (raw.githubusercontent.com)... 185.199.108.133, 185.199.109.133, 185.199.110.133, ...\n",
            "Connecting to raw.githubusercontent.com (raw.githubusercontent.com)|185.199.108.133|:443... connected.\n",
            "HTTP request sent, awaiting response... 200 OK\n",
            "Length: 2496 (2.4K) [text/plain]\n",
            "Saving to: ‘short_reads.fastq’\n",
            "\n",
            "short_reads.fastq   100%[===================>]   2.44K  --.-KB/s    in 0s      \n",
            "\n",
            "2021-07-22 21:06:03 (38.7 MB/s) - ‘short_reads.fastq’ saved [2496/2496]\n",
            "\n",
            "--2021-07-22 21:06:04--  https://raw.githubusercontent.com/agmcfarland/biopython_workshop/master/fabv_small.gbk\n",
            "Resolving raw.githubusercontent.com (raw.githubusercontent.com)... 185.199.108.133, 185.199.109.133, 185.199.110.133, ...\n",
            "Connecting to raw.githubusercontent.com (raw.githubusercontent.com)|185.199.108.133|:443... connected.\n",
            "HTTP request sent, awaiting response... 200 OK\n",
            "Length: 1944 (1.9K) [text/plain]\n",
            "Saving to: ‘fabv_small.gbk’\n",
            "\n",
            "fabv_small.gbk      100%[===================>]   1.90K  --.-KB/s    in 0s      \n",
            "\n",
            "2021-07-22 21:06:04 (12.1 MB/s) - ‘fabv_small.gbk’ saved [1944/1944]\n",
            "\n",
            "--2021-07-22 21:06:04--  https://raw.githubusercontent.com/agmcfarland/biopython_workshop/master/salmonella_genome.gbk\n",
            "Resolving raw.githubusercontent.com (raw.githubusercontent.com)... 185.199.108.133, 185.199.109.133, 185.199.110.133, ...\n",
            "Connecting to raw.githubusercontent.com (raw.githubusercontent.com)|185.199.108.133|:443... connected.\n",
            "HTTP request sent, awaiting response... 200 OK\n",
            "Length: 16375135 (16M) [text/plain]\n",
            "Saving to: ‘salmonella_genome.gbk’\n",
            "\n",
            "salmonella_genome.g 100%[===================>]  15.62M  46.0MB/s    in 0.3s    \n",
            "\n",
            "2021-07-22 21:06:05 (46.0 MB/s) - ‘salmonella_genome.gbk’ saved [16375135/16375135]\n",
            "\n"
          ],
          "name": "stdout"
        }
      ]
    },
    {
      "cell_type": "markdown",
      "metadata": {
        "id": "KkmiMw6sCesl"
      },
      "source": [
        "---\n",
        "\n",
        "# Section 1: Extracting and storing information from sequence data\n",
        "\n",
        "Sometimes we might want to loop through sequences in a file and obtain sequence information, such as the GC content or the length of the sequence. We have obtained sequence information like this in Day 3 in order to filter for sequences, but now we wil learn how to store that information instead.\n",
        "\n",
        "Here are some Biopython functions that can be used to obtain sequence information."
      ]
    },
    {
      "cell_type": "code",
      "metadata": {
        "id": "PXmwbdWzCesl"
      },
      "source": [
        "# import Biopython modules we will be using\n",
        "from Bio import SeqIO\n",
        "from Bio.Seq import Seq"
      ],
      "execution_count": 3,
      "outputs": []
    },
    {
      "cell_type": "code",
      "metadata": {
        "id": "udknKXtICesm",
        "outputId": "e0549087-7bdd-4b63-b6a2-a835b845f285",
        "colab": {
          "base_uri": "https://localhost:8080/"
        }
      },
      "source": [
        "# Calculate sequence length\n",
        "for record in SeqIO.parse('antibiotic_resistance_genes_short.fasta','fasta'):\n",
        "    print(len(record.seq))"
      ],
      "execution_count": 4,
      "outputs": [
        {
          "output_type": "stream",
          "text": [
            "744\n",
            "729\n",
            "1143\n"
          ],
          "name": "stdout"
        }
      ]
    },
    {
      "cell_type": "code",
      "metadata": {
        "id": "-LIkIII5Cesm",
        "outputId": "21cd232c-0acc-42eb-d3a0-e30e6eae2dbb",
        "colab": {
          "base_uri": "https://localhost:8080/"
        }
      },
      "source": [
        "# Calculate number of AUG \n",
        "for record in SeqIO.parse('antibiotic_resistance_genes_short.fasta','fasta'):\n",
        "    print(record.seq.count('ATG'))"
      ],
      "execution_count": 5,
      "outputs": [
        {
          "output_type": "stream",
          "text": [
            "9\n",
            "12\n",
            "22\n"
          ],
          "name": "stdout"
        }
      ]
    },
    {
      "cell_type": "code",
      "metadata": {
        "id": "nshvUzxcCesn",
        "outputId": "dff04fd8-5c3a-4537-8865-a492f0b313c2",
        "colab": {
          "base_uri": "https://localhost:8080/"
        }
      },
      "source": [
        "# calculate GC content manually\n",
        "for record in SeqIO.parse('antibiotic_resistance_genes_short.fasta','fasta'):\n",
        "    c_count = record.seq.count('C')\n",
        "    g_count = record.seq.count('G')\n",
        "    seq_length = len(record.seq)\n",
        "\n",
        "    print(100 * (g_count+c_count)/seq_length)"
      ],
      "execution_count": 6,
      "outputs": [
        {
          "output_type": "stream",
          "text": [
            "30.64516129032258\n",
            "28.9437585733882\n",
            "47.41907261592301\n"
          ],
          "name": "stdout"
        }
      ]
    },
    {
      "cell_type": "markdown",
      "metadata": {
        "id": "MeNYzgPsCesn"
      },
      "source": [
        "We can save these data to a list or to a new file, depending on what we want to do. We can use the record.id so that each data point extracted has a unique identifier."
      ]
    },
    {
      "cell_type": "code",
      "metadata": {
        "id": "j7g3TiMmCesn",
        "outputId": "a689e326-5709-4a61-98a6-28bc1c1914c0",
        "colab": {
          "base_uri": "https://localhost:8080/"
        }
      },
      "source": [
        "# make empty list\n",
        "store_data = []\n",
        "\n",
        "for record in SeqIO.parse('antibiotic_resistance_genes_short.fasta','fasta'):\n",
        "    # each data point contains the record.id and the length in a list\n",
        "    store_data.append([record.id, len(record.seq)])\n",
        "# view data\n",
        "store_data"
      ],
      "execution_count": 7,
      "outputs": [
        {
          "output_type": "execute_result",
          "data": {
            "text/plain": [
              "[['ErmB', 744], ['ErmA', 729], ['ErmE', 1143]]"
            ]
          },
          "metadata": {
            "tags": []
          },
          "execution_count": 7
        }
      ]
    },
    {
      "cell_type": "markdown",
      "metadata": {
        "id": "V8N1vZUwCeso"
      },
      "source": [
        "This list of lists data storage approach can be then converted into a Numpy array or a Pandas `pd.DataFrame()`."
      ]
    },
    {
      "cell_type": "code",
      "metadata": {
        "id": "zoebStE8Ceso",
        "outputId": "da63e954-f29e-4e50-d056-7d5499446ef4",
        "colab": {
          "base_uri": "https://localhost:8080/",
          "height": 142
        }
      },
      "source": [
        "import pandas as pd\n",
        "\n",
        "df = pd.DataFrame(store_data, columns=['gene_id','length'])\n",
        "df"
      ],
      "execution_count": 8,
      "outputs": [
        {
          "output_type": "execute_result",
          "data": {
            "text/html": [
              "<div>\n",
              "<style scoped>\n",
              "    .dataframe tbody tr th:only-of-type {\n",
              "        vertical-align: middle;\n",
              "    }\n",
              "\n",
              "    .dataframe tbody tr th {\n",
              "        vertical-align: top;\n",
              "    }\n",
              "\n",
              "    .dataframe thead th {\n",
              "        text-align: right;\n",
              "    }\n",
              "</style>\n",
              "<table border=\"1\" class=\"dataframe\">\n",
              "  <thead>\n",
              "    <tr style=\"text-align: right;\">\n",
              "      <th></th>\n",
              "      <th>gene_id</th>\n",
              "      <th>length</th>\n",
              "    </tr>\n",
              "  </thead>\n",
              "  <tbody>\n",
              "    <tr>\n",
              "      <th>0</th>\n",
              "      <td>ErmB</td>\n",
              "      <td>744</td>\n",
              "    </tr>\n",
              "    <tr>\n",
              "      <th>1</th>\n",
              "      <td>ErmA</td>\n",
              "      <td>729</td>\n",
              "    </tr>\n",
              "    <tr>\n",
              "      <th>2</th>\n",
              "      <td>ErmE</td>\n",
              "      <td>1143</td>\n",
              "    </tr>\n",
              "  </tbody>\n",
              "</table>\n",
              "</div>"
            ],
            "text/plain": [
              "  gene_id  length\n",
              "0    ErmB     744\n",
              "1    ErmA     729\n",
              "2    ErmE    1143"
            ]
          },
          "metadata": {
            "tags": []
          },
          "execution_count": 8
        }
      ]
    },
    {
      "cell_type": "markdown",
      "metadata": {
        "id": "2PgfBPvzCeso"
      },
      "source": [
        "--- \n",
        "### Exercise 1a\n",
        "\n",
        "We want to build a dataframe that contains information on whether specific protein motifs are located in each sequence. We will assign a 1 if it is there, and a 0 if it is not.\n",
        "\n",
        "Use `SeqIO.parse()` to parse the fasta file and `translate()` the `record.seq`. `print()` each `record` in the loop."
      ]
    },
    {
      "cell_type": "code",
      "metadata": {
        "id": "Mp3bqpVlCesp"
      },
      "source": [
        "for ___ in ___.___('mixed_args.fasta', 'fasta'):\n",
        "    record.seq = record.___.___\n",
        "    print(___)"
      ],
      "execution_count": null,
      "outputs": []
    },
    {
      "cell_type": "markdown",
      "metadata": {
        "id": "FTOZ-On8Cesp"
      },
      "source": [
        "### Exercise 1b\n",
        "\n",
        "To start, make `store_data` an empty list. \n",
        "\n",
        "Now let's search each `record` for the first motif `'QRALGL'` in our sequences using `find()`. Assign a 1 if it is found and a 0 if it is not. \n",
        "\n",
        "`append()` `sequence_identifier` and `motif_1` to `store_data`. \n",
        "\n",
        "Afterwards, `print()` `store_data`"
      ]
    },
    {
      "cell_type": "code",
      "metadata": {
        "id": "y8iBYoFsCesp"
      },
      "source": [
        "store_data = ___ \n",
        "\n",
        "for ___ in ___.___('mixed_args.fasta', 'fasta'):\n",
        "    record.seq = record.___.___\n",
        "\n",
        "    sequence_identifier = record.id\n",
        "\n",
        "    if record.___.find('QRALGL') > -1:\n",
        "        motif_1 = ___\n",
        "    else:\n",
        "        motif_1 = ___\n",
        "\n",
        "    store_data.append([___, ___])\n",
        "\n",
        "print(store_data)"
      ],
      "execution_count": null,
      "outputs": []
    },
    {
      "cell_type": "markdown",
      "metadata": {
        "id": "fyMEh4oaCesp"
      },
      "source": [
        "### Exercise 1c \n",
        "\n",
        "Now let's test for the presence of two additional motifs, using the same basic code structure as above. Use `find()` to search for the other two motifs. Afterwards, `append()` `sequence_identifier`, `motif_1`, `motif_2`, and `motif_3` to `store_data`."
      ]
    },
    {
      "cell_type": "code",
      "metadata": {
        "id": "CICX9HjLCesq",
        "outputId": "5e919f79-b5d1-4b06-8cf2-cef69ad7b402",
        "colab": {
          "base_uri": "https://localhost:8080/",
          "height": 232
        }
      },
      "source": [
        "store_data = ___ \n",
        "\n",
        "for ___ in ___.___('mixed_args.fasta', 'fasta'):\n",
        "    record.seq = record.___.____\n",
        "\n",
        "    sequence_identifier = record.id\n",
        "\n",
        "    if ___.___.find('QRALGL') > -1:\n",
        "        motif_1 = ___\n",
        "    else:\n",
        "        motif_1 = ___\n",
        "\n",
        "    if ___.___.find('GAKR') > -1:\n",
        "        motif_2 = ___\n",
        "    else:\n",
        "        motif_2 = ___\n",
        "\n",
        "    if ___.___.find('DGTA') > -1:\n",
        "        motif_3 = ___\n",
        "    else:\n",
        "        motif_3 = ___\n",
        "\n",
        "\n",
        "    store_data.append([___, ___, ___, ___])\n",
        "\n",
        "store_data"
      ],
      "execution_count": 9,
      "outputs": [
        {
          "output_type": "error",
          "ename": "AttributeError",
          "evalue": "ignored",
          "traceback": [
            "\u001b[0;31m---------------------------------------------------------------------------\u001b[0m",
            "\u001b[0;31mAttributeError\u001b[0m                            Traceback (most recent call last)",
            "\u001b[0;32m<ipython-input-9-46c4fcfb8d7d>\u001b[0m in \u001b[0;36m<module>\u001b[0;34m()\u001b[0m\n\u001b[1;32m      1\u001b[0m \u001b[0mstore_data\u001b[0m \u001b[0;34m=\u001b[0m \u001b[0m___\u001b[0m\u001b[0;34m\u001b[0m\u001b[0;34m\u001b[0m\u001b[0m\n\u001b[1;32m      2\u001b[0m \u001b[0;34m\u001b[0m\u001b[0m\n\u001b[0;32m----> 3\u001b[0;31m \u001b[0;32mfor\u001b[0m \u001b[0m___\u001b[0m \u001b[0;32min\u001b[0m \u001b[0m___\u001b[0m\u001b[0;34m.\u001b[0m\u001b[0m___\u001b[0m\u001b[0;34m(\u001b[0m\u001b[0;34m'mixed_args.fasta'\u001b[0m\u001b[0;34m,\u001b[0m \u001b[0;34m'fasta'\u001b[0m\u001b[0;34m)\u001b[0m\u001b[0;34m:\u001b[0m\u001b[0;34m\u001b[0m\u001b[0;34m\u001b[0m\u001b[0m\n\u001b[0m\u001b[1;32m      4\u001b[0m     \u001b[0mrecord\u001b[0m\u001b[0;34m.\u001b[0m\u001b[0mseq\u001b[0m \u001b[0;34m=\u001b[0m \u001b[0mrecord\u001b[0m\u001b[0;34m.\u001b[0m\u001b[0m___\u001b[0m\u001b[0;34m.\u001b[0m\u001b[0m____\u001b[0m\u001b[0;34m\u001b[0m\u001b[0;34m\u001b[0m\u001b[0m\n\u001b[1;32m      5\u001b[0m \u001b[0;34m\u001b[0m\u001b[0m\n",
            "\u001b[0;31mAttributeError\u001b[0m: 'str' object has no attribute '___'"
          ]
        }
      ]
    },
    {
      "cell_type": "markdown",
      "metadata": {
        "id": "vRYsAQRWCesq"
      },
      "source": [
        "### Exercise 1d\n",
        "\n",
        "Convert `store_data` into a pandas `pd.DataFrame()`, `df`, with `columns` `'gene_id'`, `'motif1'`, `'motif2'`, `'motif3'`, `'motif4'`"
      ]
    },
    {
      "cell_type": "code",
      "metadata": {
        "id": "TaoI8YjpCesq"
      },
      "source": [
        "df = pd.___(___, columns=['gene_id','motif1','motif2','___'])\n",
        "df"
      ],
      "execution_count": null,
      "outputs": []
    },
    {
      "cell_type": "markdown",
      "metadata": {
        "id": "Xw4qZZOdCesr"
      },
      "source": [
        "Storing data in a dataframe like pandas allows for further downstream processing of sequence data using non-sequence techniques. \n",
        "\n",
        "\n",
        "For example, we can mimic a hierarchical clustering of motif detection by sorting the dataframe by presence/absence of all three motifs"
      ]
    },
    {
      "cell_type": "code",
      "metadata": {
        "id": "aCPzJqQMCesr"
      },
      "source": [
        "df = df.sort_values(['motif1','motif2','motif3'], ascending=(True,True,True))\n",
        "df"
      ],
      "execution_count": null,
      "outputs": []
    },
    {
      "cell_type": "markdown",
      "metadata": {
        "id": "iZSuynA5Cesr"
      },
      "source": [
        "---\n",
        "\n",
        "Sometimes it is necessary to extract data sequence headers themselves. An example would be taxonomy data that tells you where which species the sequence belongs to. The base python function `split()` is very useful here. If you know how the headers are organized, you can find common characters that can split the header, which is a string, into items in a list. \n",
        "\n",
        "As an example:\n",
        "\n"
      ]
    },
    {
      "cell_type": "code",
      "metadata": {
        "id": "xR3kBmDaCesr",
        "outputId": "cb0ec688-67bf-418b-c3f2-e968c021c0e8",
        "colab": {
          "base_uri": "https://localhost:8080/"
        }
      },
      "source": [
        "record.description = 'ErmB AAF86219.1 [Enterococcus faecium]'\n",
        "# Splits record.description into four items in a list\n",
        "record.description.split(' ')"
      ],
      "execution_count": 10,
      "outputs": [
        {
          "output_type": "execute_result",
          "data": {
            "text/plain": [
              "['ErmB', 'AAF86219.1', '[Enterococcus', 'faecium]']"
            ]
          },
          "metadata": {
            "tags": []
          },
          "execution_count": 10
        }
      ]
    },
    {
      "cell_type": "code",
      "metadata": {
        "id": "iT86kvtSCesr",
        "outputId": "5876e828-75d0-486e-deb3-6bf7528e8982",
        "colab": {
          "base_uri": "https://localhost:8080/"
        }
      },
      "source": [
        "record.description = 'ErmB AAF86219.1 [Enterococcus faecium]'\n",
        "# Splits record.description into two items in a list\n",
        "record.description.split('[')"
      ],
      "execution_count": 11,
      "outputs": [
        {
          "output_type": "execute_result",
          "data": {
            "text/plain": [
              "['ErmB AAF86219.1 ', 'Enterococcus faecium]']"
            ]
          },
          "metadata": {
            "tags": []
          },
          "execution_count": 11
        }
      ]
    },
    {
      "cell_type": "markdown",
      "metadata": {
        "id": "gSbNFmL_Cess"
      },
      "source": [
        "We can use `split()` to convert the header into a list that we can then extract specific information from."
      ]
    },
    {
      "cell_type": "code",
      "metadata": {
        "id": "cMfbwSK-Cess",
        "outputId": "8035e9cc-8b6f-493c-8b96-0d494cd0da38",
        "colab": {
          "base_uri": "https://localhost:8080/"
        }
      },
      "source": [
        "record.description = 'ErmB AAF86219.1 [Enterococcus faecium]'\n",
        "header_data = record.description.split(' ') # header_data is now a list\n",
        "genus = header_data[2] # retrieving the third item in the header_data list\n",
        "species = header_data[3] # retrieving the fourth item in the header_data list\n",
        "\n",
        "print(genus)\n",
        "print(species)\n"
      ],
      "execution_count": 12,
      "outputs": [
        {
          "output_type": "stream",
          "text": [
            "[Enterococcus\n",
            "faecium]\n"
          ],
          "name": "stdout"
        }
      ]
    },
    {
      "cell_type": "markdown",
      "metadata": {
        "id": "Tl_3EWgbCess"
      },
      "source": [
        "We can extract sequence information along with header information in a single pass."
      ]
    },
    {
      "cell_type": "code",
      "metadata": {
        "id": "Gc5vcXAACess"
      },
      "source": [
        "# make empty list\n",
        "store_data = []\n",
        "\n",
        "for record in SeqIO.parse('antibiotic_resistance_genes_short.fasta','fasta'):\n",
        "\n",
        "    # get individual counts of each nucleotide\n",
        "    c_count = record.seq.count('C')\n",
        "    g_count = record.seq.count('G')\n",
        "    a_count = record.seq.count('A')\n",
        "    t_count = record.seq.count('T')\n",
        "    # get the length of the sequence\n",
        "    seq_length = len(record.seq)\n",
        "    # calculate the gc content of the sequence\n",
        "    gc_content = 100 * (g_count+c_count)/seq_length\n",
        "\n",
        "    # split the header by whitespace and store the resulting list in header_data\n",
        "    header_data = record.description.split(' ')\n",
        "    # get the genus of the sequence by accessing header_data\n",
        "    genus = header_data[2]\n",
        "    # get the species of the sequence by accessing header_data\n",
        "    species = header_data[3]\n",
        "     \n",
        "    # store all of the data in store_data \n",
        "    store_data.append([record.id, seq_length, c_count, g_count, a_count, t_count, gc_content, genus, species])"
      ],
      "execution_count": null,
      "outputs": []
    },
    {
      "cell_type": "code",
      "metadata": {
        "id": "1AhXkHuICess"
      },
      "source": [
        "df = pd.DataFrame(store_data, columns = ['record_id', 'seq_length', 'c_count', 'g_count', 'a_count', 't_count', 'gc_content', 'genus', 'species'])\n",
        "df"
      ],
      "execution_count": null,
      "outputs": []
    },
    {
      "cell_type": "markdown",
      "metadata": {
        "id": "wJHiBybkCest"
      },
      "source": [
        "---\n",
        "### Exercise 2a\n",
        "\n",
        "Among other things, we want to extract the genus and species from each sequences in `mixed_args.fasta` \n",
        "\n",
        "Before we try to extract data from the headers, we want to examine how the headers are organized to see where we can `split()` them.\n",
        "\n",
        "Use `SeqIO.parse` to loop through each `record` in `mixed_args.fasta`.\n",
        "\n",
        "`print()` each `record.description`"
      ]
    },
    {
      "cell_type": "code",
      "metadata": {
        "id": "iwRRU2wuCest"
      },
      "source": [
        "for record in SeqIO.parse('mixed_args.fasta', 'fasta'):\n",
        "    print( ___ )"
      ],
      "execution_count": null,
      "outputs": []
    },
    {
      "cell_type": "markdown",
      "metadata": {
        "id": "vFiDNl0JCest"
      },
      "source": [
        "### Exercise 2b\n",
        "\n",
        "The headers (`record.description`) are more complicated than the previous example. \n",
        "\n",
        "However, a good place to `split()` the `record.description` would be the `=` signs.\n",
        "\n",
        "Store the resulting list in the variable `header_data`. \n",
        "\n",
        "`print()` `header_data` to see how `record.description` was split.\n",
        "\n",
        "\n"
      ]
    },
    {
      "cell_type": "code",
      "metadata": {
        "id": "ZL-cO_2GCest"
      },
      "source": [
        "for record in SeqIO.parse('mixed_args.fasta', 'fasta'):\n",
        "    header_data = record.description.___('___')\n",
        "    print(header_data)\n",
        "    print('\\n')"
      ],
      "execution_count": null,
      "outputs": []
    },
    {
      "cell_type": "markdown",
      "metadata": {
        "id": "1Lj-qMtGCest"
      },
      "source": [
        "### Exercise 2c\n",
        "\n",
        "Using the first `split()` `record.description` as a reference, here is the structure of the split list.\n",
        "\n",
        "`['ERMA_STAAR Q6GKQ0 rRNA adenine N-6-methyltransferase OS', 'Staphylococcus aureus (strain MRSA252) OX', '282458 GN', 'ermA1 PE', '3 SV', '1']`\n",
        "\n",
        "We can see that the taxonomic data is the second item in the list (or first if we use Python indexing). \n",
        "\n",
        "For each split `record.description`, `append()` both `record.id` and the `taxonomic_info` to the list `taxonomy_store`.\n"
      ]
    },
    {
      "cell_type": "code",
      "metadata": {
        "id": "mC7PibfGCesu",
        "outputId": "306b98ab-61fa-40ed-d644-83d0f1d7781c",
        "colab": {
          "base_uri": "https://localhost:8080/"
        }
      },
      "source": [
        "taxonomy_store = []\n",
        "\n",
        "for record in SeqIO.parse('mixed_args.fasta', 'fasta'):\n",
        "    header_data = record.description.split('=')\n",
        "    taxonomic_info = header_data[1]\n",
        "    taxonomy_store.append([record.id,taxonomic_info])\n",
        "\n",
        "taxonomy_store"
      ],
      "execution_count": 20,
      "outputs": [
        {
          "output_type": "execute_result",
          "data": {
            "text/plain": [
              "[['ERMA_STAAR', 'Staphylococcus aureus (strain MRSA252) OX'],\n",
              " ['ERMA_STAAM', 'Staphylococcus aureus (strain Mu50 / ATCC 700699) OX'],\n",
              " ['ERMA_STAAU', 'Staphylococcus aureus OX'],\n",
              " ['BLAC_MYCTO', 'Mycobacterium tuberculosis (strain CDC 1551 / Oshkosh) OX'],\n",
              " ['BLAC_MYCBO', 'Mycobacterium bovis (strain ATCC BAA-935 / AF2122/97) OX'],\n",
              " ['A0A133QE03_STASI', 'Staphylococcus simulans OX'],\n",
              " ['AMPC_CITFR', 'Citrobacter freundii OX'],\n",
              " ['D4REG1_ENTFC', 'Enterococcus faecium E1679 OX'],\n",
              " ['Q7DIC2_STAAU', 'Staphylococcus aureus OX'],\n",
              " ['BLAC_MYCTA', 'Mycobacterium tuberculosis (strain ATCC 25177 / H37Ra) OX'],\n",
              " ['A0A564SEJ2_ENTAV', 'Enterococcus avium OX'],\n",
              " ['A0A7V6HLW4_9FIRM', 'Bacilli bacterium OX'],\n",
              " ['BLAC_MYCTU', 'Mycobacterium tuberculosis (strain ATCC 25618 / H37Rv) OX']]"
            ]
          },
          "metadata": {
            "tags": []
          },
          "execution_count": 20
        }
      ]
    },
    {
      "cell_type": "markdown",
      "metadata": {
        "id": "qPu-CS_SCesu"
      },
      "source": [
        "### Exercise 2d\n",
        "\n",
        "Conver the list `taxonomy_store` into a `pd.DataFrame()` with `columns` `'gene_id'` and `'taxonomy'`"
      ]
    },
    {
      "cell_type": "code",
      "metadata": {
        "id": "78SNin6KCesu",
        "outputId": "fc1241ca-a391-4c08-c0ba-ff42deaed682",
        "colab": {
          "base_uri": "https://localhost:8080/",
          "height": 452
        }
      },
      "source": [
        "df = pd.DataFrame(taxonomy_store, columns = ['gene_id', 'taxonomy'])\n",
        "df"
      ],
      "execution_count": 22,
      "outputs": [
        {
          "output_type": "execute_result",
          "data": {
            "text/html": [
              "<div>\n",
              "<style scoped>\n",
              "    .dataframe tbody tr th:only-of-type {\n",
              "        vertical-align: middle;\n",
              "    }\n",
              "\n",
              "    .dataframe tbody tr th {\n",
              "        vertical-align: top;\n",
              "    }\n",
              "\n",
              "    .dataframe thead th {\n",
              "        text-align: right;\n",
              "    }\n",
              "</style>\n",
              "<table border=\"1\" class=\"dataframe\">\n",
              "  <thead>\n",
              "    <tr style=\"text-align: right;\">\n",
              "      <th></th>\n",
              "      <th>gene_id</th>\n",
              "      <th>taxonomy</th>\n",
              "    </tr>\n",
              "  </thead>\n",
              "  <tbody>\n",
              "    <tr>\n",
              "      <th>0</th>\n",
              "      <td>ERMA_STAAR</td>\n",
              "      <td>Staphylococcus aureus (strain MRSA252) OX</td>\n",
              "    </tr>\n",
              "    <tr>\n",
              "      <th>1</th>\n",
              "      <td>ERMA_STAAM</td>\n",
              "      <td>Staphylococcus aureus (strain Mu50 / ATCC 7006...</td>\n",
              "    </tr>\n",
              "    <tr>\n",
              "      <th>2</th>\n",
              "      <td>ERMA_STAAU</td>\n",
              "      <td>Staphylococcus aureus OX</td>\n",
              "    </tr>\n",
              "    <tr>\n",
              "      <th>3</th>\n",
              "      <td>BLAC_MYCTO</td>\n",
              "      <td>Mycobacterium tuberculosis (strain CDC 1551 / ...</td>\n",
              "    </tr>\n",
              "    <tr>\n",
              "      <th>4</th>\n",
              "      <td>BLAC_MYCBO</td>\n",
              "      <td>Mycobacterium bovis (strain ATCC BAA-935 / AF2...</td>\n",
              "    </tr>\n",
              "    <tr>\n",
              "      <th>5</th>\n",
              "      <td>A0A133QE03_STASI</td>\n",
              "      <td>Staphylococcus simulans OX</td>\n",
              "    </tr>\n",
              "    <tr>\n",
              "      <th>6</th>\n",
              "      <td>AMPC_CITFR</td>\n",
              "      <td>Citrobacter freundii OX</td>\n",
              "    </tr>\n",
              "    <tr>\n",
              "      <th>7</th>\n",
              "      <td>D4REG1_ENTFC</td>\n",
              "      <td>Enterococcus faecium E1679 OX</td>\n",
              "    </tr>\n",
              "    <tr>\n",
              "      <th>8</th>\n",
              "      <td>Q7DIC2_STAAU</td>\n",
              "      <td>Staphylococcus aureus OX</td>\n",
              "    </tr>\n",
              "    <tr>\n",
              "      <th>9</th>\n",
              "      <td>BLAC_MYCTA</td>\n",
              "      <td>Mycobacterium tuberculosis (strain ATCC 25177 ...</td>\n",
              "    </tr>\n",
              "    <tr>\n",
              "      <th>10</th>\n",
              "      <td>A0A564SEJ2_ENTAV</td>\n",
              "      <td>Enterococcus avium OX</td>\n",
              "    </tr>\n",
              "    <tr>\n",
              "      <th>11</th>\n",
              "      <td>A0A7V6HLW4_9FIRM</td>\n",
              "      <td>Bacilli bacterium OX</td>\n",
              "    </tr>\n",
              "    <tr>\n",
              "      <th>12</th>\n",
              "      <td>BLAC_MYCTU</td>\n",
              "      <td>Mycobacterium tuberculosis (strain ATCC 25618 ...</td>\n",
              "    </tr>\n",
              "  </tbody>\n",
              "</table>\n",
              "</div>"
            ],
            "text/plain": [
              "             gene_id                                           taxonomy\n",
              "0         ERMA_STAAR          Staphylococcus aureus (strain MRSA252) OX\n",
              "1         ERMA_STAAM  Staphylococcus aureus (strain Mu50 / ATCC 7006...\n",
              "2         ERMA_STAAU                           Staphylococcus aureus OX\n",
              "3         BLAC_MYCTO  Mycobacterium tuberculosis (strain CDC 1551 / ...\n",
              "4         BLAC_MYCBO  Mycobacterium bovis (strain ATCC BAA-935 / AF2...\n",
              "5   A0A133QE03_STASI                         Staphylococcus simulans OX\n",
              "6         AMPC_CITFR                            Citrobacter freundii OX\n",
              "7       D4REG1_ENTFC                      Enterococcus faecium E1679 OX\n",
              "8       Q7DIC2_STAAU                           Staphylococcus aureus OX\n",
              "9         BLAC_MYCTA  Mycobacterium tuberculosis (strain ATCC 25177 ...\n",
              "10  A0A564SEJ2_ENTAV                              Enterococcus avium OX\n",
              "11  A0A7V6HLW4_9FIRM                               Bacilli bacterium OX\n",
              "12        BLAC_MYCTU  Mycobacterium tuberculosis (strain ATCC 25618 ..."
            ]
          },
          "metadata": {
            "tags": []
          },
          "execution_count": 22
        }
      ]
    },
    {
      "cell_type": "markdown",
      "metadata": {
        "id": "JOyGnUyUCesu"
      },
      "source": [
        "---\n",
        "\n",
        "We can use `SeqIO` for more than just fasta files. For example, we can examine the reads in `.fastq` file using almost the same code as for a fasta file."
      ]
    },
    {
      "cell_type": "code",
      "metadata": {
        "id": "LtYk-CzHCesu",
        "outputId": "983dbe76-4dc8-4742-d066-2cd0ca493ff2",
        "colab": {
          "base_uri": "https://localhost:8080/"
        }
      },
      "source": [
        "for record in SeqIO.parse('short_reads.fastq', 'fastq'):\n",
        "    print(record)\n",
        "    print('\\n') # for clarity"
      ],
      "execution_count": 23,
      "outputs": [
        {
          "output_type": "stream",
          "text": [
            "ID: M05164:33:000000000-BGDN6:1:1101:9154:2416\n",
            "Name: M05164:33:000000000-BGDN6:1:1101:9154:2416\n",
            "Description: M05164:33:000000000-BGDN6:1:1101:9154:2416 1:N:0:CGTACTAG+TATCCTCT\n",
            "Number of features: 0\n",
            "Per letter annotation for: phred_quality\n",
            "Seq('GCCCAGGTTCAACAACATCTCCTCGCGCTGCGGCTTCAGGTATTGGTGTCCGAC...CCA')\n",
            "\n",
            "\n",
            "ID: M05164:33:000000000-BGDN6:1:1101:16178:2450\n",
            "Name: M05164:33:000000000-BGDN6:1:1101:16178:2450\n",
            "Description: M05164:33:000000000-BGDN6:1:1101:16178:2450 1:N:0:CGTACTAG+TATCCTCT\n",
            "Number of features: 0\n",
            "Per letter annotation for: phred_quality\n",
            "Seq('GTATCAATCAACGTGCGGCGCTGATCGTTACCTTCAGAGTAACTGTTCCGAGCA...CCA')\n",
            "\n",
            "\n",
            "ID: M05164:33:000000000-BGDN6:1:1101:16201:2387\n",
            "Name: M05164:33:000000000-BGDN6:1:1101:16201:2387\n",
            "Description: M05164:33:000000000-BGDN6:1:1101:16201:2387 1:N:0:CGTACTAG+TATCCTCT\n",
            "Number of features: 0\n",
            "Per letter annotation for: phred_quality\n",
            "Seq('CCCAGTATGAATAGATATTAAACAAGCACCATCACCTTAAAAATCACTGGTGCC...CCA')\n",
            "\n",
            "\n",
            "ID: M05164:33:000000000-BGDN6:1:1101:24424:2376\n",
            "Name: M05164:33:000000000-BGDN6:1:1101:24424:2376\n",
            "Description: M05164:33:000000000-BGDN6:1:1101:24424:2376 1:N:0:CGTACTAG+TATCCTCT\n",
            "Number of features: 0\n",
            "Per letter annotation for: phred_quality\n",
            "Seq('CGTCTCCTGTCTCAGGTGGACTGGGTCATCCATGCCGCCGCCATTACACGGCTG...GCC')\n",
            "\n",
            "\n"
          ],
          "name": "stdout"
        }
      ]
    },
    {
      "cell_type": "code",
      "metadata": {
        "id": "Kw_1jmZ5Cesu",
        "outputId": "9cb20a8e-8f7d-42c8-def5-88627c868ce9",
        "colab": {
          "base_uri": "https://localhost:8080/"
        }
      },
      "source": [
        "dir(record)"
      ],
      "execution_count": 24,
      "outputs": [
        {
          "output_type": "execute_result",
          "data": {
            "text/plain": [
              "['__add__',\n",
              " '__bool__',\n",
              " '__class__',\n",
              " '__contains__',\n",
              " '__delattr__',\n",
              " '__dict__',\n",
              " '__dir__',\n",
              " '__doc__',\n",
              " '__eq__',\n",
              " '__format__',\n",
              " '__ge__',\n",
              " '__getattribute__',\n",
              " '__getitem__',\n",
              " '__gt__',\n",
              " '__hash__',\n",
              " '__init__',\n",
              " '__init_subclass__',\n",
              " '__iter__',\n",
              " '__le__',\n",
              " '__le___',\n",
              " '__len__',\n",
              " '__lt__',\n",
              " '__module__',\n",
              " '__ne__',\n",
              " '__new__',\n",
              " '__radd__',\n",
              " '__reduce__',\n",
              " '__reduce_ex__',\n",
              " '__repr__',\n",
              " '__setattr__',\n",
              " '__sizeof__',\n",
              " '__str__',\n",
              " '__subclasshook__',\n",
              " '__weakref__',\n",
              " '_per_letter_annotations',\n",
              " '_seq',\n",
              " '_set_per_letter_annotations',\n",
              " '_set_seq',\n",
              " 'annotations',\n",
              " 'dbxrefs',\n",
              " 'description',\n",
              " 'features',\n",
              " 'format',\n",
              " 'id',\n",
              " 'letter_annotations',\n",
              " 'lower',\n",
              " 'name',\n",
              " 'reverse_complement',\n",
              " 'seq',\n",
              " 'translate',\n",
              " 'upper']"
            ]
          },
          "metadata": {
            "tags": []
          },
          "execution_count": 24
        }
      ]
    },
    {
      "cell_type": "code",
      "metadata": {
        "id": "-5_EflVrCesv",
        "outputId": "44dd70f7-e987-4e0c-d097-68c0c7767311",
        "colab": {
          "base_uri": "https://localhost:8080/"
        }
      },
      "source": [
        "record._set_seq"
      ],
      "execution_count": 26,
      "outputs": [
        {
          "output_type": "execute_result",
          "data": {
            "text/plain": [
              "<bound method SeqRecord._set_seq of SeqRecord(seq=Seq('CGTCTCCTGTCTCAGGTGGACTGGGTCATCCATGCCGCCGCCATTACACGGCTG...GCC'), id='M05164:33:000000000-BGDN6:1:1101:24424:2376', name='M05164:33:000000000-BGDN6:1:1101:24424:2376', description='M05164:33:000000000-BGDN6:1:1101:24424:2376 1:N:0:CGTACTAG+TATCCTCT', dbxrefs=[])>"
            ]
          },
          "metadata": {
            "tags": []
          },
          "execution_count": 26
        }
      ]
    },
    {
      "cell_type": "markdown",
      "metadata": {
        "id": "R0es_VwmCesv"
      },
      "source": [
        "---\n",
        "### Exercise 3a\n",
        "\n",
        "\n",
        "\n",
        "`print()` the `read_length` of each read in `short_reads.fast` using `len()`."
      ]
    },
    {
      "cell_type": "code",
      "metadata": {
        "id": "Fxcpbk3qCesv",
        "outputId": "512eb240-c7bf-4378-d547-4ae6ea57ea42",
        "colab": {
          "base_uri": "https://localhost:8080/"
        }
      },
      "source": [
        "for record in SeqIO.parse('short_reads.fastq', 'fastq'):\n",
        "    read_length = len(record.seq)\n",
        "    print(read_length)"
      ],
      "execution_count": 27,
      "outputs": [
        {
          "output_type": "stream",
          "text": [
            "262\n",
            "269\n",
            "272\n",
            "300\n"
          ],
          "name": "stdout"
        }
      ]
    },
    {
      "cell_type": "markdown",
      "metadata": {
        "id": "Rcj7QAgMCesv"
      },
      "source": [
        "### Exercise 3b\n",
        "count the **total** number of reads in `short_reads.fastq`. `print()` the total number of reads."
      ]
    },
    {
      "cell_type": "code",
      "metadata": {
        "id": "VFeBwT_3Cesv",
        "outputId": "24c89273-edef-4df8-a30b-10d0852c41ec",
        "colab": {
          "base_uri": "https://localhost:8080/"
        }
      },
      "source": [
        "total_count = 0\n",
        "\n",
        "for record in SeqIO.parse('short_reads.fastq', 'fastq'):\n",
        "    total_count = total_count + 1\n",
        "\n",
        "print('total reads:', total_count)"
      ],
      "execution_count": 28,
      "outputs": [
        {
          "output_type": "stream",
          "text": [
            "total reads: 4\n"
          ],
          "name": "stdout"
        }
      ]
    },
    {
      "cell_type": "markdown",
      "metadata": {
        "id": "mIdOV3DuCesv"
      },
      "source": [
        "### Exercise 3c\n",
        "\n",
        "`print()` the `record.id` and `read_length` of all reads that have fewer than or equal to 270 bases."
      ]
    },
    {
      "cell_type": "code",
      "metadata": {
        "id": "Kpc65uS-Cesv",
        "outputId": "a3c544b4-fab4-4ece-a29d-d7a021c43084",
        "colab": {
          "base_uri": "https://localhost:8080/"
        }
      },
      "source": [
        "for record in SeqIO.parse('short_reads.fastq', 'fastq'):\n",
        "    read_length = len(record.seq)\n",
        "    if read_length <= 270:\n",
        "        print('ID:', record.id)\n",
        "        print('length:', read_length)\n",
        "        print('\\n')"
      ],
      "execution_count": 29,
      "outputs": [
        {
          "output_type": "stream",
          "text": [
            "ID: M05164:33:000000000-BGDN6:1:1101:9154:2416\n",
            "length: 262\n",
            "\n",
            "\n",
            "ID: M05164:33:000000000-BGDN6:1:1101:16178:2450\n",
            "length: 269\n",
            "\n",
            "\n"
          ],
          "name": "stdout"
        }
      ]
    },
    {
      "cell_type": "markdown",
      "metadata": {
        "id": "ZBorj9B_Cesv"
      },
      "source": [
        "---\n",
        "\n"
      ]
    },
    {
      "cell_type": "markdown",
      "metadata": {
        "id": "4ykkAEcNCesw"
      },
      "source": [
        "## Interlude\n",
        "\n",
        "Before we get to the next section, we need to review dictionaries.\n",
        "\n",
        "Dictionaries are similar to lists in that they are a way to hold data. A dictionary is different because it is composed of a 'key' and 'value' pairs. For example\n"
      ]
    },
    {
      "cell_type": "code",
      "metadata": {
        "id": "rbx5Q8jQCesw",
        "outputId": "15388709-8d82-48dc-b129-25c42f4866e2",
        "colab": {
          "base_uri": "https://localhost:8080/"
        }
      },
      "source": [
        "my_dict = { 'animal': ['dog','cat'],\n",
        "            'person': ['taylor','simone'],\n",
        "            'vehicle': ['car','plane']}\n",
        "\n",
        "my_dict"
      ],
      "execution_count": 30,
      "outputs": [
        {
          "output_type": "execute_result",
          "data": {
            "text/plain": [
              "{'animal': ['dog', 'cat'],\n",
              " 'person': ['taylor', 'simone'],\n",
              " 'vehicle': ['car', 'plane']}"
            ]
          },
          "metadata": {
            "tags": []
          },
          "execution_count": 30
        }
      ]
    },
    {
      "cell_type": "markdown",
      "metadata": {
        "id": "S2Up3jFwCesw"
      },
      "source": [
        "You can access the **elements** in a key by using they keyword"
      ]
    },
    {
      "cell_type": "code",
      "metadata": {
        "id": "UZxArdsPCesw",
        "outputId": "bde33bd7-c16c-45d8-e342-155190291b11",
        "colab": {
          "base_uri": "https://localhost:8080/"
        }
      },
      "source": [
        "# access all elements in key 'animal'\n",
        "my_dict['animal']"
      ],
      "execution_count": 31,
      "outputs": [
        {
          "output_type": "execute_result",
          "data": {
            "text/plain": [
              "['dog', 'cat']"
            ]
          },
          "metadata": {
            "tags": []
          },
          "execution_count": 31
        }
      ]
    },
    {
      "cell_type": "code",
      "metadata": {
        "id": "T_dlR2STCesw",
        "outputId": "370536b5-63d9-4171-a7f6-9e7a0d6204a2",
        "colab": {
          "base_uri": "https://localhost:8080/",
          "height": 35
        }
      },
      "source": [
        "# access the first element of key 'animal'\n",
        "my_dict['animal'][0]"
      ],
      "execution_count": 32,
      "outputs": [
        {
          "output_type": "execute_result",
          "data": {
            "application/vnd.google.colaboratory.intrinsic+json": {
              "type": "string"
            },
            "text/plain": [
              "'dog'"
            ]
          },
          "metadata": {
            "tags": []
          },
          "execution_count": 32
        }
      ]
    },
    {
      "cell_type": "markdown",
      "metadata": {
        "id": "JX1k5RsbCesw"
      },
      "source": [
        "# Section 2: Parsing and manipulating GenBank (.gbk/.gbff) files\n",
        "\n",
        "Until now we have been exclusively working with sequences in `fasta` format. As we saw from our most recent example, however, `SeqIO` works with [`fastq` files](https://www.researchgate.net/profile/Morteza-Hosseini-6/publication/309134977/figure/fig2/AS:417452136648711@1476539753452/A-sample-of-the-FASTQ-file_W640.jpg). As we're finding out, `SeqIO` also works with other file types, including `GenBank` files. \n",
        "\n",
        "Compared to [`fasta` files](https://www.researchgate.net/profile/Morteza-Hosseini-6/publication/309134977/figure/fig1/AS:417452136648705@1476539753111/A-sample-of-the-Multi-FASTA-file_W640.jpg), [`GenBank` files](https://archaea.i2bc.paris-saclay.fr/baget/Images/hup.png) contain more information.\n",
        "\n",
        "We will go over how to open and explore the data found in a `GenBank` file as well as how to extract features of interest and save them to a new file.\n",
        "\n",
        "We will start by opening a `.gbk` file that only has one gene in it called fabV. We can see that we can access the same types of information as we would a `fasta` file."
      ]
    },
    {
      "cell_type": "code",
      "metadata": {
        "id": "1S-LWbJfCesx",
        "outputId": "bfabb8af-1a10-411e-eb94-728fae453e71",
        "colab": {
          "base_uri": "https://localhost:8080/"
        }
      },
      "source": [
        "for record in SeqIO.parse('fabv_small.gbk', 'genbank'):\n",
        "    # record id\n",
        "    print(record.id)\n",
        "    print('\\n')\n",
        "    print(record.description)\n",
        "    print('\\n')\n",
        "    print(record.seq)"
      ],
      "execution_count": 33,
      "outputs": [
        {
          "output_type": "stream",
          "text": [
            "WP_003102929.1\n",
            "\n",
            "\n",
            "MULTISPECIES: trans-2-enoyl-CoA reductase family protein [Pseudomonas]\n",
            "\n",
            "\n",
            "MIIKPRVRGFICVTTHPAGCEANVKQQIDYVEAKGPVVNGPKKVLVIGSSTGYGLAARITAAFGSGADTLGVFFERPGSESKPGTAGWYNSAAFEKFAHEKGLYARSINGDAFSDEVKRLTIETIKRDLGKVDLVVYSLAAPRRTHPKSGEVFSSTLKPIGKSVSFRGLDTDKEVIKDVVLEAASDQEVADTVAVMGGEDWQMWIDALLEADVLADGAKTTAFTYLGEKITHDIYWNGSIGAAKKDLDQKVLGIRDKLAPLGGDARVSVLKAVVTQASSAIPMMPLYLSLLFKVMKEQGTHEGCIEQVDGLYRESLYGAEPRLDEEGRLRADYKELQPEVQSRVEELWDKVTNENLYELTDFAGYKSEFLNLFGFEVAGVDYEQDVNPDVQIANLIQA\n"
          ],
          "name": "stdout"
        }
      ]
    },
    {
      "cell_type": "markdown",
      "metadata": {
        "id": "3yjwsX18Cesx"
      },
      "source": [
        "But there additional things we can access, since GenBank files are more information-rich.\n",
        "\n",
        "The most important new thing we can access is called `features`. You would call upon it by inputting `record.features`\n",
        "\n",
        "The data stored in record.features `record.features` is actually a list of dictionaries. We can loop through `record.features` to examine its contents:"
      ]
    },
    {
      "cell_type": "code",
      "metadata": {
        "id": "SBzqj8cPCesx",
        "outputId": "ea173758-7063-4247-81ab-1d4749ca0bd4",
        "colab": {
          "base_uri": "https://localhost:8080/"
        }
      },
      "source": [
        "for feature in record.features:\n",
        "    print(feature)\n",
        "    print('\\n') # for clarity"
      ],
      "execution_count": 34,
      "outputs": [
        {
          "output_type": "stream",
          "text": [
            "type: source\n",
            "location: [0:398]\n",
            "qualifiers:\n",
            "    Key: db_xref, Value: ['taxon:286']\n",
            "    Key: organism, Value: ['Pseudomonas']\n",
            "\n",
            "\n",
            "\n",
            "type: Protein\n",
            "location: [0:398]\n",
            "qualifiers:\n",
            "    Key: calculated_mol_wt, Value: ['43397']\n",
            "    Key: product, Value: ['trans-2-enoyl-CoA reductase family protein']\n",
            "\n",
            "\n",
            "\n",
            "type: Region\n",
            "location: [0:396]\n",
            "qualifiers:\n",
            "    Key: db_xref, Value: ['CDD:237460']\n",
            "    Key: note, Value: ['enoyl-[acyl-carrier-protein] reductase FabV']\n",
            "    Key: region_name, Value: ['PRK13656']\n",
            "\n",
            "\n",
            "\n"
          ],
          "name": "stdout"
        }
      ]
    },
    {
      "cell_type": "markdown",
      "metadata": {
        "id": "I5XjV9mkCesx"
      },
      "source": [
        "From the above, we can see that each loop returns three basic things: type, location, and qualifiers. "
      ]
    },
    {
      "cell_type": "code",
      "metadata": {
        "id": "tHvabPu0Cesx",
        "outputId": "82d01b18-d1ab-4e3c-fb67-6d3ce84c487f",
        "colab": {
          "base_uri": "https://localhost:8080/"
        }
      },
      "source": [
        "# what is the specific feature for?\n",
        "for feature in record.features:\n",
        "    print(feature.type)"
      ],
      "execution_count": 35,
      "outputs": [
        {
          "output_type": "stream",
          "text": [
            "source\n",
            "Protein\n",
            "Region\n"
          ],
          "name": "stdout"
        }
      ]
    },
    {
      "cell_type": "code",
      "metadata": {
        "id": "Tv0_1hTcCesx",
        "outputId": "0e35dcd1-fd7e-4a12-b8e6-f9d607de2621",
        "colab": {
          "base_uri": "https://localhost:8080/"
        }
      },
      "source": [
        "# where in the genome/sequence is the feature of interest located?\n",
        "for feature in record.features:\n",
        "    print(feature.location)"
      ],
      "execution_count": 36,
      "outputs": [
        {
          "output_type": "stream",
          "text": [
            "[0:398]\n",
            "[0:398]\n",
            "[0:396]\n"
          ],
          "name": "stdout"
        }
      ]
    },
    {
      "cell_type": "code",
      "metadata": {
        "id": "9UnDQK2JCesy",
        "outputId": "a106a632-4b41-4fe0-a086-fa8ff7f6546d",
        "colab": {
          "base_uri": "https://localhost:8080/"
        }
      },
      "source": [
        "# the special data associated with the feature\n",
        "for feature in record.features:\n",
        "    print(feature.qualifiers)"
      ],
      "execution_count": 37,
      "outputs": [
        {
          "output_type": "stream",
          "text": [
            "OrderedDict([('organism', ['Pseudomonas']), ('db_xref', ['taxon:286'])])\n",
            "OrderedDict([('product', ['trans-2-enoyl-CoA reductase family protein']), ('calculated_mol_wt', ['43397'])])\n",
            "OrderedDict([('region_name', ['PRK13656']), ('note', ['enoyl-[acyl-carrier-protein] reductase FabV']), ('db_xref', ['CDD:237460'])])\n"
          ],
          "name": "stdout"
        }
      ]
    },
    {
      "cell_type": "markdown",
      "metadata": {
        "id": "WJa1Nv5xCesy"
      },
      "source": [
        "We can access specific information found in `record.features`. **But** we have to make sure we specify the correct `feature.type` first."
      ]
    },
    {
      "cell_type": "code",
      "metadata": {
        "id": "70GkwqVACesy",
        "outputId": "a4340579-7d2b-4573-8894-a6b3a6c156e6",
        "colab": {
          "base_uri": "https://localhost:8080/"
        }
      },
      "source": [
        "# the organism that the sequence belongs to is stored under feature type called 'source'\n",
        "for feature in record.features:\n",
        "    if feature.type == 'source':\n",
        "        print(feature.qualifiers['organism'])"
      ],
      "execution_count": 39,
      "outputs": [
        {
          "output_type": "stream",
          "text": [
            "['Pseudomonas']\n"
          ],
          "name": "stdout"
        }
      ]
    },
    {
      "cell_type": "code",
      "metadata": {
        "id": "LhO0n60BCesy",
        "outputId": "88b835e0-9c56-408a-b597-3a44e0059dc1",
        "colab": {
          "base_uri": "https://localhost:8080/"
        }
      },
      "source": [
        "# the molecular weight is stored under the feature type 'Protein'\n",
        "for feature in record.features:\n",
        "    if feature.type == 'Protein':\n",
        "        print(feature.qualifiers['calculated_mol_wt'])"
      ],
      "execution_count": 19,
      "outputs": [
        {
          "output_type": "stream",
          "text": [
            "['43397']\n"
          ],
          "name": "stdout"
        }
      ]
    },
    {
      "cell_type": "markdown",
      "metadata": {
        "id": "HVpHmNH7Cesy"
      },
      "source": [
        "---\n",
        "### Exercise 4a\n",
        "\n",
        "`print()` each `feature` found in `record.features` in `'fabv_small.gbk'`."
      ]
    },
    {
      "cell_type": "code",
      "metadata": {
        "id": "2_Ar4YjQCesy"
      },
      "source": [
        "for record in SeqIO.parse('fabv_small.gbk', '___'):\n",
        "    for feature in record.___:\n",
        "        print(feature)"
      ],
      "execution_count": null,
      "outputs": []
    },
    {
      "cell_type": "markdown",
      "metadata": {
        "id": "ZnID-tT6Cesy"
      },
      "source": [
        "### Exercise 4b\n",
        "\n",
        "`print()` all the `feature.qualifiers` found in `feature.type` `'Region'`"
      ]
    },
    {
      "cell_type": "code",
      "metadata": {
        "id": "l6z3sdB9Cesy"
      },
      "source": [
        "for record in SeqIO.parse('fabv_small.gbk', '___'):\n",
        "    for feature in record.___:\n",
        "        if feature.___ == 'Region':\n",
        "            print(feature.___)"
      ],
      "execution_count": null,
      "outputs": []
    },
    {
      "cell_type": "markdown",
      "metadata": {
        "id": "Hiq3TlSOCesz"
      },
      "source": [
        "### Exercise 4c\n",
        "\n",
        "`print()` the database cross reference (`'db_xref'`) identifier stored in `feature.qualifiers` that belongs to `feature.type` `'Region'`"
      ]
    },
    {
      "cell_type": "code",
      "metadata": {
        "id": "LxOxfqKPCesz"
      },
      "source": [
        "for record in SeqIO.parse('fabv_small.gbk', '___'):\n",
        "    for feature in record.___:\n",
        "        if feature.___ == 'Region':\n",
        "            print(feature.___['___'])"
      ],
      "execution_count": null,
      "outputs": []
    },
    {
      "cell_type": "markdown",
      "metadata": {
        "id": "sL6zZVecCesz"
      },
      "source": [
        "---\n",
        "\n",
        "After working with fasta files for so long, it might seem that GenBank files are un-necessarily complex, even if its structure can hold more information. And it is true that perhaps for just one gene/protein, we wouldn't want to access the sequence in GenBank format. \n",
        "\n",
        "Where the GenBank format truly shines is for storing assembled whole genomes that are annotated with predicted coding regions, tRNA, rRNA, and other features.\n"
      ]
    },
    {
      "cell_type": "code",
      "metadata": {
        "tags": [],
        "id": "4UHqnFNeCesz"
      },
      "source": [
        "# record-level data will give you the name of the genome and also the nucleotide sequence for the whole assembly. Each contig is a new record.\n",
        "for record in SeqIO.parse('salmonella_genome.gbk','genbank'):\n",
        "    print(record.description)\n",
        "    print(len(record.seq))\n",
        "    print('\\n') # for clarity"
      ],
      "execution_count": null,
      "outputs": []
    },
    {
      "cell_type": "markdown",
      "metadata": {
        "id": "6LmUPX0sCesz"
      },
      "source": [
        "From the above output, we can see that we have a really well-assembled genome. It only has two contigs. The first is the complete chromosomal genome and the second is a circular plasmid. When we examine the lengths, we notice there is a big discrepancy in the number of basepairs each has.\n",
        "\n",
        "\n",
        "We can easily extract some useful metadata about the genomes features. We start by input `record.annotations`. This is will make a wall of text but don't be afraid. It is simply a big dictionary that has a couple of dictionaries within it."
      ]
    },
    {
      "cell_type": "code",
      "metadata": {
        "id": "7TD0lFNXCesz"
      },
      "source": [
        "for record in SeqIO.parse('salmonella_genome.gbk','genbank'):\n",
        "    rec_annot = record.annotations\n",
        "\n",
        "rec_annot"
      ],
      "execution_count": null,
      "outputs": []
    },
    {
      "cell_type": "markdown",
      "metadata": {
        "id": "UTOdeTzECesz"
      },
      "source": [
        "The real meat containing the summary of the overall genomic features is found under `record.annotations['structured_comment']['Genome-Annotation-Data']`"
      ]
    },
    {
      "cell_type": "code",
      "metadata": {
        "id": "ycQNyoj8Cesz"
      },
      "source": [
        "for record in SeqIO.parse('salmonella_genome.gbk','genbank'):\n",
        "    rec_annot_metadata = record.annotations['structured_comment']['Genome-Annotation-Data']\n",
        "\n",
        "rec_annot_metadata"
      ],
      "execution_count": null,
      "outputs": []
    },
    {
      "cell_type": "markdown",
      "metadata": {
        "id": "rqEvBEI3Ces0"
      },
      "source": [
        "We can extract specific items from this dictionary using keywords."
      ]
    },
    {
      "cell_type": "code",
      "metadata": {
        "id": "4-SWNrITCes0"
      },
      "source": [
        "# number of coding sequences\n",
        "for record in SeqIO.parse('salmonella_genome.gbk','genbank'):\n",
        "    n_coding_sequences = record.annotations['structured_comment']['Genome-Annotation-Data']['CDSs (total)']\n",
        "\n",
        "n_coding_sequences"
      ],
      "execution_count": null,
      "outputs": []
    },
    {
      "cell_type": "code",
      "metadata": {
        "id": "LNrofQHUCes0"
      },
      "source": [
        "# number of CRISPR arrays\n",
        "for record in SeqIO.parse('salmonella_genome.gbk','genbank'):\n",
        "    n_crispr_arrays = record.annotations['structured_comment']['Genome-Annotation-Data']['CRISPR Arrays']\n",
        "\n",
        "n_crispr_arrays"
      ],
      "execution_count": null,
      "outputs": []
    },
    {
      "cell_type": "markdown",
      "metadata": {
        "id": "JFM3gV6ECes0"
      },
      "source": [
        "We can also access other parts of `record.annotations`\n"
      ]
    },
    {
      "cell_type": "code",
      "metadata": {
        "id": "ANwB4rw9Ces0"
      },
      "source": [
        "# full taxonomic breakdown\n",
        "for record in SeqIO.parse('salmonella_genome.gbk','genbank'):\n",
        "    genome_taxonomy = record.annotations['taxonomy']\n",
        "\n",
        "genome_taxonomy"
      ],
      "execution_count": null,
      "outputs": []
    },
    {
      "cell_type": "markdown",
      "metadata": {
        "id": "pmmXYZ58Ces0"
      },
      "source": [
        "----\n",
        "\n",
        "### Exercise 5a:\n",
        "\n",
        "Retrieve the list of database cross-reference identifiers stored in `record.dbxrefs`. \n"
      ]
    },
    {
      "cell_type": "code",
      "metadata": {
        "id": "X7e9sODDCes0"
      },
      "source": [
        "for record in SeqIO.___('salmonella_genome.___','genbank'):\n",
        "    genome_assembly_ids = ___.dbxrefs\n",
        "\n",
        "genome_assembly_ids"
      ],
      "execution_count": null,
      "outputs": []
    },
    {
      "cell_type": "markdown",
      "metadata": {
        "id": "4Aw2Nwj4Ces0"
      },
      "source": [
        "### Exercise 5b:\n",
        "\n",
        "from `genome_assembly_ids`, select the `'Assembly'` ID. This is the whole genome identifer for the genome in NCBI"
      ]
    },
    {
      "cell_type": "code",
      "metadata": {
        "id": "75BnL8iwCes1"
      },
      "source": [
        "___[2]"
      ],
      "execution_count": null,
      "outputs": []
    },
    {
      "cell_type": "markdown",
      "metadata": {
        "id": "wq9rJ_04Ces1"
      },
      "source": [
        "### Exercise 5c:\n",
        "\n",
        "Retrieve the number of pseudogenes stored in `record.annotations['structured_comment']['Genome-Annotation-Data']` using the keyword `'Pseudo Genes (total)'`\n"
      ]
    },
    {
      "cell_type": "code",
      "metadata": {
        "id": "yeOHT1VbCes1"
      },
      "source": [
        "for record in SeqIO.parse('salmonella_genome.gbk','genbank'):\n",
        "    n_pseudo_genes = record.___['structured_comment']['Genome-Annotation-Data']['___']\n",
        "\n",
        "n_pseudo_genes"
      ],
      "execution_count": null,
      "outputs": []
    },
    {
      "cell_type": "markdown",
      "metadata": {
        "id": "VPquxWQ3Ces1"
      },
      "source": [
        "### Exercise 5d:\n",
        "\n",
        "Use `len()` to retrieve the length of the **whole** genome. \n",
        "\n",
        "Remember that each `record` object provides information for each contig. Our genome has **two** contigs, so we will need to add up the lengths of `record.seq`"
      ]
    },
    {
      "cell_type": "code",
      "metadata": {
        "id": "E1e1pH4uCes1"
      },
      "source": [
        "total_genome_length = ___\n",
        "\n",
        "for record in SeqIO.parse('salmonella_genome.gbk','genbank'):\n",
        "    contig_length = len(___.___)\n",
        "    total_genome_length = total_genome_length + ___\n",
        "\n",
        "total_genome_length"
      ],
      "execution_count": null,
      "outputs": []
    },
    {
      "cell_type": "markdown",
      "metadata": {
        "id": "De2JetNZCes1"
      },
      "source": [
        "### Exercise 5e:\n",
        "\n",
        "Being able to to quickly go through a genome and extract relevant metadata is a common bioinformatic task. \n",
        "\n",
        "We will put everything we learned in the previous steps of exercise 5 together into a single step. Look at the comments for hints\n",
        "\n",
        "Extract the following metadata: \n",
        "\n",
        "1. NCBI whole-genome id \n",
        "2. number of genes\n",
        "3. number of pseudogenes\n",
        "4. the length of the genome.\n",
        "\n",
        "`append()` the extracted metadata to store_data in that order."
      ]
    },
    {
      "cell_type": "code",
      "metadata": {
        "id": "CpAtB4M0Ces2"
      },
      "source": [
        "store_data = ___\n",
        "\n",
        "total_genome_length = ___\n",
        "\n",
        "for record in SeqIO.parse('salmonella_genome.gbk','genbank'):\n",
        "\n",
        "    # ncbi whole-genome id stored in record\n",
        "    genome_assembly_ids = ___.dbxrefs\n",
        "    ncbi_whole_genome_id = ___[2]\n",
        "\n",
        "    # number of genes stored in record.annotations under keyword 'Genes (coding)'\n",
        "    n_genes = record.___['structured_comment']['Genome-Annotation-Data']['Genes (coding)']\n",
        "\n",
        "    # number of pseudogenes stored in record.annotations under keyword 'Pseudo Genes (total)'\n",
        "    n_pseudo_genes = record.___['structured_comment']['Genome-Annotation-Data']['___']\n",
        "\n",
        "    # length of the genome from getting the len() of record.seq\n",
        "    contig_length = len(record.___)\n",
        "    total_genome_length = total_genome_length + ___\n",
        "\n",
        "    # append items to store_data\n",
        "    store_data.append([ncbi_whole_genome_id, n_genes, n_pseudo_genes, total_genome_length])\n",
        "\n",
        "store_data"
      ],
      "execution_count": null,
      "outputs": []
    },
    {
      "cell_type": "markdown",
      "metadata": {
        "id": "vFME5cZPCes2"
      },
      "source": [
        "### Exercise 5f\n",
        "\n",
        "Extract data from three different `genbank` format salmonella genomes in the `current_directory` using `os.listdir()`. \n",
        "\n",
        "Use the above code as a guide"
      ]
    },
    {
      "cell_type": "code",
      "metadata": {
        "id": "SfFQcx5nCes2"
      },
      "source": [
        "import os\n",
        "\n",
        "current_directory = os.getcwd()\n",
        "\n",
        "store_data = []\n",
        "\n",
        "for file in ___.___(current_directory):\n",
        "    if ___.startswith('salmonella_genome'):\n",
        "        if ___.endswith('.gbk'):\n",
        "\n",
        "            ## use biopython work with each individual genbank file that passess that above two conditions\n",
        "            total_genome_length = 0\n",
        "            for record in SeqIO.parse(file,'genbank'):\n",
        "\n",
        "                # ncbi whole-genome id stored in record\n",
        "                genome_assembly_ids = record.dbxrefs\n",
        "                ncbi_whole_genome_id = genome_assembly_ids[2]\n",
        "\n",
        "                # number of genes stored in record.annotations under keyword 'Genes (coding)'\n",
        "                n_genes = record.annotations['structured_comment']['Genome-Annotation-Data']['Genes (coding)']\n",
        "\n",
        "                # number of pseudogenes stored in record.annotations under keyword 'Pseudo Genes (total)'\n",
        "                n_pseudo_genes = record.annotations['structured_comment']['Genome-Annotation-Data']['Pseudo Genes (total)']\n",
        "\n",
        "                # length of the genome from getting the len() of record.seq\n",
        "                contig_length = len(record.seq)\n",
        "                total_genome_length = total_genome_length + contig_length\n",
        "\n",
        "            # for each genbank file, store the extracted data in the list store_data\n",
        "            store_data.append([ncbi_whole_genome_id, n_genes, n_pseudo_genes, total_genome_length])\n",
        "\n",
        "# convert store_data to a pandas dataframe\n",
        "df = ___.DataFrame(___, columns = ['ncbi_whole_genome_id', 'gene_count', 'pseudogene_count', 'whole_genome_length'])\n",
        "df"
      ],
      "execution_count": null,
      "outputs": []
    },
    {
      "cell_type": "markdown",
      "metadata": {
        "id": "RtBFcV-XCes2"
      },
      "source": [
        "---\n",
        "\n",
        "One last thing to go over are the record.features in a large GenBank file. \n",
        "\n",
        "Let's say we wanted to manually count the number of coding sequences \n",
        "\n"
      ]
    },
    {
      "cell_type": "code",
      "metadata": {
        "id": "RPVxEFyVCes3"
      },
      "source": [
        "# record-level data will give you the name of the genome and also the nucleotide sequence for the whole assembly. Each contig is a new record.\n",
        "cds_count = 0\n",
        "\n",
        "for record in SeqIO.parse('salmonella_genome.gbk','genbank'):\n",
        "    for feature in record.features:\n",
        "        if feature.type == 'CDS':\n",
        "            cds_count = cds_count + 1\n",
        "\n",
        "cds_count"
      ],
      "execution_count": null,
      "outputs": []
    },
    {
      "cell_type": "markdown",
      "metadata": {
        "id": "j6cHdEMMCes3"
      },
      "source": [
        "Or, let's say we want to make a list of all the gene products descriptions in our genome for further analysis"
      ]
    },
    {
      "cell_type": "code",
      "metadata": {
        "id": "-ACU4bh1Ces3"
      },
      "source": [
        "product_list = []\n",
        "\n",
        "for record in SeqIO.parse('salmonella_genome.gbk','genbank'):\n",
        "    for feature in record.features:\n",
        "        if feature.type == 'CDS':\n",
        "            product_list.append(feature.qualifiers['product'][0])\n",
        "\n",
        "product_list"
      ],
      "execution_count": null,
      "outputs": []
    },
    {
      "cell_type": "markdown",
      "metadata": {
        "id": "JIwWyxvYCes3"
      },
      "source": [
        "There are a lot of products here. What if we wanted to find only the ones that are involved in conjugal transfer? Also, are these genes located in the chromosomal or plasmid DNA, or both?"
      ]
    },
    {
      "cell_type": "code",
      "metadata": {
        "id": "crYopVGjCes3"
      },
      "source": [
        "conjugal_transfer_list = []\n",
        "\n",
        "for record in SeqIO.parse('salmonella_genome.gbk','genbank'):\n",
        "    for feature in record.features:\n",
        "        if feature.type == 'CDS':\n",
        "            if feature.qualifiers['product'][0].lower().find('conjugal') > -1:\n",
        "                conjugal_transfer_list.append([record.description,feature.qualifiers['product'][0]])\n",
        "\n",
        "\n",
        "\n",
        "df = pd.DataFrame(conjugal_transfer_list, columns = ['record_description','product'])\n",
        "df"
      ],
      "execution_count": null,
      "outputs": []
    },
    {
      "cell_type": "markdown",
      "metadata": {
        "id": "jLH5zKJbCes3"
      },
      "source": [
        "Surprisingly, conjujgal transfer genes were only found on the chromosome. In the next exercise, let's get all the gene products found in the plasmid."
      ]
    },
    {
      "cell_type": "markdown",
      "metadata": {
        "id": "LQZSAGOGCes3"
      },
      "source": [
        "---\n",
        "\n",
        "### Exercise 6a:\n",
        "\n",
        "As has been stated before, in a whole-genome GenBank file, each record is a contig in the genome. In our genome .gbk, there are only two contigs, chromosomal and plasmid contigs. \n",
        "\n",
        "`print()` the `record.id` of each contig.\n",
        "\n"
      ]
    },
    {
      "cell_type": "code",
      "metadata": {
        "id": "SbQvHRr6Ces4"
      },
      "source": [
        "for record in SeqIO.parse('salmonella_genome.gbk','genbank'):\n",
        "    print(___)"
      ],
      "execution_count": null,
      "outputs": []
    },
    {
      "cell_type": "markdown",
      "metadata": {
        "id": "j6x_GKtwCes4"
      },
      "source": [
        "### Exercise 6b:\n",
        "\n",
        "The second contig (the plasmid contig) has the record.id `NZ_CP059062.1`\n",
        "\n",
        "\n",
        "\n",
        "Let's set our loop so that when the `record.id` is `NZ_CP059062.1`, a variable called `product_description` is created from each `feature.qualifiers['product'][0]` when `feature.type` is `CDS`.  \n",
        "\n",
        "`append()` the `product_description` to the list `plasmid_products`"
      ]
    },
    {
      "cell_type": "code",
      "metadata": {
        "id": "OI6vBg7hCes4"
      },
      "source": [
        "plasmid_products = ___\n",
        "\n",
        "for record in SeqIO.parse('salmonella_genome.gbk','genbank'):\n",
        "    if record.id == '___':\n",
        "        for feature in record.features:\n",
        "            if feature.type == 'CDS':\n",
        "                product_description = feature.qualifiers['___'][0]\n",
        "                ___.append(product_description)\n",
        "\n",
        "plasmid_products"
      ],
      "execution_count": null,
      "outputs": []
    },
    {
      "cell_type": "markdown",
      "metadata": {
        "id": "p2ODHx9zCes4"
      },
      "source": [
        "### Exercise 6c:\n",
        "\n",
        "Do the same as in exercise 6b, but also extract the `ncbi_accession`, which is the gene ID, that is stored in `feature.qualifiers' under the keyword 'locus_tag'.\n",
        "\n",
        "`append()` both the `ncbi_accession` and `product_description` to `plasmid_products`\n",
        "\n",
        "Convert the list to a `pd.DataFrame()` with `columns` `'ncbi_accession'` and `'plasmid_products'`"
      ]
    },
    {
      "cell_type": "code",
      "metadata": {
        "id": "--ReiH_8Ces4"
      },
      "source": [
        "plasmid_products = ___\n",
        "\n",
        "for record in SeqIO.parse('salmonella_genome.gbk','genbank'):\n",
        "    if record.id == '___':\n",
        "        for feature in record.features:\n",
        "            if feature.type == 'CDS':\n",
        "                product_description = feature.qualifiers['___'][0]\n",
        "                ncbi_accession = feature.___['locus_tag'][0]\n",
        "                \n",
        "                plasmid_products.append([___, ___])\n",
        "\n",
        "df = ___.DataFrame(___, columns = ['ncbi_accession','plasmid_products'])\n",
        "df"
      ],
      "execution_count": null,
      "outputs": []
    },
    {
      "cell_type": "markdown",
      "metadata": {
        "id": "BvuXwIITCes4"
      },
      "source": [
        "---\n",
        "\n",
        "That's it for Day 4! "
      ]
    }
  ]
}