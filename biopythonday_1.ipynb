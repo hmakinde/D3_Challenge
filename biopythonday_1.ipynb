{
  "nbformat": 4,
  "nbformat_minor": 0,
  "metadata": {
    "language_info": {
      "codemirror_mode": {
        "name": "ipython",
        "version": 3
      },
      "file_extension": ".py",
      "mimetype": "text/x-python",
      "name": "python",
      "nbconvert_exporter": "python",
      "pygments_lexer": "ipython3",
      "version": "3.8.5"
    },
    "orig_nbformat": 4,
    "kernelspec": {
      "name": "python3",
      "display_name": "Python 3.8.5 64-bit ('myenv': conda)"
    },
    "interpreter": {
      "hash": "f5c9dfabb21bd2a91b63810df81acbdc6b5e617e45414f0ef050ca96090c868f"
    },
    "colab": {
      "name": "day_1.ipynb",
      "provenance": []
    }
  },
  "cells": [
    {
      "cell_type": "markdown",
      "metadata": {
        "id": "CksFggqzmWQF"
      },
      "source": [
        "# Welcome to Day 1! \n",
        "\n",
        "## Introduction to strings, Biopython, and Biopython sequences\n",
        "\n",
        "### Section 1: String manipulation in Python\n",
        "\n",
        "\n",
        "### Section 2: Installing and importing Biopython \n",
        "\n",
        "\n",
        "### Section 3: Working with sequences using Biopython \n",
        "\n",
        "----\n",
        "## Session summary\n",
        "\n",
        "Our first session will have a slow pace to make sure everyone's jupyter notebook is working correctly and that everyone has a basic understanding of strings in Python, which is important for understanding Biopython. Afterwards, we will load up Biopython and get to work modifying sequences!\n",
        "\n",
        "----"
      ]
    },
    {
      "cell_type": "markdown",
      "metadata": {
        "id": "LHX6e4WlmWQH"
      },
      "source": [
        "# Section 1: String manipulation in Python\n",
        "\n",
        "A string in Python is any set of characters between a single quotes or double quotes.  "
      ]
    },
    {
      "cell_type": "code",
      "metadata": {
        "colab": {
          "base_uri": "https://localhost:8080/",
          "height": 35
        },
        "id": "njdTiFGhmWQI",
        "outputId": "b8d1353f-9d46-42ae-c317-7ed3be327eae"
      },
      "source": [
        "# this is a string\n",
        "'this is a string'"
      ],
      "execution_count": 1,
      "outputs": [
        {
          "output_type": "execute_result",
          "data": {
            "application/vnd.google.colaboratory.intrinsic+json": {
              "type": "string"
            },
            "text/plain": [
              "'this is a string'"
            ]
          },
          "metadata": {
            "tags": []
          },
          "execution_count": 1
        }
      ]
    },
    {
      "cell_type": "code",
      "metadata": {
        "colab": {
          "base_uri": "https://localhost:8080/",
          "height": 35
        },
        "id": "pVSARblAmWQI",
        "outputId": "cac8538c-9bb4-4e38-a156-4e560adc0df9"
      },
      "source": [
        "# this is also a string\n",
        "\"this is also a string\""
      ],
      "execution_count": 2,
      "outputs": [
        {
          "output_type": "execute_result",
          "data": {
            "application/vnd.google.colaboratory.intrinsic+json": {
              "type": "string"
            },
            "text/plain": [
              "'this is also a string'"
            ]
          },
          "metadata": {
            "tags": []
          },
          "execution_count": 2
        }
      ]
    },
    {
      "cell_type": "markdown",
      "metadata": {
        "id": "gPIINfkbmWQJ"
      },
      "source": [
        "Strings can be manipulated using basic Python syntax.\n",
        "\n",
        "One way is to use brackets with a colon `[ : ]` to indicate the range of characters in a string that you wish to keep. `[start:stop]`"
      ]
    },
    {
      "cell_type": "code",
      "metadata": {
        "colab": {
          "base_uri": "https://localhost:8080/",
          "height": 35
        },
        "id": "iEI-vTHvmWQJ",
        "outputId": "0e989301-fa5b-49e7-c770-1ef35cbd6705"
      },
      "source": [
        "# [start:stop]\n",
        "# remove the first four characters of the string\n",
        "'this is a string'[4:]"
      ],
      "execution_count": 3,
      "outputs": [
        {
          "output_type": "execute_result",
          "data": {
            "application/vnd.google.colaboratory.intrinsic+json": {
              "type": "string"
            },
            "text/plain": [
              "' is a string'"
            ]
          },
          "metadata": {
            "tags": []
          },
          "execution_count": 3
        }
      ]
    },
    {
      "cell_type": "code",
      "metadata": {
        "colab": {
          "base_uri": "https://localhost:8080/",
          "height": 35
        },
        "id": "GzCtFbCnmWQK",
        "outputId": "87111124-5030-4d2e-e254-fc2b777d5c01"
      },
      "source": [
        "# keep the first 12 characters \n",
        "'this is a string'[:12]"
      ],
      "execution_count": 4,
      "outputs": [
        {
          "output_type": "execute_result",
          "data": {
            "application/vnd.google.colaboratory.intrinsic+json": {
              "type": "string"
            },
            "text/plain": [
              "'this is a st'"
            ]
          },
          "metadata": {
            "tags": []
          },
          "execution_count": 4
        }
      ]
    },
    {
      "cell_type": "code",
      "metadata": {
        "colab": {
          "base_uri": "https://localhost:8080/",
          "height": 35
        },
        "id": "Jo-N5ukFmWQL",
        "outputId": "27b4adf3-e9ff-4911-ffd6-4dde20d1cea7"
      },
      "source": [
        "# remove the last four characters\n",
        "'this is a string'[:-4]"
      ],
      "execution_count": 5,
      "outputs": [
        {
          "output_type": "execute_result",
          "data": {
            "application/vnd.google.colaboratory.intrinsic+json": {
              "type": "string"
            },
            "text/plain": [
              "'this is a st'"
            ]
          },
          "metadata": {
            "tags": []
          },
          "execution_count": 5
        }
      ]
    },
    {
      "cell_type": "code",
      "metadata": {
        "colab": {
          "base_uri": "https://localhost:8080/",
          "height": 35
        },
        "id": "MfUFxF4WmWQL",
        "outputId": "6d544abf-cb97-4afe-a221-765bd151744b"
      },
      "source": [
        "# keep the middle 5-10 characters\n",
        "'this is a string'[4:10]"
      ],
      "execution_count": 6,
      "outputs": [
        {
          "output_type": "execute_result",
          "data": {
            "application/vnd.google.colaboratory.intrinsic+json": {
              "type": "string"
            },
            "text/plain": [
              "' is a '"
            ]
          },
          "metadata": {
            "tags": []
          },
          "execution_count": 6
        }
      ]
    },
    {
      "cell_type": "markdown",
      "metadata": {
        "id": "DOxvL4bHmWQM"
      },
      "source": [
        "---\n",
        "\n",
        "### Exercise 1\n",
        "\n",
        "Complete the code to show only characters `'string'`. \n",
        "\n",
        "**Hint: replace the ___ with the correct character position.**"
      ]
    },
    {
      "cell_type": "code",
      "metadata": {
        "colab": {
          "base_uri": "https://localhost:8080/",
          "height": 35
        },
        "id": "H2qYwc9pmWQM",
        "outputId": "ecbcb307-6293-4b34-d6fe-0d5ebcc6f2e1"
      },
      "source": [
        "'this is a string'[10:]"
      ],
      "execution_count": 11,
      "outputs": [
        {
          "output_type": "execute_result",
          "data": {
            "application/vnd.google.colaboratory.intrinsic+json": {
              "type": "string"
            },
            "text/plain": [
              "'string'"
            ]
          },
          "metadata": {
            "tags": []
          },
          "execution_count": 11
        }
      ]
    },
    {
      "cell_type": "markdown",
      "metadata": {
        "id": "CYt8IqvbmWQN"
      },
      "source": [
        "---\n",
        "\n",
        "Rather than typing out the string each time, we can save it to a variable."
      ]
    },
    {
      "cell_type": "code",
      "metadata": {
        "colab": {
          "base_uri": "https://localhost:8080/",
          "height": 35
        },
        "id": "ZzUwaaBamWQN",
        "outputId": "dae65553-9b63-4c58-cec5-d49f2a33e5c3"
      },
      "source": [
        " string_var = 'this is a string'\n",
        "\n",
        " string_var"
      ],
      "execution_count": 10,
      "outputs": [
        {
          "output_type": "execute_result",
          "data": {
            "application/vnd.google.colaboratory.intrinsic+json": {
              "type": "string"
            },
            "text/plain": [
              "'this is a string'"
            ]
          },
          "metadata": {
            "tags": []
          },
          "execution_count": 10
        }
      ]
    },
    {
      "cell_type": "markdown",
      "metadata": {
        "id": "xfyj1s84mWQN"
      },
      "source": [
        "We can still manipulate the string variable using brackets as before"
      ]
    },
    {
      "cell_type": "code",
      "metadata": {
        "colab": {
          "base_uri": "https://localhost:8080/",
          "height": 35
        },
        "id": "eW1PRPM6mWQN",
        "outputId": "4cf51883-bf04-45fe-8630-4f5dd8b07725"
      },
      "source": [
        "# [start:stop]\n",
        "# remove the first four characters of the string\n",
        "string_var[4:]"
      ],
      "execution_count": 12,
      "outputs": [
        {
          "output_type": "execute_result",
          "data": {
            "application/vnd.google.colaboratory.intrinsic+json": {
              "type": "string"
            },
            "text/plain": [
              "' is a string'"
            ]
          },
          "metadata": {
            "tags": []
          },
          "execution_count": 12
        }
      ]
    },
    {
      "cell_type": "code",
      "metadata": {
        "colab": {
          "base_uri": "https://localhost:8080/",
          "height": 35
        },
        "id": "xhmTpnWvmWQO",
        "outputId": "30de4914-2b03-4d22-f1cb-84e5a161ff40"
      },
      "source": [
        "# keep the first 12 characters \n",
        "string_var[:12]"
      ],
      "execution_count": 13,
      "outputs": [
        {
          "output_type": "execute_result",
          "data": {
            "application/vnd.google.colaboratory.intrinsic+json": {
              "type": "string"
            },
            "text/plain": [
              "'this is a st'"
            ]
          },
          "metadata": {
            "tags": []
          },
          "execution_count": 13
        }
      ]
    },
    {
      "cell_type": "code",
      "metadata": {
        "colab": {
          "base_uri": "https://localhost:8080/",
          "height": 35
        },
        "id": "_27jx6REmWQO",
        "outputId": "112514bb-58a7-43ef-88a6-aaa54b3338dd"
      },
      "source": [
        "# remove the last four characters\n",
        "string_var[:-4]"
      ],
      "execution_count": 14,
      "outputs": [
        {
          "output_type": "execute_result",
          "data": {
            "application/vnd.google.colaboratory.intrinsic+json": {
              "type": "string"
            },
            "text/plain": [
              "'this is a st'"
            ]
          },
          "metadata": {
            "tags": []
          },
          "execution_count": 14
        }
      ]
    },
    {
      "cell_type": "code",
      "metadata": {
        "colab": {
          "base_uri": "https://localhost:8080/",
          "height": 35
        },
        "id": "QuMhq7L5mWQO",
        "outputId": "96091e6f-197d-4c43-f762-f5c45b7bf763"
      },
      "source": [
        "# keep the middle 5-10 characters\n",
        "string_var[4:10]"
      ],
      "execution_count": 15,
      "outputs": [
        {
          "output_type": "execute_result",
          "data": {
            "application/vnd.google.colaboratory.intrinsic+json": {
              "type": "string"
            },
            "text/plain": [
              "' is a '"
            ]
          },
          "metadata": {
            "tags": []
          },
          "execution_count": 15
        }
      ]
    },
    {
      "cell_type": "markdown",
      "metadata": {
        "id": "J1v8LnAomWQO"
      },
      "source": [
        "However, the string_var itself is not affected. It still `returns` 'this is a string'"
      ]
    },
    {
      "cell_type": "code",
      "metadata": {
        "colab": {
          "base_uri": "https://localhost:8080/",
          "height": 35
        },
        "id": "xI521vGwmWQO",
        "outputId": "979cf0a2-79f6-439f-fa9f-534e6ba9ece9"
      },
      "source": [
        "string_var"
      ],
      "execution_count": 16,
      "outputs": [
        {
          "output_type": "execute_result",
          "data": {
            "application/vnd.google.colaboratory.intrinsic+json": {
              "type": "string"
            },
            "text/plain": [
              "'this is a string'"
            ]
          },
          "metadata": {
            "tags": []
          },
          "execution_count": 16
        }
      ]
    },
    {
      "cell_type": "markdown",
      "metadata": {
        "id": "fu5tfgAlmWQP"
      },
      "source": [
        "We can change the string within string_var with a modified string easily"
      ]
    },
    {
      "cell_type": "code",
      "metadata": {
        "colab": {
          "base_uri": "https://localhost:8080/",
          "height": 35
        },
        "id": "prBFIRAkmWQP",
        "outputId": "e1b60fad-d936-4217-e6b0-68a8586cb48f"
      },
      "source": [
        "string_var = string_var[4:]\n",
        "string_var"
      ],
      "execution_count": 17,
      "outputs": [
        {
          "output_type": "execute_result",
          "data": {
            "application/vnd.google.colaboratory.intrinsic+json": {
              "type": "string"
            },
            "text/plain": [
              "' is a string'"
            ]
          },
          "metadata": {
            "tags": []
          },
          "execution_count": 17
        }
      ]
    },
    {
      "cell_type": "markdown",
      "metadata": {
        "id": "KfAv56vKmWQP"
      },
      "source": [
        "Difference between `return` and `print()`\n",
        "\n",
        "So far we have been using `return`. When you assign a variable some value and then type it out, the value of the most recent variable is returned:"
      ]
    },
    {
      "cell_type": "code",
      "metadata": {
        "colab": {
          "base_uri": "https://localhost:8080/",
          "height": 35
        },
        "id": "IuGDtuOHmWQP",
        "outputId": "b7a4b70e-decb-4463-c73b-8a9e09db70b7"
      },
      "source": [
        "variable1 = 'hello'\n",
        "variable2 = 'hi'\n",
        "\n",
        "variable1\n",
        "variable2"
      ],
      "execution_count": 19,
      "outputs": [
        {
          "output_type": "execute_result",
          "data": {
            "application/vnd.google.colaboratory.intrinsic+json": {
              "type": "string"
            },
            "text/plain": [
              "'hi'"
            ]
          },
          "metadata": {
            "tags": []
          },
          "execution_count": 19
        }
      ]
    },
    {
      "cell_type": "markdown",
      "metadata": {
        "id": "gdXMwZbpmWQP"
      },
      "source": [
        "Only the value of variable 2 is present. If we use `print()`, things work a little differently"
      ]
    },
    {
      "cell_type": "code",
      "metadata": {
        "colab": {
          "base_uri": "https://localhost:8080/"
        },
        "id": "d38vhl7rmWQQ",
        "outputId": "4bc5a354-0a07-4f2d-9b1f-e36a6614d549"
      },
      "source": [
        "variable1 = 'hello'\n",
        "variable2 = 'hi'\n",
        "\n",
        "print(variable1)\n",
        "print(variable2)"
      ],
      "execution_count": 20,
      "outputs": [
        {
          "output_type": "stream",
          "text": [
            "hello\n",
            "hi\n"
          ],
          "name": "stdout"
        }
      ]
    },
    {
      "cell_type": "markdown",
      "metadata": {
        "id": "knvB3jR9mWQQ"
      },
      "source": [
        "Now the value of both variables is visible to us. \n",
        "\n",
        "As we go forward, there will be times where it is simpler to `return` a value and other times when we need multiple values to be displayed to us, in which case we will use `print()`"
      ]
    },
    {
      "cell_type": "markdown",
      "metadata": {
        "id": "JaQdgY-0mWQQ"
      },
      "source": [
        "---\n",
        "### Exercise 2a\n",
        "Assign a string, `'my new string'` to `string_var_2`. Next, `print()` `string_var_2`"
      ]
    },
    {
      "cell_type": "code",
      "metadata": {
        "colab": {
          "base_uri": "https://localhost:8080/"
        },
        "id": "26SqohVkmWQQ",
        "outputId": "c5050d71-f60d-4230-813b-f83c168f9b91"
      },
      "source": [
        "string_var_2 = 'my new string'\n",
        "print(string_var_2)"
      ],
      "execution_count": 21,
      "outputs": [
        {
          "output_type": "stream",
          "text": [
            "my new string\n"
          ],
          "name": "stdout"
        }
      ]
    },
    {
      "cell_type": "markdown",
      "metadata": {
        "id": "8Kf-dFVZmWQQ"
      },
      "source": [
        "### Exercise 2b\n",
        "Make a new variable called `string_var_3` that contrains only the 4th-6th characters of `string_var_2`. `Print()` `string_var_3`"
      ]
    },
    {
      "cell_type": "code",
      "metadata": {
        "colab": {
          "base_uri": "https://localhost:8080/"
        },
        "id": "wrY5mmIkmWQR",
        "outputId": "e60a1c12-4af6-4681-8157-4cc2667305e0"
      },
      "source": [
        "string_var_3 = string_var_2[3:6]\n",
        "print(string_var_3)"
      ],
      "execution_count": 22,
      "outputs": [
        {
          "output_type": "stream",
          "text": [
            "new\n"
          ],
          "name": "stdout"
        }
      ]
    },
    {
      "cell_type": "markdown",
      "metadata": {
        "id": "xXd4jrUnmWQR"
      },
      "source": [
        "---\n",
        "There are additional Python functions that can modify sequences. One group are the `upper()`, `lower()` functions."
      ]
    },
    {
      "cell_type": "code",
      "metadata": {
        "colab": {
          "base_uri": "https://localhost:8080/"
        },
        "id": "yK_IW8HjmWQR",
        "outputId": "b350d174-439a-41ad-b090-8c81a897abfb"
      },
      "source": [
        "string_var_4 = 'I_Am_A_beAuTifUl_sTrIng'\n",
        "# make all characters upper case\n",
        "print(string_var_4.upper())\n",
        "# make all lower case\n",
        "print(string_var_4.lower())"
      ],
      "execution_count": 23,
      "outputs": [
        {
          "output_type": "stream",
          "text": [
            "I_AM_A_BEAUTIFUL_STRING\n",
            "i_am_a_beautiful_string\n"
          ],
          "name": "stdout"
        }
      ]
    },
    {
      "cell_type": "markdown",
      "metadata": {
        "id": "1_Nt9MPGmWQR"
      },
      "source": [
        "The replace() function is also very useful. It will replace all characters with another character or string of interst, or even an empty space `''`"
      ]
    },
    {
      "cell_type": "code",
      "metadata": {
        "colab": {
          "base_uri": "https://localhost:8080/",
          "height": 35
        },
        "id": "t3ONKoD6mWQR",
        "outputId": "0201a7ca-4fc0-4822-cd8d-9fe11b0d99af"
      },
      "source": [
        "# replace beAuTifUl with and empty string (effectively deleting it)\n",
        "string_var_4.replace('beAuTifUl','')"
      ],
      "execution_count": 24,
      "outputs": [
        {
          "output_type": "execute_result",
          "data": {
            "application/vnd.google.colaboratory.intrinsic+json": {
              "type": "string"
            },
            "text/plain": [
              "'I_Am_A__sTrIng'"
            ]
          },
          "metadata": {
            "tags": []
          },
          "execution_count": 24
        }
      ]
    },
    {
      "cell_type": "code",
      "metadata": {
        "colab": {
          "base_uri": "https://localhost:8080/",
          "height": 35
        },
        "id": "tosswPR-mWQR",
        "outputId": "5a9d1095-2727-4aa2-f3dd-33ab7a7e3443"
      },
      "source": [
        "# replace beAuTifUl with a new string\n",
        "string_var_4.replace('beAuTifUl','GREAT')"
      ],
      "execution_count": 25,
      "outputs": [
        {
          "output_type": "execute_result",
          "data": {
            "application/vnd.google.colaboratory.intrinsic+json": {
              "type": "string"
            },
            "text/plain": [
              "'I_Am_A_GREAT_sTrIng'"
            ]
          },
          "metadata": {
            "tags": []
          },
          "execution_count": 25
        }
      ]
    },
    {
      "cell_type": "code",
      "metadata": {
        "colab": {
          "base_uri": "https://localhost:8080/",
          "height": 35
        },
        "id": "JxBK532FmWQR",
        "outputId": "215186b3-74fc-4251-a920-2621ec4d5692"
      },
      "source": [
        "# replace all underscores with a space\n",
        "string_var_4.replace('_',' ')"
      ],
      "execution_count": 26,
      "outputs": [
        {
          "output_type": "execute_result",
          "data": {
            "application/vnd.google.colaboratory.intrinsic+json": {
              "type": "string"
            },
            "text/plain": [
              "'I Am A beAuTifUl sTrIng'"
            ]
          },
          "metadata": {
            "tags": []
          },
          "execution_count": 26
        }
      ]
    },
    {
      "cell_type": "markdown",
      "metadata": {
        "id": "YO2eT47smWQS"
      },
      "source": [
        "You can also add a string to another string using the + operator. You can create new variables from this too."
      ]
    },
    {
      "cell_type": "code",
      "metadata": {
        "colab": {
          "base_uri": "https://localhost:8080/",
          "height": 35
        },
        "id": "6bC8dbpzmWQS",
        "outputId": "6ea565f4-2e1e-4ec2-ff26-3779926cb1fe"
      },
      "source": [
        "# add exclamation marks\n",
        "string_var_4+'!!!!!'"
      ],
      "execution_count": 27,
      "outputs": [
        {
          "output_type": "execute_result",
          "data": {
            "application/vnd.google.colaboratory.intrinsic+json": {
              "type": "string"
            },
            "text/plain": [
              "'I_Am_A_beAuTifUl_sTrIng!!!!!'"
            ]
          },
          "metadata": {
            "tags": []
          },
          "execution_count": 27
        }
      ]
    },
    {
      "cell_type": "code",
      "metadata": {
        "colab": {
          "base_uri": "https://localhost:8080/",
          "height": 35
        },
        "id": "D8cPZ_rzmWQS",
        "outputId": "4bb31da1-799e-4e36-9330-f77ae6d2bf1e"
      },
      "source": [
        "# add question marks and save to new variable \n",
        "string_var_4_modified = string_var_4+'???'\n",
        "string_var_4_modified"
      ],
      "execution_count": 28,
      "outputs": [
        {
          "output_type": "execute_result",
          "data": {
            "application/vnd.google.colaboratory.intrinsic+json": {
              "type": "string"
            },
            "text/plain": [
              "'I_Am_A_beAuTifUl_sTrIng???'"
            ]
          },
          "metadata": {
            "tags": []
          },
          "execution_count": 28
        }
      ]
    },
    {
      "cell_type": "markdown",
      "metadata": {
        "id": "Q3RNfiVXmWQS"
      },
      "source": [
        "---\n",
        "### Exercise 3a\n",
        "\n",
        "Assign `string_var_4` to a new variable called `string_var_5`. `print()` `string_var_5`"
      ]
    },
    {
      "cell_type": "code",
      "metadata": {
        "colab": {
          "base_uri": "https://localhost:8080/"
        },
        "id": "D2TeIFIJmWQS",
        "outputId": "7798ec32-7528-48e1-dceb-25f6947ac048"
      },
      "source": [
        "string_var_5 = string_var_4\n",
        "print(string_var_5)"
      ],
      "execution_count": 30,
      "outputs": [
        {
          "output_type": "stream",
          "text": [
            "I_Am_A_beAuTifUl_sTrIng\n"
          ],
          "name": "stdout"
        }
      ]
    },
    {
      "cell_type": "markdown",
      "metadata": {
        "id": "RrzB9Q-ymWQS"
      },
      "source": [
        "### Exercise 3b\n",
        "Add the string `'i think'` to `string_var_5`. Then `replace()` all underscores with hyphens (-). Finally, `print()` `string_var_5`!"
      ]
    },
    {
      "cell_type": "code",
      "metadata": {
        "colab": {
          "base_uri": "https://localhost:8080/"
        },
        "id": "Rm4SNlDlmWQS",
        "outputId": "e69bb76f-745b-4e9c-fe39-475ccba200df"
      },
      "source": [
        "string_var_5 = string_var_5+' i think'\n",
        "\n",
        "string_var_5 = string_var_5.replace('_', '-')\n",
        "\n",
        "print(string_var_5)"
      ],
      "execution_count": 34,
      "outputs": [
        {
          "output_type": "stream",
          "text": [
            "I Am A beAuTifUl sTrIngi think i think\n"
          ],
          "name": "stdout"
        }
      ]
    },
    {
      "cell_type": "markdown",
      "metadata": {
        "id": "YSAN_1GtmWQT"
      },
      "source": [
        "Now that we have covered strings, it is time to move on to Biopython"
      ]
    },
    {
      "cell_type": "markdown",
      "metadata": {
        "id": "RL2Zezc8mWQT"
      },
      "source": [
        "# Section 2: Installing and importing Biopython\n",
        "\n",
        "Installing the Biopython package is simple:"
      ]
    },
    {
      "cell_type": "code",
      "metadata": {
        "colab": {
          "base_uri": "https://localhost:8080/"
        },
        "id": "dM_S0kKgmWQT",
        "outputId": "e372c4d2-6da4-4d47-996d-6b43cc97d70d"
      },
      "source": [
        "pip install Biopython"
      ],
      "execution_count": 35,
      "outputs": [
        {
          "output_type": "stream",
          "text": [
            "Collecting Biopython\n",
            "  Downloading biopython-1.79-cp37-cp37m-manylinux_2_5_x86_64.manylinux1_x86_64.whl (2.3 MB)\n",
            "\u001b[K     |████████████████████████████████| 2.3 MB 7.7 MB/s \n",
            "\u001b[?25hRequirement already satisfied: numpy in /usr/local/lib/python3.7/dist-packages (from Biopython) (1.19.5)\n",
            "Installing collected packages: Biopython\n",
            "Successfully installed Biopython-1.79\n"
          ],
          "name": "stdout"
        }
      ]
    },
    {
      "cell_type": "markdown",
      "metadata": {
        "id": "_bAMtNOImWQT"
      },
      "source": [
        "If you have Biopython already installed, we need to makes sure that it is version 1.78 or greater."
      ]
    },
    {
      "cell_type": "code",
      "metadata": {
        "id": "AkGD7pnCmWQT"
      },
      "source": [
        "pip install Biopython --upgrade"
      ],
      "execution_count": null,
      "outputs": []
    },
    {
      "cell_type": "markdown",
      "metadata": {
        "id": "7pxc9r-SmWQT"
      },
      "source": [
        "`import` the Biopython package to make sure that it downloaded succesfully. Note that the package's name is `Bio`"
      ]
    },
    {
      "cell_type": "code",
      "metadata": {
        "id": "BkUmiVv8mWQT"
      },
      "source": [
        "# When you run this cell, there should be no errors\n",
        "import Bio"
      ],
      "execution_count": 36,
      "outputs": []
    },
    {
      "cell_type": "markdown",
      "metadata": {
        "id": "bLqgh8VPmWQT"
      },
      "source": [
        "Check the version of Biopython. It should be `1.79`"
      ]
    },
    {
      "cell_type": "code",
      "metadata": {
        "colab": {
          "base_uri": "https://localhost:8080/",
          "height": 35
        },
        "id": "02koXpvhmWQT",
        "outputId": "b0663a8a-44a4-44f1-d48b-b3e67eac5992"
      },
      "source": [
        "Bio.__version__"
      ],
      "execution_count": 37,
      "outputs": [
        {
          "output_type": "execute_result",
          "data": {
            "application/vnd.google.colaboratory.intrinsic+json": {
              "type": "string"
            },
            "text/plain": [
              "'1.79'"
            ]
          },
          "metadata": {
            "tags": []
          },
          "execution_count": 37
        }
      ]
    },
    {
      "cell_type": "markdown",
      "metadata": {
        "id": "LziTBEcsmWQU"
      },
      "source": [
        "That's it for installing Bioython!"
      ]
    },
    {
      "cell_type": "markdown",
      "metadata": {
        "id": "0WMPpm42mWQU"
      },
      "source": [
        "# Section 3: Working with sequences using Biopython\n",
        "\n",
        "Now that we have reviewed the basics of strings in Python we are ready to adapt them to biological sequences and learn how to work with them using Biopython.\n",
        "\n",
        "Let's make a short DNA sequence and check what class of data Python sees it as"
      ]
    },
    {
      "cell_type": "code",
      "metadata": {
        "colab": {
          "base_uri": "https://localhost:8080/",
          "height": 35
        },
        "id": "qEC9b_9emWQU",
        "outputId": "b2496303-1d57-427b-ded8-06eab256c710"
      },
      "source": [
        "# make string\n",
        "short_dna = 'atgtacgacaacgccagcaccaggatcaacggc'\n",
        "short_dna"
      ],
      "execution_count": 38,
      "outputs": [
        {
          "output_type": "execute_result",
          "data": {
            "application/vnd.google.colaboratory.intrinsic+json": {
              "type": "string"
            },
            "text/plain": [
              "'atgtacgacaacgccagcaccaggatcaacggc'"
            ]
          },
          "metadata": {
            "tags": []
          },
          "execution_count": 38
        }
      ]
    },
    {
      "cell_type": "code",
      "metadata": {
        "colab": {
          "base_uri": "https://localhost:8080/"
        },
        "id": "4gQEY7e2mWQU",
        "outputId": "f6d4099e-487d-4cf1-90ca-75a01acb5130"
      },
      "source": [
        "# check what class of variable\n",
        "type(short_dna)"
      ],
      "execution_count": 39,
      "outputs": [
        {
          "output_type": "execute_result",
          "data": {
            "text/plain": [
              "str"
            ]
          },
          "metadata": {
            "tags": []
          },
          "execution_count": 39
        }
      ]
    },
    {
      "cell_type": "markdown",
      "metadata": {
        "id": "PINcNH9fmWQU"
      },
      "source": [
        "\n",
        "We will start by importing Biopython's **Seq** module (Seq is shorthand for Sequence) and comparing it to a basic Python string.\n",
        "\n",
        "Biopython's Seq module is designed to work with sequences. We will convert short_dna to a Seq **object**"
      ]
    },
    {
      "cell_type": "code",
      "metadata": {
        "id": "qixmTlhjmWQU"
      },
      "source": [
        "# import the Seq module\n",
        "from Bio.Seq import Seq"
      ],
      "execution_count": 40,
      "outputs": []
    },
    {
      "cell_type": "code",
      "metadata": {
        "colab": {
          "base_uri": "https://localhost:8080/"
        },
        "id": "kzIuT12pmWQU",
        "outputId": "d9933424-06a0-44bf-fe72-4df76176913c"
      },
      "source": [
        "# convert short_dna to a Seq object\n",
        "short_dna = Seq(short_dna)\n",
        "short_dna"
      ],
      "execution_count": 41,
      "outputs": [
        {
          "output_type": "execute_result",
          "data": {
            "text/plain": [
              "Seq('atgtacgacaacgccagcaccaggatcaacggc')"
            ]
          },
          "metadata": {
            "tags": []
          },
          "execution_count": 41
        }
      ]
    },
    {
      "cell_type": "code",
      "metadata": {
        "colab": {
          "base_uri": "https://localhost:8080/"
        },
        "id": "stN4Av4MmWQU",
        "outputId": "89eb5849-9021-418d-9a6b-756d995cc789"
      },
      "source": [
        "#The Biopython Seq class\n",
        "type(short_dna)"
      ],
      "execution_count": 42,
      "outputs": [
        {
          "output_type": "execute_result",
          "data": {
            "text/plain": [
              "Bio.Seq.Seq"
            ]
          },
          "metadata": {
            "tags": []
          },
          "execution_count": 42
        }
      ]
    },
    {
      "cell_type": "markdown",
      "metadata": {
        "id": "A-Dnx0RumWQV"
      },
      "source": [
        "### What does it mean for short_dna to be a Seq object? \n",
        "\n",
        "When a variable like short_dna is converted to a Seq object, it tells Biopython that short_dna has certain properties, like whether it is a DNA, RNA, or a protein sequence. It also tells Biopython that certain functions that can be performed on sequences, like `translate()` or calculating its `reverse_complement()`, can be performed on it.\n",
        "\n",
        "Here are some useful functions that can be applied to DNA seq object"
      ]
    },
    {
      "cell_type": "code",
      "metadata": {
        "id": "8oItQqd7mWQV"
      },
      "source": [
        "# make a Seq object from a string of DNA characters\n",
        "seq_object_dna = Seq('atgtacgacaacgccagcaccaggatcaacggc')"
      ],
      "execution_count": 43,
      "outputs": []
    },
    {
      "cell_type": "code",
      "metadata": {
        "colab": {
          "base_uri": "https://localhost:8080/"
        },
        "id": "oK_uyRUrmWQV",
        "outputId": "87c5c3e6-0df7-41a5-c76a-f09576ca1df6"
      },
      "source": [
        "seq_object_dna"
      ],
      "execution_count": 44,
      "outputs": [
        {
          "output_type": "execute_result",
          "data": {
            "text/plain": [
              "Seq('atgtacgacaacgccagcaccaggatcaacggc')"
            ]
          },
          "metadata": {
            "tags": []
          },
          "execution_count": 44
        }
      ]
    },
    {
      "cell_type": "code",
      "metadata": {
        "colab": {
          "base_uri": "https://localhost:8080/"
        },
        "id": "y3QDM4ZRmWQV",
        "outputId": "923a5b07-806d-46dd-a5ee-5b76f2de9880"
      },
      "source": [
        "# translate\n",
        "seq_object_dna.translate()"
      ],
      "execution_count": 45,
      "outputs": [
        {
          "output_type": "execute_result",
          "data": {
            "text/plain": [
              "Seq('MYDNASTRING')"
            ]
          },
          "metadata": {
            "tags": []
          },
          "execution_count": 45
        }
      ]
    },
    {
      "cell_type": "code",
      "metadata": {
        "colab": {
          "base_uri": "https://localhost:8080/"
        },
        "id": "EP6A4fbWmWQV",
        "outputId": "c8fa663b-a424-495d-b1a9-4bfa87dd5765"
      },
      "source": [
        "# transcribe\n",
        "seq_object_dna.transcribe()"
      ],
      "execution_count": 46,
      "outputs": [
        {
          "output_type": "execute_result",
          "data": {
            "text/plain": [
              "Seq('auguacgacaacgccagcaccaggaucaacggc')"
            ]
          },
          "metadata": {
            "tags": []
          },
          "execution_count": 46
        }
      ]
    },
    {
      "cell_type": "code",
      "metadata": {
        "colab": {
          "base_uri": "https://localhost:8080/"
        },
        "id": "oWjjqTlnmWQW",
        "outputId": "006f5423-67d2-4ab6-f9d2-6501e4541b09"
      },
      "source": [
        "# reverse complement\n",
        "seq_object_dna.reverse_complement()"
      ],
      "execution_count": 47,
      "outputs": [
        {
          "output_type": "execute_result",
          "data": {
            "text/plain": [
              "Seq('gccgttgatcctggtgctggcgttgtcgtacat')"
            ]
          },
          "metadata": {
            "tags": []
          },
          "execution_count": 47
        }
      ]
    },
    {
      "cell_type": "code",
      "metadata": {
        "colab": {
          "base_uri": "https://localhost:8080/"
        },
        "id": "rm_BgKZzmWQW",
        "outputId": "4aac11e9-a6fd-4e70-da80-dc91ad629843"
      },
      "source": [
        "# complement\n",
        "seq_object_dna.complement()"
      ],
      "execution_count": 48,
      "outputs": [
        {
          "output_type": "execute_result",
          "data": {
            "text/plain": [
              "Seq('tacatgctgttgcggtcgtggtcctagttgccg')"
            ]
          },
          "metadata": {
            "tags": []
          },
          "execution_count": 48
        }
      ]
    },
    {
      "cell_type": "code",
      "metadata": {
        "colab": {
          "base_uri": "https://localhost:8080/"
        },
        "id": "qDjz4BcKmWQW",
        "outputId": "f64afbbf-14b3-43bd-892b-85644d9bf5b6"
      },
      "source": [
        "# convert sequence to upper case\n",
        "seq_object_dna.upper()"
      ],
      "execution_count": 49,
      "outputs": [
        {
          "output_type": "execute_result",
          "data": {
            "text/plain": [
              "Seq('ATGTACGACAACGCCAGCACCAGGATCAACGGC')"
            ]
          },
          "metadata": {
            "tags": []
          },
          "execution_count": 49
        }
      ]
    },
    {
      "cell_type": "code",
      "metadata": {
        "colab": {
          "base_uri": "https://localhost:8080/"
        },
        "id": "8y3cJ__6mWQW",
        "outputId": "b47495d2-380b-46ec-bb30-d28bccc3e1c8"
      },
      "source": [
        "# convert sequence to lower case\n",
        "seq_object_dna.lower()"
      ],
      "execution_count": 50,
      "outputs": [
        {
          "output_type": "execute_result",
          "data": {
            "text/plain": [
              "Seq('atgtacgacaacgccagcaccaggatcaacggc')"
            ]
          },
          "metadata": {
            "tags": []
          },
          "execution_count": 50
        }
      ]
    },
    {
      "cell_type": "markdown",
      "metadata": {
        "id": "E9yEj15umWQW"
      },
      "source": [
        "We can check that seq_object_dna is a Biopython Seq object by entering the value and **returning** the code. A Seq object will have `Seq()` returned as part of the value. \n"
      ]
    },
    {
      "cell_type": "code",
      "metadata": {
        "colab": {
          "base_uri": "https://localhost:8080/"
        },
        "id": "V6qlKwRumWQW",
        "outputId": "cadaf0ad-ee8e-477e-f6ca-4ad90f1d51b1"
      },
      "source": [
        "seq_object_dna"
      ],
      "execution_count": 51,
      "outputs": [
        {
          "output_type": "execute_result",
          "data": {
            "text/plain": [
              "Seq('atgtacgacaacgccagcaccaggatcaacggc')"
            ]
          },
          "metadata": {
            "tags": []
          },
          "execution_count": 51
        }
      ]
    },
    {
      "cell_type": "markdown",
      "metadata": {
        "id": "Yla9CC1MmWQW"
      },
      "source": [
        "What if our sequence was not a Seq object, but instead a normal Python string? For example if we try to translate a string, we will get an error. This is because string_dna does not have any information about what can and can't be done to it with Biopython functions."
      ]
    },
    {
      "cell_type": "code",
      "metadata": {
        "colab": {
          "base_uri": "https://localhost:8080/",
          "height": 198
        },
        "id": "zAd3sD8WmWQW",
        "outputId": "398ee04d-d57b-419c-e8b7-b2f335743509"
      },
      "source": [
        "# same dna as above but not a seq object\n",
        "string_dna = 'atgtacgacaacgccagcaccaggatcaacggc'\n",
        "# trying to use translate\n",
        "string_dna.translate()"
      ],
      "execution_count": 52,
      "outputs": [
        {
          "output_type": "error",
          "ename": "TypeError",
          "evalue": "ignored",
          "traceback": [
            "\u001b[0;31m---------------------------------------------------------------------------\u001b[0m",
            "\u001b[0;31mTypeError\u001b[0m                                 Traceback (most recent call last)",
            "\u001b[0;32m<ipython-input-52-850a5d928b47>\u001b[0m in \u001b[0;36m<module>\u001b[0;34m()\u001b[0m\n\u001b[1;32m      2\u001b[0m \u001b[0mstring_dna\u001b[0m \u001b[0;34m=\u001b[0m \u001b[0;34m'atgtacgacaacgccagcaccaggatcaacggc'\u001b[0m\u001b[0;34m\u001b[0m\u001b[0;34m\u001b[0m\u001b[0m\n\u001b[1;32m      3\u001b[0m \u001b[0;31m# trying to use translate\u001b[0m\u001b[0;34m\u001b[0m\u001b[0;34m\u001b[0m\u001b[0;34m\u001b[0m\u001b[0m\n\u001b[0;32m----> 4\u001b[0;31m \u001b[0mstring_dna\u001b[0m\u001b[0;34m.\u001b[0m\u001b[0mtranslate\u001b[0m\u001b[0;34m(\u001b[0m\u001b[0;34m)\u001b[0m\u001b[0;34m\u001b[0m\u001b[0;34m\u001b[0m\u001b[0m\n\u001b[0m",
            "\u001b[0;31mTypeError\u001b[0m: translate() takes exactly one argument (0 given)"
          ]
        }
      ]
    },
    {
      "cell_type": "markdown",
      "metadata": {
        "id": "l7GeJx5xmWQW"
      },
      "source": [
        "---\n",
        "### Exercise 4a\n",
        "Assign the string `'aacgagtggagcgagcaggagaactgcgag'` to a new variable called `dna_seq` and `print()` `dna_seq`. \n",
        "\n",
        "Afterwards, convert `dna_seq` to a Seq object using `Seq()` and `print `dna_seq`. \n",
        "\n",
        "Are the classes different?"
      ]
    },
    {
      "cell_type": "code",
      "metadata": {
        "colab": {
          "base_uri": "https://localhost:8080/"
        },
        "id": "zRu6EKXjmWQX",
        "outputId": "cd8ba0ac-b34f-44f0-90da-bfd2a6be34de"
      },
      "source": [
        "# assign the string 'aacgagtggagcgagcaggagaactgcgag' to dna_seq\n",
        "dna_seq = 'aacgagtggagcgagcaggagaactgcgag'\n",
        "print(type(dna_seq)) \n",
        "\n",
        "# convert the string 'aacgagtggagcgagcaggagaactgcgag' to a Seq object and assign to dna_seq\n",
        "dna_seq = Seq('aacgagtggagcgagcaggagaactgcgag')\n",
        "print(type(dna_seq))"
      ],
      "execution_count": 55,
      "outputs": [
        {
          "output_type": "stream",
          "text": [
            "<class 'str'>\n",
            "<class 'Bio.Seq.Seq'>\n",
            "aacgagtggagcgagcaggagaactgcgag\n"
          ],
          "name": "stdout"
        }
      ]
    },
    {
      "cell_type": "markdown",
      "metadata": {
        "id": "gp3tX2GamWQX"
      },
      "source": [
        "### Exercise 4b\n",
        "`translate()` the Seq object `dna_seq` and store the result in a variable called `translated_seq`. Then `print()` it."
      ]
    },
    {
      "cell_type": "code",
      "metadata": {
        "colab": {
          "base_uri": "https://localhost:8080/"
        },
        "id": "7Y1VKQWYmWQX",
        "outputId": "9b472495-ac97-471d-bb45-1c415422316a"
      },
      "source": [
        "translated_seq = dna_seq.translate()\n",
        "print(translated_seq)"
      ],
      "execution_count": 56,
      "outputs": [
        {
          "output_type": "stream",
          "text": [
            "NEWSEQENCE\n"
          ],
          "name": "stdout"
        }
      ]
    },
    {
      "cell_type": "markdown",
      "metadata": {
        "id": "aqmUWbrSmWQX"
      },
      "source": [
        "### Exercise 4c\n",
        "Take the `reverse_complement()` of `dna_seq` and store it in `dna_seq_rc`. `print()` `dna_seq_rc`\n",
        "\n"
      ]
    },
    {
      "cell_type": "code",
      "metadata": {
        "colab": {
          "base_uri": "https://localhost:8080/"
        },
        "id": "B6dToiHhmWQX",
        "outputId": "d82b7988-c4c4-4a92-80f8-84ab372cbfa2"
      },
      "source": [
        "dna_seq_rc = dna_seq.reverse_complement()\n",
        "print(dna_seq_rc)"
      ],
      "execution_count": 57,
      "outputs": [
        {
          "output_type": "stream",
          "text": [
            "ctcgcagttctcctgctcgctccactcgtt\n"
          ],
          "name": "stdout"
        }
      ]
    },
    {
      "cell_type": "markdown",
      "metadata": {
        "id": "0-f6iC_ImWQX"
      },
      "source": [
        "---\n",
        "We can add and remove sequences that belong to an existing sequence."
      ]
    },
    {
      "cell_type": "code",
      "metadata": {
        "id": "8gHzObC8mWQX"
      },
      "source": [
        "short_seq = Seq('agccacaggaccagcgagcag')"
      ],
      "execution_count": 58,
      "outputs": []
    },
    {
      "cell_type": "code",
      "metadata": {
        "id": "BzMKm4-omWQX"
      },
      "source": [
        "longer_seq = short_seq + Seq('aacgagtgggacaacgcc')"
      ],
      "execution_count": 59,
      "outputs": []
    },
    {
      "cell_type": "code",
      "metadata": {
        "colab": {
          "base_uri": "https://localhost:8080/"
        },
        "id": "s4P1Gg2zmWQX",
        "outputId": "45c93fda-8862-4393-bf30-f02974e0d568"
      },
      "source": [
        "longer_seq"
      ],
      "execution_count": 60,
      "outputs": [
        {
          "output_type": "execute_result",
          "data": {
            "text/plain": [
              "Seq('agccacaggaccagcgagcagaacgagtgggacaacgcc')"
            ]
          },
          "metadata": {
            "tags": []
          },
          "execution_count": 60
        }
      ]
    },
    {
      "cell_type": "markdown",
      "metadata": {
        "id": "NL8WmjtimWQY"
      },
      "source": [
        "What if we want to select only some parts of the sequence?\n",
        "\n",
        "We can work the `Seq` object as if though it were a string."
      ]
    },
    {
      "cell_type": "code",
      "metadata": {
        "colab": {
          "base_uri": "https://localhost:8080/"
        },
        "id": "2LeaC51LmWQY",
        "outputId": "1c8a07b3-825d-4654-d1d8-6d7da1de95d3"
      },
      "source": [
        "# select first 10 characters in longer_seq\n",
        "longer_seq[:10]"
      ],
      "execution_count": 61,
      "outputs": [
        {
          "output_type": "execute_result",
          "data": {
            "text/plain": [
              "Seq('agccacagga')"
            ]
          },
          "metadata": {
            "tags": []
          },
          "execution_count": 61
        }
      ]
    },
    {
      "cell_type": "code",
      "metadata": {
        "colab": {
          "base_uri": "https://localhost:8080/"
        },
        "id": "7jChY-G_mWQY",
        "outputId": "fdbba66d-fb9f-437e-f281-232f1252bff2"
      },
      "source": [
        "# select 6th-10th characters in longer_seq\n",
        "longer_seq[5:10]"
      ],
      "execution_count": 62,
      "outputs": [
        {
          "output_type": "execute_result",
          "data": {
            "text/plain": [
              "Seq('cagga')"
            ]
          },
          "metadata": {
            "tags": []
          },
          "execution_count": 62
        }
      ]
    },
    {
      "cell_type": "code",
      "metadata": {
        "colab": {
          "base_uri": "https://localhost:8080/"
        },
        "id": "AE2oqx-gmWQY",
        "outputId": "6528a984-5015-4b38-f1f3-62b6f436f122"
      },
      "source": [
        "# store the selected results in a variable called subset_seq\n",
        "subset_seq = longer_seq[5:10]\n",
        "subset_seq"
      ],
      "execution_count": 63,
      "outputs": [
        {
          "output_type": "execute_result",
          "data": {
            "text/plain": [
              "Seq('cagga')"
            ]
          },
          "metadata": {
            "tags": []
          },
          "execution_count": 63
        }
      ]
    },
    {
      "cell_type": "markdown",
      "metadata": {
        "id": "IPLNTGijmWQY"
      },
      "source": [
        "---\n",
        "### Exercise 5a\n",
        "\n",
        "Make a `Seq()` object with the sequence `'PRTIENSEQ'` and assign it to the variable `my_prtn_seq1`"
      ]
    },
    {
      "cell_type": "code",
      "metadata": {
        "colab": {
          "base_uri": "https://localhost:8080/"
        },
        "id": "IIpzfAsPmWQY",
        "outputId": "f3f4f539-ba6a-41d5-be54-2d8269fbe1a0"
      },
      "source": [
        "my_prtn_seq1 = Seq('PRTIENSEQ')\n",
        "\n",
        "my_prtn_seq1"
      ],
      "execution_count": 64,
      "outputs": [
        {
          "output_type": "execute_result",
          "data": {
            "text/plain": [
              "Seq('PRTIENSEQ')"
            ]
          },
          "metadata": {
            "tags": []
          },
          "execution_count": 64
        }
      ]
    },
    {
      "cell_type": "markdown",
      "metadata": {
        "id": "48cotchAmWQY"
      },
      "source": [
        "### Exercise 5b\n",
        "Create a new protein `Seq()` object, `my_prtn_seq2` with the sequence `'HISTAG'`.\n",
        "\n",
        "Afterwards, add (`+`) the sequence from `my_prtn_seq2` to `my_prtn_seq1`"
      ]
    },
    {
      "cell_type": "code",
      "metadata": {
        "colab": {
          "base_uri": "https://localhost:8080/"
        },
        "id": "dAJfPUbcmWQZ",
        "outputId": "e8f48c18-542f-4b77-cff0-23de149720fd"
      },
      "source": [
        "my_prtn_seq2 = Seq('HISTAG')\n",
        "my_prtn_seq2 + my_prtn_seq1 "
      ],
      "execution_count": 66,
      "outputs": [
        {
          "output_type": "execute_result",
          "data": {
            "text/plain": [
              "Seq('HISTAGPRTIENSEQ')"
            ]
          },
          "metadata": {
            "tags": []
          },
          "execution_count": 66
        }
      ]
    },
    {
      "cell_type": "markdown",
      "metadata": {
        "id": "da-2qjXPmWQZ"
      },
      "source": [
        "### Exercise 5c\n",
        "\n",
        "Make a new variable called `my_prtn_seq3` that contains only the second-fifth amino acids `from my_prtn_seq1`"
      ]
    },
    {
      "cell_type": "code",
      "metadata": {
        "colab": {
          "base_uri": "https://localhost:8080/"
        },
        "id": "u_7KNmfvmWQZ",
        "outputId": "edc3655e-67ff-4cf9-da94-e973a77595a4"
      },
      "source": [
        "my_prtn_seq3 = my_prtn_seq1[1:5]\n",
        "my_prtn_seq3"
      ],
      "execution_count": 67,
      "outputs": [
        {
          "output_type": "execute_result",
          "data": {
            "text/plain": [
              "Seq('RTIE')"
            ]
          },
          "metadata": {
            "tags": []
          },
          "execution_count": 67
        }
      ]
    },
    {
      "cell_type": "markdown",
      "metadata": {
        "id": "0yzXLN9bmWQZ"
      },
      "source": [
        "### Exercise 5d\n",
        "\n",
        "Add (`+`) `my_prtn_seq2` to `my_prtn_seq3` and store the result in `my_prtn_seq4`"
      ]
    },
    {
      "cell_type": "code",
      "metadata": {
        "colab": {
          "base_uri": "https://localhost:8080/"
        },
        "id": "6ObFP3jwmWQZ",
        "outputId": "82b1204b-9333-4457-af6b-6abe8864633e"
      },
      "source": [
        "my_prtn_seq4 = my_prtn_seq2 + my_prtn_seq3\n",
        "\n",
        "my_prtn_seq4"
      ],
      "execution_count": 68,
      "outputs": [
        {
          "output_type": "execute_result",
          "data": {
            "text/plain": [
              "Seq('HISTAGRTIE')"
            ]
          },
          "metadata": {
            "tags": []
          },
          "execution_count": 68
        }
      ]
    },
    {
      "cell_type": "markdown",
      "metadata": {
        "id": "r3OfyeIYmWQZ"
      },
      "source": [
        "---\n",
        "\n",
        "That's it for Day 1!"
      ]
    }
  ]
}